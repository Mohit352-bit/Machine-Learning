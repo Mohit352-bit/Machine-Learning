{
 "cells": [
  {
   "cell_type": "markdown",
   "metadata": {
    "colab_type": "text",
    "id": "view-in-github"
   },
   "source": [
    "<a href=\"https://colab.research.google.com/github/Mohit352-bit/Machine-Learning/blob/main/Neural%20Network/Cat_and_Dog_Identifier.ipynb\" target=\"_parent\"><img src=\"https://colab.research.google.com/assets/colab-badge.svg\" alt=\"Open In Colab\"/></a>"
   ]
  },
  {
   "cell_type": "markdown",
   "metadata": {
    "id": "tp5Ujbput7VE"
   },
   "source": [
    "### ----------------------------------------------------------------------------------------------------------------------------------------------------------------\n",
    "\n",
    "using zip file from gdrive for fast uploading"
   ]
  },
  {
   "cell_type": "code",
   "execution_count": null,
   "metadata": {
    "colab": {
     "base_uri": "https://localhost:8080/"
    },
    "id": "D4OKAN0mfThc",
    "outputId": "24e0c2a5-fc5f-4d7a-c482-93b79a53f5ea"
   },
   "outputs": [
    {
     "name": "stdout",
     "output_type": "stream",
     "text": [
      "Mounted at /content/gdrive\n"
     ]
    }
   ],
   "source": [
    "#mounting(connecting) the gdrive with colab\n",
    "from google.colab import drive\n",
    "drive.mount('/content/gdrive')"
   ]
  },
  {
   "cell_type": "code",
   "execution_count": null,
   "metadata": {
    "colab": {
     "base_uri": "https://localhost:8080/"
    },
    "id": "pCdMGKBgjKOi",
    "outputId": "d96728ab-fdab-4364-cc9a-cd33b99b2e41"
   },
   "outputs": [
    {
     "name": "stdout",
     "output_type": "stream",
     "text": [
      "'Class 12 Result.pdf'\n",
      "'Colab Notebooks'\n",
      "'Copy of Invoice-Template-sheet-printable-5.gsheet'\n",
      " Horse_Human\n",
      "'How to get started with Drive.pdf'\n",
      " istockphoto-1319763895-612x612.jpg\n",
      " Male_female\n",
      " MohitINT353CA2.pdf\n",
      "'mohit mark.jpg'\n",
      " Mohit-Srivastava.pdf\n",
      " Mohit_Srivastava_resume.pdf\n",
      "'Pasport size '\n",
      " pexels-helena-lopes-1996332.jpg\n",
      " REsume.pdf\n",
      "'Screenshot (111).png'\n",
      "'Screenshot (124).png'\n",
      "'Screenshot 2022-06-30 215216.jpeg.png'\n",
      " Screenshot_2022-09-01-15-42-46-955_net.one97.paytm.jpg\n",
      " Screenshot_2022-09-30-16-23-32-285_com.microsoft.teams.pdf\n",
      "'Screenshot (75).png'\n",
      " tied.jfif\n",
      " unknown.png\n",
      " Untitled1.ipynb\n"
     ]
    }
   ],
   "source": [
    "# getting the list of all files in myDrive\n",
    "!ls gdrive/MyDrive"
   ]
  },
  {
   "cell_type": "code",
   "execution_count": null,
   "metadata": {
    "id": "zQ60N1hcSU79"
   },
   "outputs": [],
   "source": [
    "import zipfile\n",
    "\n",
    "# Extract the archive\n",
    "zip_ref = zipfile.ZipFile(\"gdrive/MyDrive/Cat_Dogs/cats_and_dogs_filtered.zip\", 'r')\n",
    "zip_ref.extractall(\"tmp/\")\n",
    "zip_ref.close()"
   ]
  },
  {
   "cell_type": "code",
   "execution_count": null,
   "metadata": {
    "colab": {
     "base_uri": "https://localhost:8080/"
    },
    "id": "wtCybafuTcSr",
    "outputId": "cdb717bf-8d48-464d-e674-9f3ae76bcaf7"
   },
   "outputs": [
    {
     "name": "stdout",
     "output_type": "stream",
     "text": [
      "['cat.146.jpg', 'cat.602.jpg', 'cat.446.jpg', 'cat.955.jpg', 'cat.644.jpg', 'cat.93.jpg', 'cat.968.jpg', 'cat.477.jpg', 'cat.229.jpg', 'cat.316.jpg']\n",
      "['dog.370.jpg', 'dog.387.jpg', 'dog.568.jpg', 'dog.694.jpg', 'dog.395.jpg', 'dog.436.jpg', 'dog.106.jpg', 'dog.560.jpg', 'dog.580.jpg', 'dog.438.jpg']\n"
     ]
    }
   ],
   "source": [
    "import os\n",
    "train_cat_names = os.listdir(\"tmp/cats_and_dogs_filtered/train/cats\")\n",
    "print(train_cat_names[:10])\n",
    "train_dog_names = os.listdir(\"tmp/cats_and_dogs_filtered/train/dogs\")\n",
    "print(train_dog_names[:10])"
   ]
  },
  {
   "cell_type": "markdown",
   "metadata": {
    "id": "9OpFjRWbuc7F"
   },
   "source": [
    "### Uploading image files in Jupyter Notebook"
   ]
  },
  {
   "cell_type": "code",
   "execution_count": 1,
   "metadata": {
    "id": "Ghe8p9l8umNB"
   },
   "outputs": [
    {
     "name": "stdout",
     "output_type": "stream",
     "text": [
      "Current working directory: C:\\Users\\mohit\\Downloads\\Compressed\\cats_and_dogs_filtered\\cats_and_dogs_filtered\n"
     ]
    }
   ],
   "source": [
    "import os\n",
    "\n",
    "# changing the working directory\n",
    "os.chdir('C:/Users/mohit/Downloads/Compressed/cats_and_dogs_filtered/cats_and_dogs_filtered')\n",
    "\n",
    "#variable storing the directory address\n",
    "cwd = os.getcwd() \n",
    "      \n",
    "# Printing the current working \n",
    "# directory (CWD) \n",
    "print(\"Current working directory:\", cwd) \n"
   ]
  },
  {
   "cell_type": "code",
   "execution_count": 2,
   "metadata": {
    "id": "QO4uuyDDumD1"
   },
   "outputs": [],
   "source": [
    "#storing path of training horse pictures\n",
    "train_dogs_dir_path = os.path.join('train/dogs')\n",
    "\n",
    "#storing path of training human pictures\n",
    "train_cats_dir_path = os.path.join('train/cats')"
   ]
  },
  {
   "cell_type": "code",
   "execution_count": 3,
   "metadata": {
    "id": "OSKw0lzkul-u"
   },
   "outputs": [
    {
     "name": "stdout",
     "output_type": "stream",
     "text": [
      "['dog.0.jpg', 'dog.1.jpg', 'dog.10.jpg', 'dog.100.jpg', 'dog.101.jpg', 'dog.102.jpg', 'dog.103.jpg', 'dog.104.jpg', 'dog.105.jpg', 'dog.106.jpg']\n",
      "['cat.0.jpg', 'cat.1.jpg', 'cat.10.jpg', 'cat.100.jpg', 'cat.101.jpg', 'cat.102.jpg', 'cat.103.jpg', 'cat.104.jpg', 'cat.105.jpg', 'cat.106.jpg']\n"
     ]
    }
   ],
   "source": [
    "# list of files in dog and cat folder\n",
    "train_dogs_names = os.listdir(train_dogs_dir_path)\n",
    "print(train_dogs_names[:10])\n",
    "train_cats_names = os.listdir(train_cats_dir_path)\n",
    "print(train_cats_names[:10])"
   ]
  },
  {
   "cell_type": "markdown",
   "metadata": {
    "id": "T9hh-1x7ulrt"
   },
   "source": [
    "## -------------------------------------------------------------------------------------------------------------------------------\n"
   ]
  },
  {
   "cell_type": "markdown",
   "metadata": {
    "id": "a7H2IyXohum9"
   },
   "source": [
    "# Creating CNN Model ⚓"
   ]
  },
  {
   "cell_type": "code",
   "execution_count": 4,
   "metadata": {
    "id": "eG3fNMxoh2zb"
   },
   "outputs": [],
   "source": [
    "import tensorflow as tf\n",
    "from tensorflow.keras.optimizers import RMSprop"
   ]
  },
  {
   "cell_type": "code",
   "execution_count": 37,
   "metadata": {
    "id": "AyLMuhWniNwP"
   },
   "outputs": [],
   "source": [
    "model = tf.keras.models.Sequential([\n",
    "    tf.keras.layers.Conv2D(32, (3,3) , input_shape=(300,300,3), activation='relu'),\n",
    "    tf.keras.layers.MaxPool2D(2,2),\n",
    "    tf.keras.layers.Conv2D(64, (3,3), activation='relu'),\n",
    "    tf.keras.layers.MaxPool2D(2,2),\n",
    "    tf.keras.layers.Conv2D(128, (3,3), activation='relu'),\n",
    "    tf.keras.layers.MaxPool2D(2,2),\n",
    "    tf.keras.layers.Conv2D(128, (3,3), activation='relu'),\n",
    "    tf.keras.layers.MaxPool2D(2,2),\n",
    "    tf.keras.layers.Flatten(),\n",
    "    tf.keras.layers.Dense(1024 , activation=\"relu\"),\n",
    "    tf.keras.layers.Dense(1, activation = 'sigmoid')\n",
    "])\n",
    "\n",
    "# we are using sigmoid as activation instead of softmax because it works better than softmax in binary classification (i.e. when we have 2 outputs to compare dogs and cats)\n",
    "# we can also use softmax here as (2 , activation=\"softmax\") but the sigmoid activation is more efficient here.\n",
    "# softmax is used when there is more than 2 calssification\n",
    "\n",
    "## site to learn which is best optimizer --- https://gombru.github.io/2018/05/23/cross_entropy_loss/"
   ]
  },
  {
   "cell_type": "code",
   "execution_count": 38,
   "metadata": {
    "colab": {
     "base_uri": "https://localhost:8080/"
    },
    "id": "Q_oJvE27kFK2",
    "outputId": "afa712d6-1eef-43f6-c641-a0f419261edb"
   },
   "outputs": [
    {
     "name": "stdout",
     "output_type": "stream",
     "text": [
      "Model: \"sequential_2\"\n",
      "_________________________________________________________________\n",
      "Layer (type)                 Output Shape              Param #   \n",
      "=================================================================\n",
      "conv2d_8 (Conv2D)            (None, 298, 298, 32)      896       \n",
      "_________________________________________________________________\n",
      "max_pooling2d_8 (MaxPooling2 (None, 149, 149, 32)      0         \n",
      "_________________________________________________________________\n",
      "conv2d_9 (Conv2D)            (None, 147, 147, 64)      18496     \n",
      "_________________________________________________________________\n",
      "max_pooling2d_9 (MaxPooling2 (None, 73, 73, 64)        0         \n",
      "_________________________________________________________________\n",
      "conv2d_10 (Conv2D)           (None, 71, 71, 128)       73856     \n",
      "_________________________________________________________________\n",
      "max_pooling2d_10 (MaxPooling (None, 35, 35, 128)       0         \n",
      "_________________________________________________________________\n",
      "conv2d_11 (Conv2D)           (None, 33, 33, 128)       147584    \n",
      "_________________________________________________________________\n",
      "max_pooling2d_11 (MaxPooling (None, 16, 16, 128)       0         \n",
      "_________________________________________________________________\n",
      "flatten_2 (Flatten)          (None, 32768)             0         \n",
      "_________________________________________________________________\n",
      "dense_4 (Dense)              (None, 1024)              33555456  \n",
      "_________________________________________________________________\n",
      "dense_5 (Dense)              (None, 1)                 1025      \n",
      "=================================================================\n",
      "Total params: 33,797,313\n",
      "Trainable params: 33,797,313\n",
      "Non-trainable params: 0\n",
      "_________________________________________________________________\n"
     ]
    }
   ],
   "source": [
    "model.summary()"
   ]
  },
  {
   "cell_type": "code",
   "execution_count": 39,
   "metadata": {
    "id": "Sx0hGKA1lbtH"
   },
   "outputs": [],
   "source": [
    "model.compile(loss = 'binary_crossentropy' , \n",
    "              optimizer=RMSprop(learning_rate=0.001) ,\n",
    "              metrics=['accuracy'] )\n",
    "\n",
    "## we are using RMSprop intead of SGD because rmsprop , adam , adagard automatically adapt the learning rate whereas SGD dont\n",
    "## we are using binary crossentropy cause there is binary output \n",
    "# ## site to learn which is best loss function  --- https://gombru.github.io/2018/05/23/cross_entropy_loss/"
   ]
  },
  {
   "cell_type": "markdown",
   "metadata": {
    "id": "RgkP9DvQsvJ6"
   },
   "source": [
    "Now using ImageDataGenrator lib to rescale the image and convert it into binary form,"
   ]
  },
  {
   "cell_type": "code",
   "execution_count": 40,
   "metadata": {
    "colab": {
     "base_uri": "https://localhost:8080/"
    },
    "id": "DBVh6ZDKs84W",
    "outputId": "940e0434-ffd0-4038-ec6a-688700093476"
   },
   "outputs": [
    {
     "name": "stdout",
     "output_type": "stream",
     "text": [
      "Found 2000 images belonging to 2 classes.\n",
      "Found 1000 images belonging to 2 classes.\n"
     ]
    }
   ],
   "source": [
    "from tensorflow.keras.preprocessing.image import ImageDataGenerator\n",
    "\n",
    "train_gen = ImageDataGenerator(rescale = 1/255)\n",
    "\n",
    "train_data = train_gen.flow_from_directory( \n",
    "    \"train/\", # path of main directory \n",
    "    target_size = (300 ,300) , # resizing all the images to 300x300\n",
    "    batch_size = 10 , #images are taken from the directory in batches and we are taking 128 image per batch\n",
    "    class_mode = \"binary\" # we use binary class mode as loss funtion is using binary crossentropy and output is binary\n",
    "\n",
    ")\n",
    "\n",
    "#for validation set \n",
    "val_gen = ImageDataGenerator(rescale = 1/255)\n",
    "\n",
    "val_data = train_gen.flow_from_directory( \n",
    "    \"validation/\",  \n",
    "    target_size = (300 ,300) , \n",
    "    batch_size = 10 , \n",
    "    class_mode = \"binary\"\n",
    ")\n"
   ]
  },
  {
   "cell_type": "code",
   "execution_count": 41,
   "metadata": {
    "colab": {
     "base_uri": "https://localhost:8080/"
    },
    "id": "8-8vnDuntG4F",
    "outputId": "ad2795a2-21db-46d3-f3f8-8546c92c2d94"
   },
   "outputs": [
    {
     "name": "stdout",
     "output_type": "stream",
     "text": [
      "Epoch 1/50\n",
      "8/8 [==============================] - 9s 1s/step - loss: 9.1616 - accuracy: 0.5000 - val_loss: 0.8552 - val_accuracy: 0.5000\n",
      "Epoch 2/50\n",
      "8/8 [==============================] - 8s 1s/step - loss: 0.6471 - accuracy: 0.6500 - val_loss: 0.7386 - val_accuracy: 0.5000\n",
      "Epoch 3/50\n",
      "8/8 [==============================] - 8s 1s/step - loss: 0.7103 - accuracy: 0.4875 - val_loss: 0.8515 - val_accuracy: 0.5000\n",
      "Epoch 4/50\n",
      "8/8 [==============================] - 8s 1s/step - loss: 0.7114 - accuracy: 0.5375 - val_loss: 0.6928 - val_accuracy: 0.5100\n",
      "Epoch 5/50\n",
      "8/8 [==============================] - 8s 1s/step - loss: 0.6935 - accuracy: 0.4750 - val_loss: 0.6922 - val_accuracy: 0.5000\n",
      "Epoch 6/50\n",
      "8/8 [==============================] - 8s 1s/step - loss: 0.7087 - accuracy: 0.4875 - val_loss: 0.6952 - val_accuracy: 0.4580\n",
      "Epoch 7/50\n",
      "8/8 [==============================] - 8s 1s/step - loss: 0.7877 - accuracy: 0.4500 - val_loss: 0.6934 - val_accuracy: 0.4930\n",
      "Epoch 8/50\n",
      "8/8 [==============================] - 8s 1s/step - loss: 1.3232 - accuracy: 0.5000 - val_loss: 0.6926 - val_accuracy: 0.5000\n",
      "Epoch 9/50\n",
      "8/8 [==============================] - 8s 1s/step - loss: 0.6978 - accuracy: 0.5875 - val_loss: 0.7013 - val_accuracy: 0.5000\n",
      "Epoch 10/50\n",
      "8/8 [==============================] - 8s 1s/step - loss: 0.7005 - accuracy: 0.4750 - val_loss: 0.6932 - val_accuracy: 0.5020\n",
      "Epoch 11/50\n",
      "8/8 [==============================] - 8s 1s/step - loss: 0.6956 - accuracy: 0.4125 - val_loss: 0.6955 - val_accuracy: 0.5000\n",
      "Epoch 12/50\n",
      "8/8 [==============================] - 8s 1s/step - loss: 0.6965 - accuracy: 0.5250 - val_loss: 0.6949 - val_accuracy: 0.5000\n",
      "Epoch 13/50\n",
      "8/8 [==============================] - 8s 1s/step - loss: 0.6969 - accuracy: 0.5500 - val_loss: 0.6922 - val_accuracy: 0.5000\n",
      "Epoch 14/50\n",
      "8/8 [==============================] - 8s 1s/step - loss: 0.6975 - accuracy: 0.5250 - val_loss: 0.7110 - val_accuracy: 0.5000\n",
      "Epoch 15/50\n",
      "8/8 [==============================] - 8s 1s/step - loss: 0.7009 - accuracy: 0.4750 - val_loss: 0.6918 - val_accuracy: 0.4990\n",
      "Epoch 16/50\n",
      "8/8 [==============================] - 8s 1s/step - loss: 0.6930 - accuracy: 0.5375 - val_loss: 0.6810 - val_accuracy: 0.5790\n",
      "Epoch 17/50\n",
      "8/8 [==============================] - 8s 1s/step - loss: 0.8806 - accuracy: 0.5875 - val_loss: 0.7383 - val_accuracy: 0.5000\n",
      "Epoch 18/50\n",
      "8/8 [==============================] - 8s 1s/step - loss: 0.7008 - accuracy: 0.4875 - val_loss: 0.6720 - val_accuracy: 0.5650\n",
      "Epoch 19/50\n",
      "8/8 [==============================] - 8s 1s/step - loss: 0.8284 - accuracy: 0.5750 - val_loss: 0.6916 - val_accuracy: 0.4980\n",
      "Epoch 20/50\n",
      "8/8 [==============================] - 8s 1s/step - loss: 0.6986 - accuracy: 0.3875 - val_loss: 0.6917 - val_accuracy: 0.5990\n",
      "Epoch 21/50\n",
      "8/8 [==============================] - 8s 1s/step - loss: 0.6997 - accuracy: 0.5625 - val_loss: 0.6877 - val_accuracy: 0.6260\n",
      "Epoch 22/50\n",
      "8/8 [==============================] - 8s 1s/step - loss: 0.7219 - accuracy: 0.5125 - val_loss: 0.6900 - val_accuracy: 0.5010\n",
      "Epoch 23/50\n",
      "8/8 [==============================] - 8s 1s/step - loss: 0.6926 - accuracy: 0.5000 - val_loss: 0.6848 - val_accuracy: 0.6140\n",
      "Epoch 24/50\n",
      "8/8 [==============================] - 8s 1s/step - loss: 0.7320 - accuracy: 0.6000 - val_loss: 0.6816 - val_accuracy: 0.5850\n",
      "Epoch 25/50\n",
      "8/8 [==============================] - 8s 1s/step - loss: 0.7487 - accuracy: 0.5875 - val_loss: 0.6858 - val_accuracy: 0.5420\n",
      "Epoch 26/50\n",
      "8/8 [==============================] - 8s 1s/step - loss: 0.7058 - accuracy: 0.6000 - val_loss: 0.6840 - val_accuracy: 0.5710\n",
      "Epoch 27/50\n",
      "8/8 [==============================] - 8s 1s/step - loss: 0.6822 - accuracy: 0.5875 - val_loss: 0.6816 - val_accuracy: 0.5090\n",
      "Epoch 28/50\n",
      "8/8 [==============================] - 8s 1s/step - loss: 0.6673 - accuracy: 0.5750 - val_loss: 0.6702 - val_accuracy: 0.5840\n",
      "Epoch 29/50\n",
      "8/8 [==============================] - 8s 1s/step - loss: 0.7780 - accuracy: 0.5375 - val_loss: 0.6853 - val_accuracy: 0.5060\n",
      "Epoch 30/50\n",
      "8/8 [==============================] - 8s 1s/step - loss: 0.6872 - accuracy: 0.5250 - val_loss: 0.6884 - val_accuracy: 0.5420\n",
      "Epoch 31/50\n",
      "8/8 [==============================] - 8s 1s/step - loss: 0.7036 - accuracy: 0.3875 - val_loss: 0.6839 - val_accuracy: 0.5860\n",
      "Epoch 32/50\n",
      "8/8 [==============================] - 8s 1s/step - loss: 0.6620 - accuracy: 0.6875 - val_loss: 0.6841 - val_accuracy: 0.5700\n",
      "Epoch 33/50\n",
      "8/8 [==============================] - 8s 1s/step - loss: 0.7077 - accuracy: 0.5000 - val_loss: 0.7082 - val_accuracy: 0.5350\n",
      "Epoch 34/50\n",
      "8/8 [==============================] - 8s 1s/step - loss: 0.6935 - accuracy: 0.5750 - val_loss: 0.6794 - val_accuracy: 0.6060\n",
      "Epoch 35/50\n",
      "8/8 [==============================] - 8s 1s/step - loss: 0.6710 - accuracy: 0.6000 - val_loss: 0.6661 - val_accuracy: 0.6400\n",
      "Epoch 36/50\n",
      "8/8 [==============================] - 8s 1s/step - loss: 0.6459 - accuracy: 0.6500 - val_loss: 0.6900 - val_accuracy: 0.5630\n",
      "Epoch 37/50\n",
      "8/8 [==============================] - 8s 1s/step - loss: 0.6704 - accuracy: 0.6250 - val_loss: 0.7135 - val_accuracy: 0.5110\n",
      "Epoch 38/50\n",
      "8/8 [==============================] - 8s 1s/step - loss: 0.6894 - accuracy: 0.5625 - val_loss: 0.6578 - val_accuracy: 0.5910\n",
      "Epoch 39/50\n",
      "8/8 [==============================] - 8s 1s/step - loss: 0.6378 - accuracy: 0.5500 - val_loss: 0.6425 - val_accuracy: 0.5990\n",
      "Epoch 40/50\n",
      "8/8 [==============================] - 8s 1s/step - loss: 0.6662 - accuracy: 0.5250 - val_loss: 0.6456 - val_accuracy: 0.6250\n",
      "Epoch 41/50\n",
      "8/8 [==============================] - 8s 1s/step - loss: 0.6635 - accuracy: 0.6375 - val_loss: 0.6322 - val_accuracy: 0.6500\n",
      "Epoch 42/50\n",
      "8/8 [==============================] - 8s 1s/step - loss: 0.6502 - accuracy: 0.5875 - val_loss: 0.6998 - val_accuracy: 0.5570\n",
      "Epoch 43/50\n",
      "8/8 [==============================] - 8s 1s/step - loss: 0.6704 - accuracy: 0.6125 - val_loss: 0.6352 - val_accuracy: 0.6290\n",
      "Epoch 44/50\n",
      "8/8 [==============================] - 8s 1s/step - loss: 0.6091 - accuracy: 0.6750 - val_loss: 0.9161 - val_accuracy: 0.5860\n",
      "Epoch 45/50\n",
      "8/8 [==============================] - 8s 1s/step - loss: 0.6527 - accuracy: 0.6375 - val_loss: 0.6484 - val_accuracy: 0.6320\n",
      "Epoch 46/50\n",
      "8/8 [==============================] - 8s 1s/step - loss: 0.6764 - accuracy: 0.5500 - val_loss: 0.6586 - val_accuracy: 0.6240\n",
      "Epoch 47/50\n",
      "8/8 [==============================] - 8s 1s/step - loss: 0.6159 - accuracy: 0.6125 - val_loss: 0.6425 - val_accuracy: 0.6220\n",
      "Epoch 48/50\n",
      "8/8 [==============================] - 8s 1s/step - loss: 0.5631 - accuracy: 0.6500 - val_loss: 0.6176 - val_accuracy: 0.6770\n",
      "Epoch 49/50\n",
      "8/8 [==============================] - 8s 1s/step - loss: 0.6221 - accuracy: 0.6375 - val_loss: 1.9230 - val_accuracy: 0.5090\n",
      "Epoch 50/50\n",
      "8/8 [==============================] - 8s 1s/step - loss: 0.7497 - accuracy: 0.5750 - val_loss: 0.6432 - val_accuracy: 0.6350\n"
     ]
    }
   ],
   "source": [
    "# now training the model\n",
    "\n",
    "model_fiting = model.fit(train_data , steps_per_epoch=8,epochs=50 ,validation_data=val_data, verbose=1 ,batch_size =10)"
   ]
  },
  {
   "cell_type": "code",
   "execution_count": 42,
   "metadata": {
    "colab": {
     "base_uri": "https://localhost:8080/",
     "height": 128
    },
    "id": "xLXQqYCmvSvT",
    "outputId": "340f92f6-ffb3-40ad-d287-e9801db3614c"
   },
   "outputs": [
    {
     "name": "stdout",
     "output_type": "stream",
     "text": [
      "[0.5595325]\n",
      "golden-retriever-dog-21668976.jpg is a dog\n",
      "[0.99358094]\n",
      "labrador-retriever-1210559__480.jpg is a dog\n"
     ]
    }
   ],
   "source": [
    "import numpy as np\n",
    "#from google.colab import files\n",
    "from tensorflow.keras.utils import load_img , img_to_array\n",
    "\n",
    "## ----------------------------------------------------------------------------------------------------------------------------\n",
    "# # FOR COLLAB WE NEED TO USE THIS CODE\n",
    "\n",
    "# uploading_file = files.upload()\n",
    "\n",
    "# for fn in uploading_file:\n",
    "#   path = 'gdrive/MyDrive/' + fn\n",
    "#   image = load_img(path , target_size=(300,300))\n",
    "#   x = img_to_array(image)\n",
    "#   x = x/225\n",
    "#   x = np.expand_dims(x , axis=0)\n",
    "\n",
    "#   images = np.vstack([x])\n",
    "#   pred_res = model.predict(images , batch_size=10)\n",
    "#   print(pred_res[0])\n",
    "#   if pred_res[0]>0.5:\n",
    "#     print(fn + \" is a cat\")\n",
    "#   else:\n",
    "#     print(fn + \" is a dog\")\n",
    "## -----------------------------------------------------------------------------------------------------------------------------\n",
    "\n",
    "\n",
    "#used for uploading the file we want to predict\n",
    "uploading_file = os.listdir('test/')\n",
    "\n",
    "for fn in uploading_file:\n",
    "  path = \"C:/Users/mohit/Downloads/Compressed/cats_and_dogs_filtered/cats_and_dogs_filtered/test/\"+fn\n",
    "  image = load_img(path , target_size=(300,300))\n",
    "  x = img_to_array(image)\n",
    "  x = x/225\n",
    "  x = np.expand_dims(x , axis=0)\n",
    "\n",
    "  images = np.vstack([x])\n",
    "  pred_res = model.predict(images , batch_size=10)\n",
    "  print(pred_res[0])\n",
    "  if pred_res[0]>0.5:\n",
    "    print(fn + \" is a dog\")\n",
    "  else:\n",
    "    print(fn + \" is a cat\")"
   ]
  },
  {
   "cell_type": "markdown",
   "metadata": {
    "id": "u7XztM-O-uym"
   },
   "source": [
    "### Checking if our model is overfitting or not"
   ]
  },
  {
   "cell_type": "code",
   "execution_count": 43,
   "metadata": {
    "colab": {
     "base_uri": "https://localhost:8080/"
    },
    "id": "oOT6Q6Hm4lxd",
    "outputId": "15f8bada-bf1d-4f97-89bb-9a66c8845cf2"
   },
   "outputs": [
    {
     "name": "stdout",
     "output_type": "stream",
     "text": [
      "[0.5, 0.6499999761581421, 0.48750001192092896, 0.5375000238418579, 0.4749999940395355, 0.48750001192092896, 0.44999998807907104, 0.5, 0.5874999761581421, 0.4749999940395355, 0.4124999940395355, 0.5249999761581421, 0.550000011920929, 0.5249999761581421, 0.4749999940395355, 0.5375000238418579, 0.5874999761581421, 0.48750001192092896, 0.574999988079071, 0.38749998807907104, 0.5625, 0.512499988079071, 0.5, 0.6000000238418579, 0.5874999761581421, 0.6000000238418579, 0.5874999761581421, 0.574999988079071, 0.5375000238418579, 0.5249999761581421, 0.38749998807907104, 0.6875, 0.5, 0.574999988079071, 0.6000000238418579, 0.6499999761581421, 0.625, 0.5625, 0.550000011920929, 0.5249999761581421, 0.637499988079071, 0.5874999761581421, 0.612500011920929, 0.675000011920929, 0.637499988079071, 0.550000011920929, 0.612500011920929, 0.6499999761581421, 0.637499988079071, 0.574999988079071]\n",
      "[0.5, 0.5, 0.5, 0.5099999904632568, 0.5, 0.4580000042915344, 0.49300000071525574, 0.5, 0.5, 0.5019999742507935, 0.5, 0.5, 0.5, 0.5, 0.49900001287460327, 0.5789999961853027, 0.5, 0.5649999976158142, 0.49799999594688416, 0.5989999771118164, 0.6259999871253967, 0.5009999871253967, 0.6140000224113464, 0.5849999785423279, 0.5419999957084656, 0.5709999799728394, 0.5090000033378601, 0.5839999914169312, 0.5059999823570251, 0.5419999957084656, 0.5860000252723694, 0.5699999928474426, 0.5350000262260437, 0.6060000061988831, 0.6399999856948853, 0.5630000233650208, 0.5109999775886536, 0.5910000205039978, 0.5989999771118164, 0.625, 0.6499999761581421, 0.5569999814033508, 0.6290000081062317, 0.5860000252723694, 0.6320000290870667, 0.6240000128746033, 0.621999979019165, 0.6769999861717224, 0.5090000033378601, 0.6349999904632568]\n"
     ]
    }
   ],
   "source": [
    "#storing every accuracy and validation accuracy value in a list\n",
    "#history - this funtion stores the value of acc , val_acc\n",
    "acc = model_fiting.history[\"accuracy\"]\n",
    "validation_acc = model_fiting.history[\"val_accuracy\"]\n",
    "print(acc)\n",
    "print(validation_acc)"
   ]
  },
  {
   "cell_type": "code",
   "execution_count": 44,
   "metadata": {
    "colab": {
     "base_uri": "https://localhost:8080/",
     "height": 265
    },
    "id": "RaYlxYf7VxUl",
    "outputId": "1485876e-19e8-4241-9a03-bcf42b056c65"
   },
   "outputs": [
    {
     "data": {
      "image/png": "[encoded data removed]",
      "text/plain": [
       "<Figure size 432x288 with 1 Axes>"
      ]
     },
     "metadata": {
      "needs_background": "light"
     },
     "output_type": "display_data"
    }
   ],
   "source": [
    "\n",
    "import matplotlib.pyplot as plt\n",
    "epochs=range(len(acc))\n",
    "plt.plot(epochs ,acc )\n",
    "plt.plot(epochs, validation_acc)\n",
    "plt.show()"
   ]
  },
  {
   "cell_type": "markdown",
   "metadata": {
    "id": "McERbDVH_RwR"
   },
   "source": [
    "Since , validation set is stoping at approx 0.70 accuracy and training data is touching 1 accurancy we can eaisly see that our model is overfitting \n",
    "One reason is that our training data is less.\n",
    "Second reason is that we are not using agumentation(i.e. rotating and moving image size so that our model can train on even rotated images like sleeping cat )"
   ]
  },
  {
   "cell_type": "markdown",
   "metadata": {
    "id": "wzlYqUkZGfbk"
   },
   "source": [
    "# Using Agumentation\n",
    "with augumentation our data size increases as every images are rotated and moved for better training of model\n",
    "\n",
    "These rotated and moved images do not get stored in our disk we it is temporarily stored in memory and used during training of model."
   ]
  },
  {
   "cell_type": "code",
   "execution_count": 46,
   "metadata": {
    "colab": {
     "base_uri": "https://localhost:8080/"
    },
    "id": "_5F7eR8-HW_X",
    "outputId": "c12f062c-04dc-420f-b419-f7a3dbb7fff1"
   },
   "outputs": [
    {
     "name": "stdout",
     "output_type": "stream",
     "text": [
      "Found 2000 images belonging to 2 classes.\n",
      "Found 1000 images belonging to 2 classes.\n"
     ]
    }
   ],
   "source": [
    "from tensorflow.keras.preprocessing.image import ImageDataGenerator\n",
    "\n",
    "train_gen = ImageDataGenerator(\n",
    "    rescale = 1/255,\n",
    "    rotation_range=40,#rotates the image in 0 to 40 degree range randomly\n",
    "    width_shift_range=0.2,\n",
    "    height_shift_range=0.2,\n",
    "    shear_range=0.2, \n",
    "    zoom_range=0.2,\n",
    "    horizontal_flip=True,\n",
    "    fill_mode='nearest'# lost pixels are replaced by the nearest pixels\n",
    ")\n",
    "\n",
    "## ------------------------------------------------------------------------------------------------------------------------\n",
    "# #for collab we need to use this\n",
    "\n",
    "\n",
    "# train_data = train_gen.flow_from_directory( \n",
    "#     \"tmp/cats_and_dogs_filtered/train\", \n",
    "#     target_size = (300 ,300) , \n",
    "#     batch_size = 128 , \n",
    "#     class_mode = \"binary\" \n",
    "\n",
    "# )\n",
    "\n",
    "# #for validation set \n",
    "# val_gen = ImageDataGenerator(rescale = 1/255)\n",
    "\n",
    "# val_data = val_gen.flow_from_directory( \n",
    "#     \"tmp/cats_and_dogs_filtered/validation\",  \n",
    "#     target_size = (300 ,300) , \n",
    "#     batch_size = 10 , \n",
    "#     class_mode = \"binary\"\n",
    "# )\n",
    "\n",
    "## -----------------------------------------------------------------------------------------------------------------------------\n",
    "\n",
    "\n",
    "train_data = train_gen.flow_from_directory( \n",
    "    \"train/\", # path of main directory \n",
    "    target_size = (300 ,300) , # resizing all the images to 300x300\n",
    "    batch_size = 10 , #images are taken from the directory in batches and we are taking 128 image per batch\n",
    "    class_mode = \"binary\" # we use binary class mode as loss funtion is using binary crossentropy and output is binary\n",
    "\n",
    ")\n",
    "\n",
    "#for validation set \n",
    "val_gen = ImageDataGenerator(rescale = 1/255)\n",
    "\n",
    "val_data = train_gen.flow_from_directory( \n",
    "    \"validation/\",  \n",
    "    target_size = (300 ,300) , \n",
    "    batch_size = 10 , \n",
    "    class_mode = \"binary\"\n",
    ")\n",
    "\n"
   ]
  },
  {
   "cell_type": "code",
   "execution_count": 47,
   "metadata": {
    "colab": {
     "base_uri": "https://localhost:8080/"
    },
    "id": "CHr_aVK-IEtT",
    "outputId": "623a7576-6caa-465f-fd0f-90b2b0cf71b8",
    "scrolled": false
   },
   "outputs": [
    {
     "name": "stdout",
     "output_type": "stream",
     "text": [
      "Epoch 1/70\n",
      "8/8 [==============================] - 34s 5s/step - loss: 0.6911 - accuracy: 0.6000 - val_loss: 0.6579 - val_accuracy: 0.6090\n",
      "Epoch 2/70\n",
      "8/8 [==============================] - 33s 5s/step - loss: 0.6912 - accuracy: 0.5750 - val_loss: 0.6271 - val_accuracy: 0.6480\n",
      "Epoch 3/70\n",
      "8/8 [==============================] - 33s 5s/step - loss: 0.6379 - accuracy: 0.6250 - val_loss: 0.6606 - val_accuracy: 0.6040\n",
      "Epoch 4/70\n",
      "8/8 [==============================] - 33s 5s/step - loss: 0.6339 - accuracy: 0.6625 - val_loss: 0.7691 - val_accuracy: 0.5260\n",
      "Epoch 5/70\n",
      "8/8 [==============================] - 33s 5s/step - loss: 0.7240 - accuracy: 0.5500 - val_loss: 0.6726 - val_accuracy: 0.5580\n",
      "Epoch 6/70\n",
      "8/8 [==============================] - 33s 5s/step - loss: 0.7297 - accuracy: 0.5750 - val_loss: 0.7214 - val_accuracy: 0.5190\n",
      "Epoch 7/70\n",
      "8/8 [==============================] - 33s 5s/step - loss: 0.6956 - accuracy: 0.5500 - val_loss: 0.6798 - val_accuracy: 0.5300\n",
      "Epoch 8/70\n",
      "8/8 [==============================] - 34s 5s/step - loss: 0.6987 - accuracy: 0.5625 - val_loss: 0.6785 - val_accuracy: 0.5740\n",
      "Epoch 9/70\n",
      "8/8 [==============================] - 34s 5s/step - loss: 0.7249 - accuracy: 0.4250 - val_loss: 0.6793 - val_accuracy: 0.5830\n",
      "Epoch 10/70\n",
      "8/8 [==============================] - 33s 5s/step - loss: 0.6981 - accuracy: 0.4625 - val_loss: 0.6838 - val_accuracy: 0.5250\n",
      "Epoch 11/70\n",
      "8/8 [==============================] - 31s 4s/step - loss: 0.6925 - accuracy: 0.5125 - val_loss: 0.6525 - val_accuracy: 0.6220\n",
      "Epoch 12/70\n",
      "8/8 [==============================] - 34s 5s/step - loss: 0.6725 - accuracy: 0.7000 - val_loss: 0.6848 - val_accuracy: 0.5640\n",
      "Epoch 13/70\n",
      "8/8 [==============================] - 33s 5s/step - loss: 0.7502 - accuracy: 0.4875 - val_loss: 0.6712 - val_accuracy: 0.6140\n",
      "Epoch 14/70\n",
      "8/8 [==============================] - 32s 5s/step - loss: 0.6871 - accuracy: 0.5000 - val_loss: 0.6705 - val_accuracy: 0.6010\n",
      "Epoch 15/70\n",
      "8/8 [==============================] - 34s 5s/step - loss: 0.6523 - accuracy: 0.6125 - val_loss: 0.7478 - val_accuracy: 0.5600\n",
      "Epoch 16/70\n",
      "8/8 [==============================] - 33s 5s/step - loss: 0.7511 - accuracy: 0.5000 - val_loss: 0.6755 - val_accuracy: 0.5660\n",
      "Epoch 17/70\n",
      "8/8 [==============================] - 33s 5s/step - loss: 0.6636 - accuracy: 0.5875 - val_loss: 0.6490 - val_accuracy: 0.6340\n",
      "Epoch 18/70\n",
      "8/8 [==============================] - 33s 5s/step - loss: 0.6007 - accuracy: 0.6875 - val_loss: 0.6735 - val_accuracy: 0.6170\n",
      "Epoch 19/70\n",
      "8/8 [==============================] - 33s 5s/step - loss: 0.6240 - accuracy: 0.6625 - val_loss: 0.6628 - val_accuracy: 0.6140\n",
      "Epoch 20/70\n",
      "8/8 [==============================] - 34s 5s/step - loss: 0.5904 - accuracy: 0.6875 - val_loss: 0.6982 - val_accuracy: 0.6410\n",
      "Epoch 21/70\n",
      "8/8 [==============================] - 33s 5s/step - loss: 0.7838 - accuracy: 0.5500 - val_loss: 0.6739 - val_accuracy: 0.6010\n",
      "Epoch 22/70\n",
      "8/8 [==============================] - 34s 5s/step - loss: 0.6568 - accuracy: 0.6875 - val_loss: 0.6905 - val_accuracy: 0.5470\n",
      "Epoch 23/70\n",
      "8/8 [==============================] - 33s 5s/step - loss: 0.6888 - accuracy: 0.5750 - val_loss: 0.6592 - val_accuracy: 0.6230\n",
      "Epoch 24/70\n",
      "8/8 [==============================] - 33s 5s/step - loss: 0.6713 - accuracy: 0.6000 - val_loss: 0.6536 - val_accuracy: 0.6060\n",
      "Epoch 25/70\n",
      "8/8 [==============================] - 35s 5s/step - loss: 0.7080 - accuracy: 0.6000 - val_loss: 0.6747 - val_accuracy: 0.5320\n",
      "Epoch 26/70\n",
      "8/8 [==============================] - 38s 5s/step - loss: 0.7476 - accuracy: 0.5375 - val_loss: 0.6775 - val_accuracy: 0.5450\n",
      "Epoch 27/70\n",
      "8/8 [==============================] - 36s 5s/step - loss: 0.7378 - accuracy: 0.7000 - val_loss: 0.9478 - val_accuracy: 0.5260\n",
      "Epoch 28/70\n",
      "8/8 [==============================] - 35s 5s/step - loss: 0.6799 - accuracy: 0.5875 - val_loss: 0.6369 - val_accuracy: 0.6350\n",
      "Epoch 29/70\n",
      "8/8 [==============================] - 33s 5s/step - loss: 0.7434 - accuracy: 0.6875 - val_loss: 0.7140 - val_accuracy: 0.5460\n",
      "Epoch 30/70\n",
      "8/8 [==============================] - 33s 5s/step - loss: 0.6615 - accuracy: 0.6375 - val_loss: 0.6639 - val_accuracy: 0.5840\n",
      "Epoch 31/70\n",
      "8/8 [==============================] - 33s 5s/step - loss: 0.6667 - accuracy: 0.5875 - val_loss: 0.7808 - val_accuracy: 0.5550\n",
      "Epoch 32/70\n",
      "8/8 [==============================] - 34s 5s/step - loss: 0.7216 - accuracy: 0.5625 - val_loss: 0.6453 - val_accuracy: 0.6410\n",
      "Epoch 33/70\n",
      "8/8 [==============================] - 36s 5s/step - loss: 0.6387 - accuracy: 0.6250 - val_loss: 0.6532 - val_accuracy: 0.5420\n",
      "Epoch 34/70\n",
      "8/8 [==============================] - 34s 5s/step - loss: 0.6475 - accuracy: 0.5125 - val_loss: 0.6613 - val_accuracy: 0.5730\n",
      "Epoch 35/70\n",
      "8/8 [==============================] - 34s 5s/step - loss: 0.6897 - accuracy: 0.5250 - val_loss: 0.6797 - val_accuracy: 0.5260\n",
      "Epoch 36/70\n",
      "8/8 [==============================] - 33s 5s/step - loss: 0.6898 - accuracy: 0.5250 - val_loss: 0.6646 - val_accuracy: 0.6160\n",
      "Epoch 37/70\n",
      "8/8 [==============================] - 33s 5s/step - loss: 0.6601 - accuracy: 0.5875 - val_loss: 0.6230 - val_accuracy: 0.6730\n",
      "Epoch 38/70\n",
      "8/8 [==============================] - 33s 5s/step - loss: 0.7571 - accuracy: 0.5750 - val_loss: 0.6476 - val_accuracy: 0.6190\n",
      "Epoch 39/70\n",
      "8/8 [==============================] - 33s 5s/step - loss: 0.6618 - accuracy: 0.6375 - val_loss: 0.6434 - val_accuracy: 0.6420\n",
      "Epoch 40/70\n",
      "8/8 [==============================] - 33s 5s/step - loss: 0.6623 - accuracy: 0.5625 - val_loss: 0.6655 - val_accuracy: 0.5780\n",
      "Epoch 41/70\n",
      "8/8 [==============================] - 33s 5s/step - loss: 0.7047 - accuracy: 0.6375 - val_loss: 0.6480 - val_accuracy: 0.5770\n",
      "Epoch 42/70\n",
      "8/8 [==============================] - 34s 5s/step - loss: 0.6552 - accuracy: 0.6000 - val_loss: 0.6417 - val_accuracy: 0.6330\n",
      "Epoch 43/70\n",
      "8/8 [==============================] - 34s 5s/step - loss: 0.6748 - accuracy: 0.5750 - val_loss: 0.6271 - val_accuracy: 0.6780\n",
      "Epoch 44/70\n",
      "8/8 [==============================] - 33s 5s/step - loss: 0.6360 - accuracy: 0.6750 - val_loss: 0.6571 - val_accuracy: 0.6330\n",
      "Epoch 45/70\n",
      "8/8 [==============================] - 34s 5s/step - loss: 0.6902 - accuracy: 0.5375 - val_loss: 0.6496 - val_accuracy: 0.6490\n",
      "Epoch 46/70\n",
      "8/8 [==============================] - 33s 5s/step - loss: 0.6583 - accuracy: 0.6000 - val_loss: 0.6588 - val_accuracy: 0.6320\n",
      "Epoch 47/70\n",
      "8/8 [==============================] - 34s 5s/step - loss: 0.6774 - accuracy: 0.5625 - val_loss: 0.6747 - val_accuracy: 0.5290\n",
      "Epoch 48/70\n",
      "8/8 [==============================] - 34s 5s/step - loss: 0.7069 - accuracy: 0.5125 - val_loss: 0.6491 - val_accuracy: 0.6530\n",
      "Epoch 49/70\n",
      "8/8 [==============================] - 34s 5s/step - loss: 0.6764 - accuracy: 0.5375 - val_loss: 0.6587 - val_accuracy: 0.6290\n",
      "Epoch 50/70\n",
      "8/8 [==============================] - 34s 5s/step - loss: 0.7640 - accuracy: 0.6125 - val_loss: 0.6545 - val_accuracy: 0.6140\n",
      "Epoch 51/70\n",
      "8/8 [==============================] - 34s 5s/step - loss: 0.6615 - accuracy: 0.5375 - val_loss: 0.6487 - val_accuracy: 0.6320\n",
      "Epoch 52/70\n",
      "8/8 [==============================] - 33s 5s/step - loss: 0.6650 - accuracy: 0.6500 - val_loss: 0.6581 - val_accuracy: 0.5770\n",
      "Epoch 53/70\n",
      "8/8 [==============================] - 34s 5s/step - loss: 0.7750 - accuracy: 0.5750 - val_loss: 0.6564 - val_accuracy: 0.6160\n",
      "Epoch 54/70\n",
      "8/8 [==============================] - 34s 5s/step - loss: 0.6167 - accuracy: 0.6375 - val_loss: 0.6380 - val_accuracy: 0.6280\n",
      "Epoch 55/70\n",
      "8/8 [==============================] - 35s 5s/step - loss: 0.6351 - accuracy: 0.6125 - val_loss: 0.6101 - val_accuracy: 0.6930\n",
      "Epoch 56/70\n",
      "8/8 [==============================] - 33s 5s/step - loss: 0.6622 - accuracy: 0.7000 - val_loss: 0.6314 - val_accuracy: 0.6620\n",
      "Epoch 57/70\n",
      "8/8 [==============================] - 33s 5s/step - loss: 0.6813 - accuracy: 0.5375 - val_loss: 0.6352 - val_accuracy: 0.6190\n",
      "Epoch 58/70\n",
      "8/8 [==============================] - 33s 5s/step - loss: 0.6424 - accuracy: 0.6125 - val_loss: 0.6409 - val_accuracy: 0.6440\n",
      "Epoch 59/70\n",
      "8/8 [==============================] - 33s 5s/step - loss: 0.7269 - accuracy: 0.5000 - val_loss: 0.6565 - val_accuracy: 0.5810\n",
      "Epoch 60/70\n"
     ]
    },
    {
     "name": "stdout",
     "output_type": "stream",
     "text": [
      "8/8 [==============================] - 34s 5s/step - loss: 0.6462 - accuracy: 0.6625 - val_loss: 0.6348 - val_accuracy: 0.6460\n",
      "Epoch 61/70\n",
      "8/8 [==============================] - 33s 5s/step - loss: 0.6458 - accuracy: 0.6500 - val_loss: 0.6213 - val_accuracy: 0.6300\n",
      "Epoch 62/70\n",
      "8/8 [==============================] - 33s 5s/step - loss: 0.6164 - accuracy: 0.6375 - val_loss: 0.9595 - val_accuracy: 0.5130\n",
      "Epoch 63/70\n",
      "8/8 [==============================] - 33s 5s/step - loss: 1.0818 - accuracy: 0.6500 - val_loss: 0.6512 - val_accuracy: 0.6410\n",
      "Epoch 64/70\n",
      "8/8 [==============================] - 34s 5s/step - loss: 0.6155 - accuracy: 0.6875 - val_loss: 0.6264 - val_accuracy: 0.6530\n",
      "Epoch 65/70\n",
      "8/8 [==============================] - 34s 5s/step - loss: 0.6695 - accuracy: 0.7000 - val_loss: 0.6380 - val_accuracy: 0.6280\n",
      "Epoch 66/70\n",
      "8/8 [==============================] - 33s 5s/step - loss: 0.6181 - accuracy: 0.6250 - val_loss: 0.6254 - val_accuracy: 0.6480\n",
      "Epoch 67/70\n",
      "8/8 [==============================] - 32s 4s/step - loss: 0.5905 - accuracy: 0.6875 - val_loss: 0.6140 - val_accuracy: 0.6800\n",
      "Epoch 68/70\n",
      "8/8 [==============================] - 33s 5s/step - loss: 0.6816 - accuracy: 0.5875 - val_loss: 0.6669 - val_accuracy: 0.5710\n",
      "Epoch 69/70\n",
      "8/8 [==============================] - 34s 5s/step - loss: 0.6021 - accuracy: 0.6625 - val_loss: 0.6331 - val_accuracy: 0.6400\n",
      "Epoch 70/70\n",
      "8/8 [==============================] - 33s 5s/step - loss: 0.6414 - accuracy: 0.6000 - val_loss: 0.6472 - val_accuracy: 0.5770\n"
     ]
    }
   ],
   "source": [
    "# now training the model\n",
    "\n",
    "model_fiting = model.fit(train_data , steps_per_epoch=8,epochs=70 ,validation_data=val_data, verbose=1)"
   ]
  },
  {
   "cell_type": "code",
   "execution_count": 48,
   "metadata": {
    "colab": {
     "base_uri": "https://localhost:8080/",
     "height": 219
    },
    "id": "kY0qI1dsIEli",
    "outputId": "ac7e07a2-0155-4aaf-abb1-ca3956f5038a"
   },
   "outputs": [
    {
     "name": "stdout",
     "output_type": "stream",
     "text": [
      "[0.855515]\n",
      "golden-retriever-dog-21668976.jpg is a dog\n",
      "[0.99644744]\n",
      "labrador-retriever-1210559__480.jpg is a dog\n"
     ]
    }
   ],
   "source": [
    "import numpy as np\n",
    "#from google.colab import files\n",
    "from tensorflow.keras.utils import load_img , img_to_array\n",
    "\n",
    "# #used for uploading the file we want to predict\n",
    "# uploading_file = files.upload()\n",
    "\n",
    "# for fn in uploading_file:\n",
    "#   path = 'gdrive/MyDrive/' + fn\n",
    "#   image = load_img(path , target_size=(300,300))\n",
    "#   x = img_to_array(image)\n",
    "#   x = x/225\n",
    "#   x = np.expand_dims(x , axis=0)\n",
    "\n",
    "#   images = np.vstack([x])\n",
    "#   pred_res = model.predict(images , batch_size=10)\n",
    "#   print(pred_res[0])\n",
    "#   if pred_res[0]>0.5:\n",
    "#     print(fn + \" is a cat\")\n",
    "#   else:\n",
    "#     print(fn + \" is a dog\")\n",
    "\n",
    "\n",
    "for fn in uploading_file:\n",
    "  path = \"C:/Users/mohit/Downloads/Compressed/cats_and_dogs_filtered/cats_and_dogs_filtered/test/\"+fn\n",
    "  image = load_img(path , target_size=(300,300))\n",
    "  x = img_to_array(image)\n",
    "  x = x/225\n",
    "  x = np.expand_dims(x , axis=0)\n",
    "\n",
    "  images = np.vstack([x])\n",
    "  pred_res = model.predict(images , batch_size=10)\n",
    "  print(pred_res[0])\n",
    "  if pred_res[0]>0.5:\n",
    "    print(fn + \" is a dog\")\n",
    "  else:\n",
    "    print(fn + \" is a cat\")\n",
    "    "
   ]
  },
  {
   "cell_type": "code",
   "execution_count": 49,
   "metadata": {
    "colab": {
     "base_uri": "https://localhost:8080/"
    },
    "id": "g7lgy0JVIEbi",
    "outputId": "5b25e9f0-aad1-4d5c-d33d-aae645cb1130"
   },
   "outputs": [
    {
     "name": "stdout",
     "output_type": "stream",
     "text": [
      "[0.6000000238418579, 0.574999988079071, 0.625, 0.6625000238418579, 0.550000011920929, 0.574999988079071, 0.550000011920929, 0.5625, 0.42500001192092896, 0.4625000059604645, 0.512499988079071, 0.699999988079071, 0.48750001192092896, 0.5, 0.612500011920929, 0.5, 0.5874999761581421, 0.6875, 0.6625000238418579, 0.6875, 0.550000011920929, 0.6875, 0.574999988079071, 0.6000000238418579, 0.6000000238418579, 0.5375000238418579, 0.699999988079071, 0.5874999761581421, 0.6875, 0.637499988079071, 0.5874999761581421, 0.5625, 0.625, 0.512499988079071, 0.5249999761581421, 0.5249999761581421, 0.5874999761581421, 0.574999988079071, 0.637499988079071, 0.5625, 0.637499988079071, 0.6000000238418579, 0.574999988079071, 0.675000011920929, 0.5375000238418579, 0.6000000238418579, 0.5625, 0.512499988079071, 0.5375000238418579, 0.612500011920929, 0.5375000238418579, 0.6499999761581421, 0.574999988079071, 0.637499988079071, 0.612500011920929, 0.699999988079071, 0.5375000238418579, 0.612500011920929, 0.5, 0.6625000238418579, 0.6499999761581421, 0.637499988079071, 0.6499999761581421, 0.6875, 0.699999988079071, 0.625, 0.6875, 0.5874999761581421, 0.6625000238418579, 0.6000000238418579]\n",
      "[0.609000027179718, 0.6480000019073486, 0.6039999723434448, 0.5260000228881836, 0.5580000281333923, 0.5189999938011169, 0.5299999713897705, 0.5740000009536743, 0.5830000042915344, 0.5249999761581421, 0.621999979019165, 0.5640000104904175, 0.6140000224113464, 0.6010000109672546, 0.5600000023841858, 0.5659999847412109, 0.6340000033378601, 0.6169999837875366, 0.6140000224113464, 0.640999972820282, 0.6010000109672546, 0.546999990940094, 0.6230000257492065, 0.6060000061988831, 0.5320000052452087, 0.5450000166893005, 0.5260000228881836, 0.6349999904632568, 0.5460000038146973, 0.5839999914169312, 0.5550000071525574, 0.640999972820282, 0.5419999957084656, 0.5730000138282776, 0.5260000228881836, 0.6159999966621399, 0.6729999780654907, 0.6190000176429749, 0.6420000195503235, 0.578000009059906, 0.5770000219345093, 0.6330000162124634, 0.6779999732971191, 0.6330000162124634, 0.6489999890327454, 0.6320000290870667, 0.5289999842643738, 0.652999997138977, 0.6290000081062317, 0.6140000224113464, 0.6320000290870667, 0.5770000219345093, 0.6159999966621399, 0.628000020980835, 0.6930000185966492, 0.6620000004768372, 0.6190000176429749, 0.6439999938011169, 0.5809999704360962, 0.6460000276565552, 0.6299999952316284, 0.5130000114440918, 0.640999972820282, 0.652999997138977, 0.628000020980835, 0.6480000019073486, 0.6800000071525574, 0.5709999799728394, 0.6399999856948853, 0.5770000219345093]\n"
     ]
    }
   ],
   "source": [
    "acc = model_fiting.history[\"accuracy\"]\n",
    "validation_acc = model_fiting.history[\"val_accuracy\"]\n",
    "print(acc)\n",
    "print(validation_acc)"
   ]
  },
  {
   "cell_type": "code",
   "execution_count": 50,
   "metadata": {
    "colab": {
     "base_uri": "https://localhost:8080/",
     "height": 265
    },
    "id": "O0DGIj2LIPFo",
    "outputId": "21e2984e-a40b-4160-b03f-c7a780a4b023"
   },
   "outputs": [
    {
     "data": {
      "image/png": "[encoded data removed]",
      "text/plain": [
       "<Figure size 432x288 with 1 Axes>"
      ]
     },
     "metadata": {
      "needs_background": "light"
     },
     "output_type": "display_data"
    }
   ],
   "source": [
    "import matplotlib.pyplot as plt\n",
    "epochs=range(len(acc))\n",
    "plt.plot(epochs ,acc )\n",
    "plt.plot(epochs ,validation_acc )\n",
    "plt.show()"
   ]
  },
  {
   "cell_type": "markdown",
   "metadata": {
    "id": "G2ExniE_26Hk"
   },
   "source": [
    "From agumentation we can se that our model  is not much overfiting as it is gradually moving to highest accuracy along with the validation data.\n",
    "\n",
    "We can further use tranferlearning and dropouts to remove overfitting of the model\n"
   ]
  },
  {
   "cell_type": "code",
   "execution_count": null,
   "metadata": {
    "id": "Ae-eJNa920wc"
   },
   "outputs": [],
   "source": []
  },
  {
   "cell_type": "code",
   "execution_count": null,
   "metadata": {
    "id": "rI8Xt9aWtN1I"
   },
   "outputs": [],
   "source": []
  },
  {
   "cell_type": "code",
   "execution_count": null,
   "metadata": {
    "id": "xWrOi_vWtP0i"
   },
   "outputs": [],
   "source": []
  }
 ],
 "metadata": {
  "accelerator": "GPU",
  "colab": {
   "authorship_tag": "ABX9TyNPhthuZoTxz1YQF8371aG0",
   "include_colab_link": true,
   "mount_file_id": "1ZGQHex-wY0U4uL2iBt4b7quV1tm91_L5",
   "provenance": []
  },
  "gpuClass": "standard",
  "kernelspec": {
   "display_name": "Python 3.6(gpu)",
   "language": "python",
   "name": "tf-gpu"
  },
  "language_info": {
   "codemirror_mode": {
    "name": "ipython",
    "version": 3
   },
   "file_extension": ".py",
   "mimetype": "text/x-python",
   "name": "python",
   "nbconvert_exporter": "python",
   "pygments_lexer": "ipython3",
   "version": "3.6.13"
  }
 },
 "nbformat": 4,
 "nbformat_minor": 1
}
