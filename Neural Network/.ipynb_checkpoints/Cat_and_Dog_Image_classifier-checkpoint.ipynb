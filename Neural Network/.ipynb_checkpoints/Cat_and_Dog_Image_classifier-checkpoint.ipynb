{
 "cells": [
  {
   "cell_type": "markdown",
   "metadata": {
    "colab_type": "text",
    "id": "view-in-github"
   },
   "source": [
    "<a href=\"https://colab.research.google.com/github/Mohit352-bit/Machine-Learning/blob/main/Neural%20Network/Cat_and_Dog_Identifier.ipynb\" target=\"_parent\"><img src=\"https://colab.research.google.com/assets/colab-badge.svg\" alt=\"Open In Colab\"/></a>"
   ]
  },
  {
   "cell_type": "markdown",
   "metadata": {
    "id": "tp5Ujbput7VE"
   },
   "source": [
    "### ----------------------------------------------------------------------------------------------------------------------------------------------------------------\n",
    "\n",
    "using zip file from gdrive for fast uploading"
   ]
  },
  {
   "cell_type": "code",
   "execution_count": null,
   "metadata": {
    "colab": {
     "base_uri": "https://localhost:8080/"
    },
    "id": "D4OKAN0mfThc",
    "outputId": "24e0c2a5-fc5f-4d7a-c482-93b79a53f5ea"
   },
   "outputs": [
    {
     "name": "stdout",
     "output_type": "stream",
     "text": [
      "Mounted at /content/gdrive\n"
     ]
    }
   ],
   "source": [
    "#mounting(connecting) the gdrive with colab\n",
    "from google.colab import drive\n",
    "drive.mount('/content/gdrive')"
   ]
  },
  {
   "cell_type": "code",
   "execution_count": null,
   "metadata": {
    "colab": {
     "base_uri": "https://localhost:8080/"
    },
    "id": "pCdMGKBgjKOi",
    "outputId": "d96728ab-fdab-4364-cc9a-cd33b99b2e41"
   },
   "outputs": [
    {
     "name": "stdout",
     "output_type": "stream",
     "text": [
      "'Class 12 Result.pdf'\n",
      "'Colab Notebooks'\n",
      "'Copy of Invoice-Template-sheet-printable-5.gsheet'\n",
      " Horse_Human\n",
      "'How to get started with Drive.pdf'\n",
      " istockphoto-1319763895-612x612.jpg\n",
      " Male_female\n",
      " MohitINT353CA2.pdf\n",
      "'mohit mark.jpg'\n",
      " Mohit-Srivastava.pdf\n",
      " Mohit_Srivastava_resume.pdf\n",
      "'Pasport size '\n",
      " pexels-helena-lopes-1996332.jpg\n",
      " REsume.pdf\n",
      "'Screenshot (111).png'\n",
      "'Screenshot (124).png'\n",
      "'Screenshot 2022-06-30 215216.jpeg.png'\n",
      " Screenshot_2022-09-01-15-42-46-955_net.one97.paytm.jpg\n",
      " Screenshot_2022-09-30-16-23-32-285_com.microsoft.teams.pdf\n",
      "'Screenshot (75).png'\n",
      " tied.jfif\n",
      " unknown.png\n",
      " Untitled1.ipynb\n"
     ]
    }
   ],
   "source": [
    "# getting the list of all files in myDrive\n",
    "!ls gdrive/MyDrive"
   ]
  },
  {
   "cell_type": "code",
   "execution_count": null,
   "metadata": {
    "id": "zQ60N1hcSU79"
   },
   "outputs": [],
   "source": [
    "import zipfile\n",
    "\n",
    "# Extract the archive\n",
    "zip_ref = zipfile.ZipFile(\"gdrive/MyDrive/Cat_Dogs/cats_and_dogs_filtered.zip\", 'r')\n",
    "zip_ref.extractall(\"tmp/\")\n",
    "zip_ref.close()"
   ]
  },
  {
   "cell_type": "code",
   "execution_count": null,
   "metadata": {
    "colab": {
     "base_uri": "https://localhost:8080/"
    },
    "id": "wtCybafuTcSr",
    "outputId": "cdb717bf-8d48-464d-e674-9f3ae76bcaf7"
   },
   "outputs": [
    {
     "name": "stdout",
     "output_type": "stream",
     "text": [
      "['cat.146.jpg', 'cat.602.jpg', 'cat.446.jpg', 'cat.955.jpg', 'cat.644.jpg', 'cat.93.jpg', 'cat.968.jpg', 'cat.477.jpg', 'cat.229.jpg', 'cat.316.jpg']\n",
      "['dog.370.jpg', 'dog.387.jpg', 'dog.568.jpg', 'dog.694.jpg', 'dog.395.jpg', 'dog.436.jpg', 'dog.106.jpg', 'dog.560.jpg', 'dog.580.jpg', 'dog.438.jpg']\n"
     ]
    }
   ],
   "source": [
    "import os\n",
    "train_cat_names = os.listdir(\"tmp/cats_and_dogs_filtered/train/cats\")\n",
    "print(train_cat_names[:10])\n",
    "train_dog_names = os.listdir(\"tmp/cats_and_dogs_filtered/train/dogs\")\n",
    "print(train_dog_names[:10])"
   ]
  },
  {
   "cell_type": "markdown",
   "metadata": {
    "id": "9OpFjRWbuc7F"
   },
   "source": [
    "### Uploading image files in Jupyter Notebook"
   ]
  },
  {
   "cell_type": "code",
   "execution_count": 1,
   "metadata": {
    "id": "Ghe8p9l8umNB"
   },
   "outputs": [
    {
     "name": "stdout",
     "output_type": "stream",
     "text": [
      "Current working directory: C:\\Users\\mohit\\Downloads\\Compressed\\cats_and_dogs_filtered\\cats_and_dogs_filtered\n"
     ]
    }
   ],
   "source": [
    "import os\n",
    "\n",
    "# changing the working directory\n",
    "os.chdir('C:/Users/mohit/Downloads/Compressed/cats_and_dogs_filtered/cats_and_dogs_filtered')\n",
    "\n",
    "#variable storing the directory address\n",
    "cwd = os.getcwd() \n",
    "      \n",
    "# Printing the current working \n",
    "# directory (CWD) \n",
    "print(\"Current working directory:\", cwd) \n"
   ]
  },
  {
   "cell_type": "code",
   "execution_count": 2,
   "metadata": {
    "id": "QO4uuyDDumD1"
   },
   "outputs": [],
   "source": [
    "#storing path of training horse pictures\n",
    "train_dogs_dir_path = os.path.join('train/dogs')\n",
    "\n",
    "#storing path of training human pictures\n",
    "train_cats_dir_path = os.path.join('train/cats')"
   ]
  },
  {
   "cell_type": "code",
   "execution_count": 3,
   "metadata": {
    "id": "OSKw0lzkul-u"
   },
   "outputs": [
    {
     "name": "stdout",
     "output_type": "stream",
     "text": [
      "['dog.0.jpg', 'dog.1.jpg', 'dog.10.jpg', 'dog.100.jpg', 'dog.101.jpg', 'dog.102.jpg', 'dog.103.jpg', 'dog.104.jpg', 'dog.105.jpg', 'dog.106.jpg']\n",
      "['cat.0.jpg', 'cat.1.jpg', 'cat.10.jpg', 'cat.100.jpg', 'cat.101.jpg', 'cat.102.jpg', 'cat.103.jpg', 'cat.104.jpg', 'cat.105.jpg', 'cat.106.jpg']\n"
     ]
    }
   ],
   "source": [
    "# list of files in dog and cat folder\n",
    "train_dogs_names = os.listdir(train_dogs_dir_path)\n",
    "print(train_dogs_names[:10])\n",
    "train_cats_names = os.listdir(train_cats_dir_path)\n",
    "print(train_cats_names[:10])"
   ]
  },
  {
   "cell_type": "markdown",
   "metadata": {
    "id": "T9hh-1x7ulrt"
   },
   "source": [
    "## -------------------------------------------------------------------------------------------------------------------------------\n"
   ]
  },
  {
   "cell_type": "markdown",
   "metadata": {
    "id": "a7H2IyXohum9"
   },
   "source": [
    "# Creating CNN Model ⚓"
   ]
  },
  {
   "cell_type": "code",
   "execution_count": 4,
   "metadata": {
    "id": "eG3fNMxoh2zb"
   },
   "outputs": [],
   "source": [
    "import tensorflow as tf\n",
    "from tensorflow.keras.optimizers import RMSprop"
   ]
  },
  {
   "cell_type": "code",
   "execution_count": 5,
   "metadata": {
    "id": "AyLMuhWniNwP"
   },
   "outputs": [],
   "source": [
    "model = tf.keras.models.Sequential([\n",
    "    tf.keras.layers.Conv2D(32, (3,3) , input_shape=(300,300,3), activation='relu'),\n",
    "    tf.keras.layers.MaxPool2D(2,2),\n",
    "    tf.keras.layers.Conv2D(64, (3,3), activation='relu'),\n",
    "    tf.keras.layers.MaxPool2D(2,2),\n",
    "    tf.keras.layers.Conv2D(128, (3,3), activation='relu'),\n",
    "    tf.keras.layers.MaxPool2D(2,2),\n",
    "    tf.keras.layers.Conv2D(128, (3,3), activation='relu'),\n",
    "    tf.keras.layers.MaxPool2D(2,2),\n",
    "    tf.keras.layers.Flatten(),\n",
    "    tf.keras.layers.Dense(1024 , activation=\"relu\"),\n",
    "    tf.keras.layers.Dense(1, activation = 'sigmoid')\n",
    "])\n",
    "\n",
    "# we are using sigmoid as activation instead of softmax because it works better than softmax in binary classification (i.e. when we have 2 outputs to compare dogs and cats)\n",
    "# we can also use softmax here as (2 , activation=\"softmax\") but the sigmoid activation is more efficient here.\n",
    "# softmax is used when there is more than 2 calssification\n",
    "\n",
    "## site to learn which is best optimizer --- https://gombru.github.io/2018/05/23/cross_entropy_loss/"
   ]
  },
  {
   "cell_type": "code",
   "execution_count": 6,
   "metadata": {
    "colab": {
     "base_uri": "https://localhost:8080/"
    },
    "id": "Q_oJvE27kFK2",
    "outputId": "afa712d6-1eef-43f6-c641-a0f419261edb"
   },
   "outputs": [
    {
     "name": "stdout",
     "output_type": "stream",
     "text": [
      "Model: \"sequential\"\n",
      "_________________________________________________________________\n",
      "Layer (type)                 Output Shape              Param #   \n",
      "=================================================================\n",
      "conv2d (Conv2D)              (None, 298, 298, 32)      896       \n",
      "_________________________________________________________________\n",
      "max_pooling2d (MaxPooling2D) (None, 149, 149, 32)      0         \n",
      "_________________________________________________________________\n",
      "conv2d_1 (Conv2D)            (None, 147, 147, 64)      18496     \n",
      "_________________________________________________________________\n",
      "max_pooling2d_1 (MaxPooling2 (None, 73, 73, 64)        0         \n",
      "_________________________________________________________________\n",
      "conv2d_2 (Conv2D)            (None, 71, 71, 128)       73856     \n",
      "_________________________________________________________________\n",
      "max_pooling2d_2 (MaxPooling2 (None, 35, 35, 128)       0         \n",
      "_________________________________________________________________\n",
      "conv2d_3 (Conv2D)            (None, 33, 33, 128)       147584    \n",
      "_________________________________________________________________\n",
      "max_pooling2d_3 (MaxPooling2 (None, 16, 16, 128)       0         \n",
      "_________________________________________________________________\n",
      "flatten (Flatten)            (None, 32768)             0         \n",
      "_________________________________________________________________\n",
      "dense (Dense)                (None, 1024)              33555456  \n",
      "_________________________________________________________________\n",
      "dense_1 (Dense)              (None, 1)                 1025      \n",
      "=================================================================\n",
      "Total params: 33,797,313\n",
      "Trainable params: 33,797,313\n",
      "Non-trainable params: 0\n",
      "_________________________________________________________________\n"
     ]
    }
   ],
   "source": [
    "model.summary()"
   ]
  },
  {
   "cell_type": "code",
   "execution_count": 7,
   "metadata": {
    "id": "Sx0hGKA1lbtH"
   },
   "outputs": [],
   "source": [
    "model.compile(loss = 'binary_crossentropy' , \n",
    "              optimizer=RMSprop(learning_rate=0.001) ,\n",
    "              metrics=['accuracy'] )\n",
    "\n",
    "## we are using RMSprop intead of SGD because rmsprop , adam , adagard automatically adapt the learning rate whereas SGD dont\n",
    "## we are using binary crossentropy cause there is binary output \n",
    "# ## site to learn which is best loss function  --- https://gombru.github.io/2018/05/23/cross_entropy_loss/"
   ]
  },
  {
   "cell_type": "markdown",
   "metadata": {
    "id": "RgkP9DvQsvJ6"
   },
   "source": [
    "Now using ImageDataGenrator lib to rescale the image and convert it into binary form,"
   ]
  },
  {
   "cell_type": "code",
   "execution_count": 8,
   "metadata": {
    "colab": {
     "base_uri": "https://localhost:8080/"
    },
    "id": "DBVh6ZDKs84W",
    "outputId": "940e0434-ffd0-4038-ec6a-688700093476"
   },
   "outputs": [
    {
     "name": "stdout",
     "output_type": "stream",
     "text": [
      "Found 2000 images belonging to 2 classes.\n",
      "Found 1000 images belonging to 2 classes.\n"
     ]
    }
   ],
   "source": [
    "from tensorflow.keras.preprocessing.image import ImageDataGenerator\n",
    "\n",
    "train_gen = ImageDataGenerator(rescale = 1/255)\n",
    "\n",
    "train_data = train_gen.flow_from_directory( \n",
    "    \"train/\", # path of main directory \n",
    "    target_size = (300 ,300) , # resizing all the images to 300x300\n",
    "    batch_size = 10 , #images are taken from the directory in batches and we are taking 128 image per batch\n",
    "    class_mode = \"binary\" # we use binary class mode as loss funtion is using binary crossentropy and output is binary\n",
    "\n",
    ")\n",
    "\n",
    "#for validation set \n",
    "val_gen = ImageDataGenerator(rescale = 1/255)\n",
    "\n",
    "val_data = train_gen.flow_from_directory( \n",
    "    \"validation/\",  \n",
    "    target_size = (300 ,300) , \n",
    "    batch_size = 10 , \n",
    "    class_mode = \"binary\"\n",
    ")\n"
   ]
  },
  {
   "cell_type": "code",
   "execution_count": 9,
   "metadata": {
    "colab": {
     "base_uri": "https://localhost:8080/"
    },
    "id": "8-8vnDuntG4F",
    "outputId": "ad2795a2-21db-46d3-f3f8-8546c92c2d94"
   },
   "outputs": [
    {
     "name": "stdout",
     "output_type": "stream",
     "text": [
      "Epoch 1/50\n",
      "100/100 - 11s - loss: 0.8529 - accuracy: 0.5200 - val_loss: 0.6943 - val_accuracy: 0.5000\n",
      "Epoch 2/50\n",
      "100/100 - 7s - loss: 0.7017 - accuracy: 0.5220 - val_loss: 0.7008 - val_accuracy: 0.5000\n",
      "Epoch 3/50\n",
      "100/100 - 7s - loss: 0.6927 - accuracy: 0.5430 - val_loss: 0.6955 - val_accuracy: 0.5720\n",
      "Epoch 4/50\n",
      "100/100 - 7s - loss: 0.6938 - accuracy: 0.5410 - val_loss: 0.7411 - val_accuracy: 0.5070\n",
      "Epoch 5/50\n",
      "100/100 - 7s - loss: 0.6826 - accuracy: 0.5980 - val_loss: 0.6539 - val_accuracy: 0.6340\n",
      "Epoch 6/50\n",
      "100/100 - 7s - loss: 0.6637 - accuracy: 0.6270 - val_loss: 0.6770 - val_accuracy: 0.6550\n",
      "Epoch 7/50\n",
      "100/100 - 7s - loss: 0.6732 - accuracy: 0.6270 - val_loss: 0.6770 - val_accuracy: 0.5970\n",
      "Epoch 8/50\n",
      "100/100 - 7s - loss: 0.6693 - accuracy: 0.6460 - val_loss: 0.6818 - val_accuracy: 0.6390\n",
      "Epoch 9/50\n",
      "100/100 - 7s - loss: 0.5919 - accuracy: 0.7060 - val_loss: 0.6231 - val_accuracy: 0.6690\n",
      "Epoch 10/50\n",
      "100/100 - 7s - loss: 0.5858 - accuracy: 0.7050 - val_loss: 0.6282 - val_accuracy: 0.6680\n",
      "Epoch 11/50\n",
      "100/100 - 7s - loss: 0.5665 - accuracy: 0.7110 - val_loss: 0.6315 - val_accuracy: 0.6810\n",
      "Epoch 12/50\n",
      "100/100 - 7s - loss: 0.6024 - accuracy: 0.7420 - val_loss: 0.6087 - val_accuracy: 0.6700\n",
      "Epoch 13/50\n",
      "100/100 - 7s - loss: 0.5423 - accuracy: 0.7320 - val_loss: 0.6786 - val_accuracy: 0.6790\n",
      "Epoch 14/50\n",
      "100/100 - 7s - loss: 0.4745 - accuracy: 0.7730 - val_loss: 0.6437 - val_accuracy: 0.6810\n",
      "Epoch 15/50\n",
      "100/100 - 7s - loss: 0.4569 - accuracy: 0.7880 - val_loss: 0.6287 - val_accuracy: 0.7220\n",
      "Epoch 16/50\n",
      "100/100 - 7s - loss: 0.4414 - accuracy: 0.8220 - val_loss: 0.6542 - val_accuracy: 0.7060\n",
      "Epoch 17/50\n",
      "100/100 - 7s - loss: 0.3923 - accuracy: 0.8450 - val_loss: 0.7101 - val_accuracy: 0.6480\n",
      "Epoch 18/50\n",
      "100/100 - 7s - loss: 0.3498 - accuracy: 0.8550 - val_loss: 0.8395 - val_accuracy: 0.6580\n",
      "Epoch 19/50\n",
      "100/100 - 7s - loss: 0.3443 - accuracy: 0.8670 - val_loss: 0.8703 - val_accuracy: 0.7080\n",
      "Epoch 20/50\n",
      "100/100 - 7s - loss: 0.2927 - accuracy: 0.8800 - val_loss: 1.1147 - val_accuracy: 0.6940\n",
      "Epoch 21/50\n",
      "100/100 - 8s - loss: 0.2675 - accuracy: 0.8870 - val_loss: 0.8607 - val_accuracy: 0.7010\n",
      "Epoch 22/50\n",
      "100/100 - 7s - loss: 0.2415 - accuracy: 0.9090 - val_loss: 1.1263 - val_accuracy: 0.6540\n",
      "Epoch 23/50\n",
      "100/100 - 7s - loss: 0.2166 - accuracy: 0.9250 - val_loss: 1.8768 - val_accuracy: 0.6710\n",
      "Epoch 24/50\n",
      "100/100 - 7s - loss: 0.1834 - accuracy: 0.9350 - val_loss: 1.2941 - val_accuracy: 0.7040\n",
      "Epoch 25/50\n",
      "100/100 - 7s - loss: 0.1173 - accuracy: 0.9570 - val_loss: 1.6134 - val_accuracy: 0.7060\n",
      "Epoch 26/50\n",
      "100/100 - 7s - loss: 0.1731 - accuracy: 0.9330 - val_loss: 1.1385 - val_accuracy: 0.6930\n",
      "Epoch 27/50\n",
      "100/100 - 7s - loss: 0.1027 - accuracy: 0.9680 - val_loss: 3.3777 - val_accuracy: 0.7010\n",
      "Epoch 28/50\n",
      "100/100 - 7s - loss: 0.1257 - accuracy: 0.9500 - val_loss: 2.1687 - val_accuracy: 0.6840\n",
      "Epoch 29/50\n",
      "100/100 - 7s - loss: 0.0645 - accuracy: 0.9790 - val_loss: 3.5189 - val_accuracy: 0.6720\n",
      "Epoch 30/50\n",
      "100/100 - 7s - loss: 0.1502 - accuracy: 0.9590 - val_loss: 2.2518 - val_accuracy: 0.7130\n",
      "Epoch 31/50\n",
      "100/100 - 7s - loss: 0.1164 - accuracy: 0.9740 - val_loss: 2.3800 - val_accuracy: 0.6820\n",
      "Epoch 32/50\n",
      "100/100 - 7s - loss: 0.1277 - accuracy: 0.9650 - val_loss: 3.3877 - val_accuracy: 0.7090\n",
      "Epoch 33/50\n",
      "100/100 - 7s - loss: 0.1418 - accuracy: 0.9670 - val_loss: 3.6171 - val_accuracy: 0.6580\n",
      "Epoch 34/50\n",
      "100/100 - 7s - loss: 0.2735 - accuracy: 0.9610 - val_loss: 2.5560 - val_accuracy: 0.6440\n",
      "Epoch 35/50\n",
      "100/100 - 7s - loss: 0.0650 - accuracy: 0.9830 - val_loss: 4.1972 - val_accuracy: 0.6850\n",
      "Epoch 36/50\n",
      "100/100 - 7s - loss: 0.1320 - accuracy: 0.9660 - val_loss: 2.5054 - val_accuracy: 0.6700\n",
      "Epoch 37/50\n",
      "100/100 - 7s - loss: 0.0802 - accuracy: 0.9790 - val_loss: 5.1467 - val_accuracy: 0.6730\n",
      "Epoch 38/50\n",
      "100/100 - 7s - loss: 0.1066 - accuracy: 0.9740 - val_loss: 3.7193 - val_accuracy: 0.6910\n",
      "Epoch 39/50\n",
      "100/100 - 7s - loss: 0.0959 - accuracy: 0.9810 - val_loss: 3.4048 - val_accuracy: 0.6830\n",
      "Epoch 40/50\n",
      "100/100 - 7s - loss: 0.0752 - accuracy: 0.9850 - val_loss: 3.3277 - val_accuracy: 0.6730\n",
      "Epoch 41/50\n",
      "100/100 - 7s - loss: 0.1039 - accuracy: 0.9730 - val_loss: 2.9190 - val_accuracy: 0.6940\n",
      "Epoch 42/50\n",
      "100/100 - 7s - loss: 0.0782 - accuracy: 0.9790 - val_loss: 3.9249 - val_accuracy: 0.6940\n",
      "Epoch 43/50\n",
      "100/100 - 7s - loss: 0.0816 - accuracy: 0.9860 - val_loss: 4.0385 - val_accuracy: 0.6960\n",
      "Epoch 44/50\n",
      "100/100 - 7s - loss: 0.1386 - accuracy: 0.9710 - val_loss: 4.2319 - val_accuracy: 0.6710\n",
      "Epoch 45/50\n",
      "100/100 - 7s - loss: 0.1233 - accuracy: 0.9840 - val_loss: 4.9645 - val_accuracy: 0.6880\n",
      "Epoch 46/50\n",
      "100/100 - 7s - loss: 0.1487 - accuracy: 0.9770 - val_loss: 4.0703 - val_accuracy: 0.6940\n",
      "Epoch 47/50\n",
      "100/100 - 7s - loss: 0.0911 - accuracy: 0.9860 - val_loss: 5.5439 - val_accuracy: 0.6730\n",
      "Epoch 48/50\n",
      "100/100 - 7s - loss: 0.1632 - accuracy: 0.9890 - val_loss: 5.5484 - val_accuracy: 0.6970\n",
      "Epoch 49/50\n",
      "100/100 - 7s - loss: 0.1982 - accuracy: 0.9860 - val_loss: 5.9045 - val_accuracy: 0.7010\n",
      "Epoch 50/50\n",
      "100/100 - 7s - loss: 0.1319 - accuracy: 0.9840 - val_loss: 6.4500 - val_accuracy: 0.6950\n"
     ]
    }
   ],
   "source": [
    "# now training the model\n",
    "\n",
    "model_fiting = model.fit(train_data , steps_per_epoch=100,epochs=50 ,validation_data=val_data, verbose=2 ,batch_size =10)"
   ]
  },
  {
   "cell_type": "code",
   "execution_count": 42,
   "metadata": {
    "colab": {
     "base_uri": "https://localhost:8080/",
     "height": 128
    },
    "id": "xLXQqYCmvSvT",
    "outputId": "340f92f6-ffb3-40ad-d287-e9801db3614c"
   },
   "outputs": [
    {
     "name": "stdout",
     "output_type": "stream",
     "text": [
      "[0.5595325]\n",
      "golden-retriever-dog-21668976.jpg is a dog\n",
      "[0.99358094]\n",
      "labrador-retriever-1210559__480.jpg is a dog\n"
     ]
    }
   ],
   "source": [
    "import numpy as np\n",
    "#from google.colab import files\n",
    "from tensorflow.keras.utils import load_img , img_to_array\n",
    "\n",
    "## ----------------------------------------------------------------------------------------------------------------------------\n",
    "# # FOR COLLAB WE NEED TO USE THIS CODE\n",
    "\n",
    "# uploading_file = files.upload()\n",
    "\n",
    "# for fn in uploading_file:\n",
    "#   path = 'gdrive/MyDrive/' + fn\n",
    "#   image = load_img(path , target_size=(300,300))\n",
    "#   x = img_to_array(image)\n",
    "#   x = x/225\n",
    "#   x = np.expand_dims(x , axis=0)\n",
    "\n",
    "#   images = np.vstack([x])\n",
    "#   pred_res = model.predict(images , batch_size=10)\n",
    "#   print(pred_res[0])\n",
    "#   if pred_res[0]>0.5:\n",
    "#     print(fn + \" is a cat\")\n",
    "#   else:\n",
    "#     print(fn + \" is a dog\")\n",
    "## -----------------------------------------------------------------------------------------------------------------------------\n",
    "\n",
    "\n",
    "#used for uploading the file we want to predict\n",
    "uploading_file = os.listdir('test/')\n",
    "\n",
    "for fn in uploading_file:\n",
    "  path = \"C:/Users/mohit/Downloads/Compressed/cats_and_dogs_filtered/cats_and_dogs_filtered/test/\"+fn\n",
    "  image = load_img(path , target_size=(300,300))\n",
    "  x = img_to_array(image)\n",
    "  x = x/225\n",
    "  x = np.expand_dims(x , axis=0)\n",
    "\n",
    "  images = np.vstack([x])\n",
    "  pred_res = model.predict(images , batch_size=10)\n",
    "  print(pred_res[0])\n",
    "  if pred_res[0]>0.5:\n",
    "    print(fn + \" is a dog\")\n",
    "  else:\n",
    "    print(fn + \" is a cat\")"
   ]
  },
  {
   "cell_type": "markdown",
   "metadata": {
    "id": "u7XztM-O-uym"
   },
   "source": [
    "### Checking if our model is overfitting or not"
   ]
  },
  {
   "cell_type": "code",
   "execution_count": 10,
   "metadata": {
    "colab": {
     "base_uri": "https://localhost:8080/"
    },
    "id": "oOT6Q6Hm4lxd",
    "outputId": "15f8bada-bf1d-4f97-89bb-9a66c8845cf2"
   },
   "outputs": [
    {
     "name": "stdout",
     "output_type": "stream",
     "text": [
      "[0.5199999809265137, 0.5220000147819519, 0.5429999828338623, 0.5410000085830688, 0.5979999899864197, 0.6269999742507935, 0.6269999742507935, 0.6460000276565552, 0.7059999704360962, 0.7049999833106995, 0.7110000252723694, 0.7419999837875366, 0.7319999933242798, 0.7730000019073486, 0.7879999876022339, 0.8220000267028809, 0.8450000286102295, 0.8550000190734863, 0.8669999837875366, 0.8799999952316284, 0.8870000243186951, 0.9089999794960022, 0.925000011920929, 0.9350000023841858, 0.9570000171661377, 0.9330000281333923, 0.9679999947547913, 0.949999988079071, 0.9789999723434448, 0.9589999914169312, 0.9739999771118164, 0.9649999737739563, 0.9670000076293945, 0.9610000252723694, 0.9829999804496765, 0.9660000205039978, 0.9789999723434448, 0.9739999771118164, 0.9810000061988831, 0.9850000143051147, 0.9729999899864197, 0.9789999723434448, 0.9860000014305115, 0.9710000157356262, 0.984000027179718, 0.9769999980926514, 0.9860000014305115, 0.9890000224113464, 0.9860000014305115, 0.984000027179718]\n",
      "[0.5, 0.5, 0.5720000267028809, 0.5070000290870667, 0.6340000033378601, 0.6549999713897705, 0.597000002861023, 0.6389999985694885, 0.6690000295639038, 0.6679999828338623, 0.6809999942779541, 0.6700000166893005, 0.6790000200271606, 0.6809999942779541, 0.722000002861023, 0.7059999704360962, 0.6480000019073486, 0.6579999923706055, 0.7080000042915344, 0.6940000057220459, 0.7009999752044678, 0.6539999842643738, 0.6710000038146973, 0.7039999961853027, 0.7059999704360962, 0.6930000185966492, 0.7009999752044678, 0.6840000152587891, 0.671999990940094, 0.7129999995231628, 0.6819999814033508, 0.7089999914169312, 0.6579999923706055, 0.6439999938011169, 0.6850000023841858, 0.6700000166893005, 0.6729999780654907, 0.6909999847412109, 0.6830000281333923, 0.6729999780654907, 0.6940000057220459, 0.6940000057220459, 0.6959999799728394, 0.6710000038146973, 0.6880000233650208, 0.6940000057220459, 0.6729999780654907, 0.6970000267028809, 0.7009999752044678, 0.6949999928474426]\n"
     ]
    }
   ],
   "source": [
    "#storing every accuracy and validation accuracy value in a list\n",
    "#history - this funtion stores the value of acc , val_acc\n",
    "acc = model_fiting.history[\"accuracy\"]\n",
    "validation_acc = model_fiting.history[\"val_accuracy\"]\n",
    "print(acc)\n",
    "print(validation_acc)"
   ]
  },
  {
   "cell_type": "code",
   "execution_count": 11,
   "metadata": {
    "colab": {
     "base_uri": "https://localhost:8080/",
     "height": 265
    },
    "id": "RaYlxYf7VxUl",
    "outputId": "1485876e-19e8-4241-9a03-bcf42b056c65"
   },
   "outputs": [
    {
     "data": {
      "image/png": "[encoded data removed]",
      "text/plain": [
       "<Figure size 432x288 with 1 Axes>"
      ]
     },
     "metadata": {
      "needs_background": "light"
     },
     "output_type": "display_data"
    }
   ],
   "source": [
    "\n",
    "import matplotlib.pyplot as plt\n",
    "epochs=range(len(acc))\n",
    "plt.plot(epochs ,acc )\n",
    "plt.plot(epochs, validation_acc)\n",
    "plt.show()"
   ]
  },
  {
   "cell_type": "markdown",
   "metadata": {
    "id": "McERbDVH_RwR"
   },
   "source": [
    "Since , validation set is stoping at approx 0.70 accuracy and training data is touching 1 accurancy we can eaisly see that our model is overfitting \n",
    "One reason is that our training data is less.\n",
    "Second reason is that we are not using agumentation(i.e. rotating and moving image size so that our model can train on even rotated images like sleeping cat )"
   ]
  },
  {
   "cell_type": "markdown",
   "metadata": {
    "id": "wzlYqUkZGfbk"
   },
   "source": [
    "# Using Agumentation\n",
    "with augumentation our data size increases as every images are rotated and moved for better training of model\n",
    "\n",
    "These rotated and moved images do not get stored in our disk we it is temporarily stored in memory and used during training of model."
   ]
  },
  {
   "cell_type": "code",
   "execution_count": 12,
   "metadata": {
    "colab": {
     "base_uri": "https://localhost:8080/"
    },
    "id": "_5F7eR8-HW_X",
    "outputId": "c12f062c-04dc-420f-b419-f7a3dbb7fff1"
   },
   "outputs": [
    {
     "name": "stdout",
     "output_type": "stream",
     "text": [
      "Found 2000 images belonging to 2 classes.\n",
      "Found 1000 images belonging to 2 classes.\n"
     ]
    }
   ],
   "source": [
    "from tensorflow.keras.preprocessing.image import ImageDataGenerator\n",
    "\n",
    "train_gen = ImageDataGenerator(\n",
    "    rescale = 1/255,\n",
    "    rotation_range=40,#rotates the image in 0 to 40 degree range randomly\n",
    "    width_shift_range=0.2,\n",
    "    height_shift_range=0.2,\n",
    "    shear_range=0.2, \n",
    "    zoom_range=0.2,\n",
    "    horizontal_flip=True,\n",
    "    fill_mode='nearest'# lost pixels are replaced by the nearest pixels\n",
    ")\n",
    "\n",
    "## ------------------------------------------------------------------------------------------------------------------------\n",
    "# #for collab we need to use this\n",
    "\n",
    "\n",
    "# train_data = train_gen.flow_from_directory( \n",
    "#     \"tmp/cats_and_dogs_filtered/train\", \n",
    "#     target_size = (300 ,300) , \n",
    "#     batch_size = 128 , \n",
    "#     class_mode = \"binary\" \n",
    "\n",
    "# )\n",
    "\n",
    "# #for validation set \n",
    "# val_gen = ImageDataGenerator(rescale = 1/255)\n",
    "\n",
    "# val_data = val_gen.flow_from_directory( \n",
    "#     \"tmp/cats_and_dogs_filtered/validation\",  \n",
    "#     target_size = (300 ,300) , \n",
    "#     batch_size = 10 , \n",
    "#     class_mode = \"binary\"\n",
    "# )\n",
    "\n",
    "## -----------------------------------------------------------------------------------------------------------------------------\n",
    "\n",
    "\n",
    "train_data = train_gen.flow_from_directory( \n",
    "    \"train/\", # path of main directory \n",
    "    target_size = (300 ,300) , # resizing all the images to 300x300\n",
    "    batch_size = 10 , #images are taken from the directory in batches and we are taking 128 image per batch\n",
    "    class_mode = \"binary\" # we use binary class mode as loss funtion is using binary crossentropy and output is binary\n",
    "\n",
    ")\n",
    "\n",
    "#for validation set \n",
    "val_gen = ImageDataGenerator(rescale = 1/255)\n",
    "\n",
    "val_data = train_gen.flow_from_directory( \n",
    "    \"validation/\",  \n",
    "    target_size = (300 ,300) , \n",
    "    batch_size = 10 , \n",
    "    class_mode = \"binary\"\n",
    ")\n",
    "\n"
   ]
  },
  {
   "cell_type": "code",
   "execution_count": 13,
   "metadata": {
    "colab": {
     "base_uri": "https://localhost:8080/"
    },
    "id": "CHr_aVK-IEtT",
    "outputId": "623a7576-6caa-465f-fd0f-90b2b0cf71b8",
    "scrolled": false
   },
   "outputs": [
    {
     "name": "stdout",
     "output_type": "stream",
     "text": [
      "Epoch 1/30\n",
      "100/100 [==============================] - 26s 260ms/step - loss: 1.1831 - accuracy: 0.5590 - val_loss: 0.8527 - val_accuracy: 0.5400\n",
      "Epoch 2/30\n",
      "100/100 [==============================] - 29s 294ms/step - loss: 0.7141 - accuracy: 0.5990 - val_loss: 0.6860 - val_accuracy: 0.6280\n",
      "Epoch 3/30\n",
      "100/100 [==============================] - 26s 256ms/step - loss: 0.7219 - accuracy: 0.6120 - val_loss: 0.6682 - val_accuracy: 0.5630\n",
      "Epoch 4/30\n",
      "100/100 [==============================] - 25s 256ms/step - loss: 0.6709 - accuracy: 0.6210 - val_loss: 0.6724 - val_accuracy: 0.6290\n",
      "Epoch 5/30\n",
      "100/100 [==============================] - 26s 256ms/step - loss: 0.6935 - accuracy: 0.6290 - val_loss: 0.6357 - val_accuracy: 0.6490\n",
      "Epoch 6/30\n",
      "100/100 [==============================] - 26s 256ms/step - loss: 0.6604 - accuracy: 0.6470 - val_loss: 0.8211 - val_accuracy: 0.6170\n",
      "Epoch 7/30\n",
      "100/100 [==============================] - 26s 264ms/step - loss: 0.6450 - accuracy: 0.6510 - val_loss: 0.6816 - val_accuracy: 0.6380\n",
      "Epoch 8/30\n",
      "100/100 [==============================] - 26s 261ms/step - loss: 0.6884 - accuracy: 0.6490 - val_loss: 0.6565 - val_accuracy: 0.6260\n",
      "Epoch 9/30\n",
      "100/100 [==============================] - 26s 258ms/step - loss: 0.6298 - accuracy: 0.6560 - val_loss: 0.6630 - val_accuracy: 0.6120\n",
      "Epoch 10/30\n",
      "100/100 [==============================] - 26s 262ms/step - loss: 0.6510 - accuracy: 0.6610 - val_loss: 0.7110 - val_accuracy: 0.6530\n",
      "Epoch 11/30\n",
      "100/100 [==============================] - 27s 273ms/step - loss: 0.6413 - accuracy: 0.6730 - val_loss: 0.6670 - val_accuracy: 0.5920\n",
      "Epoch 12/30\n",
      "100/100 [==============================] - 27s 271ms/step - loss: 0.6711 - accuracy: 0.6530 - val_loss: 0.6725 - val_accuracy: 0.6340\n",
      "Epoch 13/30\n",
      "100/100 [==============================] - 28s 278ms/step - loss: 0.6574 - accuracy: 0.6450 - val_loss: 0.6127 - val_accuracy: 0.6770\n",
      "Epoch 14/30\n",
      "100/100 [==============================] - 27s 270ms/step - loss: 0.6571 - accuracy: 0.6650 - val_loss: 0.6450 - val_accuracy: 0.6240\n",
      "Epoch 15/30\n",
      "100/100 [==============================] - 26s 261ms/step - loss: 0.6501 - accuracy: 0.6420 - val_loss: 0.6674 - val_accuracy: 0.5900\n",
      "Epoch 16/30\n",
      "100/100 [==============================] - 26s 259ms/step - loss: 0.6358 - accuracy: 0.6600 - val_loss: 0.6008 - val_accuracy: 0.6840\n",
      "Epoch 17/30\n",
      "100/100 [==============================] - 26s 260ms/step - loss: 0.6233 - accuracy: 0.6710 - val_loss: 0.7523 - val_accuracy: 0.5950\n",
      "Epoch 18/30\n",
      "100/100 [==============================] - 26s 259ms/step - loss: 0.6269 - accuracy: 0.7040 - val_loss: 0.5938 - val_accuracy: 0.6880\n",
      "Epoch 19/30\n",
      "100/100 [==============================] - 26s 253ms/step - loss: 0.5917 - accuracy: 0.6700 - val_loss: 0.6312 - val_accuracy: 0.6420\n",
      "Epoch 20/30\n",
      "100/100 [==============================] - 26s 263ms/step - loss: 0.6136 - accuracy: 0.7000 - val_loss: 0.5822 - val_accuracy: 0.6790\n",
      "Epoch 21/30\n",
      "100/100 [==============================] - 26s 263ms/step - loss: 0.6073 - accuracy: 0.6750 - val_loss: 0.6617 - val_accuracy: 0.6970\n",
      "Epoch 22/30\n",
      "100/100 [==============================] - 26s 263ms/step - loss: 0.6226 - accuracy: 0.6950 - val_loss: 0.6237 - val_accuracy: 0.6570\n",
      "Epoch 23/30\n",
      "100/100 [==============================] - 26s 259ms/step - loss: 0.6155 - accuracy: 0.6830 - val_loss: 0.5757 - val_accuracy: 0.6940\n",
      "Epoch 24/30\n",
      "100/100 [==============================] - 25s 255ms/step - loss: 0.6249 - accuracy: 0.6670 - val_loss: 0.6252 - val_accuracy: 0.6120\n",
      "Epoch 25/30\n",
      "100/100 [==============================] - 26s 257ms/step - loss: 0.5966 - accuracy: 0.6880 - val_loss: 0.6042 - val_accuracy: 0.6820\n",
      "Epoch 26/30\n",
      "100/100 [==============================] - 26s 260ms/step - loss: 0.6061 - accuracy: 0.6830 - val_loss: 0.5800 - val_accuracy: 0.6960\n",
      "Epoch 27/30\n",
      "100/100 [==============================] - 26s 259ms/step - loss: 0.6400 - accuracy: 0.6610 - val_loss: 0.6028 - val_accuracy: 0.7040\n",
      "Epoch 28/30\n",
      "100/100 [==============================] - 26s 257ms/step - loss: 0.6212 - accuracy: 0.7080 - val_loss: 0.6181 - val_accuracy: 0.6580\n",
      "Epoch 29/30\n",
      "100/100 [==============================] - 26s 265ms/step - loss: 0.6180 - accuracy: 0.6980 - val_loss: 0.6087 - val_accuracy: 0.6850\n",
      "Epoch 30/30\n",
      "100/100 [==============================] - 28s 277ms/step - loss: 0.6088 - accuracy: 0.7030 - val_loss: 0.6071 - val_accuracy: 0.6730\n"
     ]
    }
   ],
   "source": [
    "# now training the model\n",
    "\n",
    "model_fiting = model.fit(train_data , steps_per_epoch=100,epochs=30 ,validation_data=val_data, verbose=1)"
   ]
  },
  {
   "cell_type": "code",
   "execution_count": 48,
   "metadata": {
    "colab": {
     "base_uri": "https://localhost:8080/",
     "height": 219
    },
    "id": "kY0qI1dsIEli",
    "outputId": "ac7e07a2-0155-4aaf-abb1-ca3956f5038a"
   },
   "outputs": [
    {
     "name": "stdout",
     "output_type": "stream",
     "text": [
      "[0.855515]\n",
      "golden-retriever-dog-21668976.jpg is a dog\n",
      "[0.99644744]\n",
      "labrador-retriever-1210559__480.jpg is a dog\n"
     ]
    }
   ],
   "source": [
    "import numpy as np\n",
    "#from google.colab import files\n",
    "from tensorflow.keras.utils import load_img , img_to_array\n",
    "\n",
    "# #used for uploading the file we want to predict\n",
    "# uploading_file = files.upload()\n",
    "\n",
    "# for fn in uploading_file:\n",
    "#   path = 'gdrive/MyDrive/' + fn\n",
    "#   image = load_img(path , target_size=(300,300))\n",
    "#   x = img_to_array(image)\n",
    "#   x = x/225\n",
    "#   x = np.expand_dims(x , axis=0)\n",
    "\n",
    "#   images = np.vstack([x])\n",
    "#   pred_res = model.predict(images , batch_size=10)\n",
    "#   print(pred_res[0])\n",
    "#   if pred_res[0]>0.5:\n",
    "#     print(fn + \" is a cat\")\n",
    "#   else:\n",
    "#     print(fn + \" is a dog\")\n",
    "\n",
    "\n",
    "for fn in uploading_file:\n",
    "  path = \"C:/Users/mohit/Downloads/Compressed/cats_and_dogs_filtered/cats_and_dogs_filtered/test/\"+fn\n",
    "  image = load_img(path , target_size=(300,300))\n",
    "  x = img_to_array(image)\n",
    "  x = x/225\n",
    "  x = np.expand_dims(x , axis=0)\n",
    "\n",
    "  images = np.vstack([x])\n",
    "  pred_res = model.predict(images , batch_size=10)\n",
    "  print(pred_res[0])\n",
    "  if pred_res[0]>0.5:\n",
    "    print(fn + \" is a dog\")\n",
    "  else:\n",
    "    print(fn + \" is a cat\")\n",
    "    "
   ]
  },
  {
   "cell_type": "code",
   "execution_count": 14,
   "metadata": {
    "colab": {
     "base_uri": "https://localhost:8080/"
    },
    "id": "g7lgy0JVIEbi",
    "outputId": "5b25e9f0-aad1-4d5c-d33d-aae645cb1130"
   },
   "outputs": [
    {
     "name": "stdout",
     "output_type": "stream",
     "text": [
      "[0.5590000152587891, 0.5989999771118164, 0.6119999885559082, 0.6209999918937683, 0.6290000081062317, 0.6470000147819519, 0.6510000228881836, 0.6489999890327454, 0.656000018119812, 0.6610000133514404, 0.6729999780654907, 0.652999997138977, 0.6449999809265137, 0.6650000214576721, 0.6420000195503235, 0.6600000262260437, 0.6710000038146973, 0.7039999961853027, 0.6700000166893005, 0.699999988079071, 0.675000011920929, 0.6949999928474426, 0.6830000281333923, 0.6669999957084656, 0.6880000233650208, 0.6830000281333923, 0.6610000133514404, 0.7080000042915344, 0.6980000138282776, 0.703000009059906]\n",
      "[0.5400000214576721, 0.628000020980835, 0.5630000233650208, 0.6290000081062317, 0.6489999890327454, 0.6169999837875366, 0.6380000114440918, 0.6259999871253967, 0.6119999885559082, 0.652999997138977, 0.5920000076293945, 0.6340000033378601, 0.6769999861717224, 0.6240000128746033, 0.5899999737739563, 0.6840000152587891, 0.5950000286102295, 0.6880000233650208, 0.6420000195503235, 0.6790000200271606, 0.6970000267028809, 0.6570000052452087, 0.6940000057220459, 0.6119999885559082, 0.6819999814033508, 0.6959999799728394, 0.7039999961853027, 0.6579999923706055, 0.6850000023841858, 0.6729999780654907]\n"
     ]
    }
   ],
   "source": [
    "acc = model_fiting.history[\"accuracy\"]\n",
    "validation_acc = model_fiting.history[\"val_accuracy\"]\n",
    "print(acc)\n",
    "print(validation_acc)"
   ]
  },
  {
   "cell_type": "code",
   "execution_count": 15,
   "metadata": {
    "colab": {
     "base_uri": "https://localhost:8080/",
     "height": 265
    },
    "id": "O0DGIj2LIPFo",
    "outputId": "21e2984e-a40b-4160-b03f-c7a780a4b023"
   },
   "outputs": [
    {
     "data": {
      "image/png": "[encoded data removed]",
      "text/plain": [
       "<Figure size 432x288 with 1 Axes>"
      ]
     },
     "metadata": {
      "needs_background": "light"
     },
     "output_type": "display_data"
    }
   ],
   "source": [
    "import matplotlib.pyplot as plt\n",
    "epochs=range(len(acc))\n",
    "plt.plot(epochs ,acc )\n",
    "plt.plot(epochs ,validation_acc )\n",
    "plt.show()"
   ]
  },
  {
   "cell_type": "markdown",
   "metadata": {
    "id": "G2ExniE_26Hk"
   },
   "source": [
    "From agumentation we can se that our model  is not much overfiting as it is gradually moving to highest accuracy along with the validation data.\n",
    "\n",
    "We can further use tranferlearning and dropouts to remove overfitting of the model\n"
   ]
  },
  {
   "cell_type": "markdown",
   "metadata": {},
   "source": [
    "# Dropouts\n",
    "In dropout few nodes are droped from a layer which have nearly same weight as the other nodes so as to reduce the overfiting of the model."
   ]
  },
  {
   "cell_type": "code",
   "execution_count": 5,
   "metadata": {
    "id": "Ae-eJNa920wc"
   },
   "outputs": [],
   "source": [
    "model = tf.keras.models.Sequential([\n",
    "    tf.keras.layers.Conv2D(32, (3,3) , input_shape=(300,300,3), activation='relu'),\n",
    "    tf.keras.layers.MaxPool2D(2,2),\n",
    "    tf.keras.layers.Conv2D(64, (3,3), activation='relu'),\n",
    "    tf.keras.layers.MaxPool2D(2,2),\n",
    "    tf.keras.layers.Conv2D(128, (3,3), activation='relu'),\n",
    "    tf.keras.layers.MaxPool2D(2,2),\n",
    "    tf.keras.layers.Conv2D(128, (3,3), activation='relu'),\n",
    "    tf.keras.layers.MaxPool2D(2,2),\n",
    "    tf.keras.layers.Flatten(),\n",
    "    tf.keras.layers.Dense(1024 , activation=\"relu\"),\n",
    "    tf.keras.layers.Dropout(0.5),\n",
    "    tf.keras.layers.Dense(512 , activation=\"relu\"),\n",
    "    tf.keras.layers.Dropout(0.3),\n",
    "    tf.keras.layers.Dense(128 , activation=\"relu\"),\n",
    "    tf.keras.layers.Dropout(0.3),\n",
    "    tf.keras.layers.Dense(1, activation = 'sigmoid')\n",
    "])"
   ]
  },
  {
   "cell_type": "code",
   "execution_count": 6,
   "metadata": {
    "id": "rI8Xt9aWtN1I"
   },
   "outputs": [],
   "source": [
    "model.compile(loss = 'binary_crossentropy' , \n",
    "              optimizer=RMSprop(learning_rate=0.0001) ,\n",
    "              metrics=['accuracy'] )"
   ]
  },
  {
   "cell_type": "code",
   "execution_count": 7,
   "metadata": {
    "id": "xWrOi_vWtP0i"
   },
   "outputs": [
    {
     "name": "stdout",
     "output_type": "stream",
     "text": [
      "Found 2000 images belonging to 2 classes.\n",
      "Found 1000 images belonging to 2 classes.\n"
     ]
    }
   ],
   "source": [
    "from tensorflow.keras.preprocessing.image import ImageDataGenerator\n",
    "\n",
    "train_gen = ImageDataGenerator(\n",
    "    rescale = 1/255,\n",
    "    rotation_range=40,\n",
    "    width_shift_range=0.2,\n",
    "    height_shift_range=0.2,\n",
    "    shear_range=0.2, \n",
    "    zoom_range=0.2,\n",
    "    horizontal_flip=True,\n",
    "    fill_mode='nearest'\n",
    ")\n",
    "\n",
    "\n",
    "\n",
    "train_data = train_gen.flow_from_directory( \n",
    "    \"train/\",  \n",
    "    target_size = (300 ,300) , \n",
    "    batch_size = 10 ,\n",
    "    class_mode = \"binary\" \n",
    "\n",
    ")\n",
    "\n",
    "#for validation set \n",
    "val_gen = ImageDataGenerator(rescale = 1/255)\n",
    "\n",
    "val_data = train_gen.flow_from_directory( \n",
    "    \"validation/\",  \n",
    "    target_size = (300 ,300) , \n",
    "    batch_size = 10 , \n",
    "    class_mode = \"binary\"\n",
    ")\n"
   ]
  },
  {
   "cell_type": "code",
   "execution_count": 8,
   "metadata": {},
   "outputs": [
    {
     "name": "stdout",
     "output_type": "stream",
     "text": [
      "Epoch 1/80\n",
      "200/200 - 44s - loss: 0.6955 - accuracy: 0.4890 - val_loss: 0.6922 - val_accuracy: 0.5000\n",
      "Epoch 2/80\n",
      "200/200 - 42s - loss: 0.6947 - accuracy: 0.5020 - val_loss: 0.6919 - val_accuracy: 0.5000\n",
      "Epoch 3/80\n",
      "200/200 - 42s - loss: 0.6943 - accuracy: 0.5000 - val_loss: 0.6918 - val_accuracy: 0.5000\n",
      "Epoch 4/80\n",
      "200/200 - 41s - loss: 0.6939 - accuracy: 0.4935 - val_loss: 0.6906 - val_accuracy: 0.5000\n",
      "Epoch 5/80\n",
      "200/200 - 43s - loss: 0.6909 - accuracy: 0.5315 - val_loss: 0.6891 - val_accuracy: 0.5010\n",
      "Epoch 6/80\n",
      "200/200 - 41s - loss: 0.6914 - accuracy: 0.5250 - val_loss: 0.6867 - val_accuracy: 0.5020\n",
      "Epoch 7/80\n",
      "200/200 - 42s - loss: 0.6882 - accuracy: 0.5355 - val_loss: 0.6826 - val_accuracy: 0.5090\n",
      "Epoch 8/80\n",
      "200/200 - 42s - loss: 0.6857 - accuracy: 0.5525 - val_loss: 0.6756 - val_accuracy: 0.5820\n",
      "Epoch 9/80\n",
      "200/200 - 42s - loss: 0.6820 - accuracy: 0.5415 - val_loss: 0.6704 - val_accuracy: 0.5980\n",
      "Epoch 10/80\n",
      "200/200 - 42s - loss: 0.6797 - accuracy: 0.5470 - val_loss: 0.6639 - val_accuracy: 0.6100\n",
      "Epoch 11/80\n",
      "200/200 - 42s - loss: 0.6750 - accuracy: 0.5535 - val_loss: 0.6587 - val_accuracy: 0.6140\n",
      "Epoch 12/80\n",
      "200/200 - 41s - loss: 0.6730 - accuracy: 0.5665 - val_loss: 0.6510 - val_accuracy: 0.6120\n",
      "Epoch 13/80\n",
      "200/200 - 41s - loss: 0.6689 - accuracy: 0.5730 - val_loss: 0.6543 - val_accuracy: 0.5820\n",
      "Epoch 14/80\n",
      "200/200 - 40s - loss: 0.6646 - accuracy: 0.5820 - val_loss: 0.6434 - val_accuracy: 0.6080\n",
      "Epoch 15/80\n",
      "200/200 - 39s - loss: 0.6620 - accuracy: 0.5935 - val_loss: 0.6422 - val_accuracy: 0.6130\n",
      "Epoch 16/80\n",
      "200/200 - 41s - loss: 0.6591 - accuracy: 0.5975 - val_loss: 0.6372 - val_accuracy: 0.6270\n",
      "Epoch 17/80\n",
      "200/200 - 46s - loss: 0.6581 - accuracy: 0.5800 - val_loss: 0.6379 - val_accuracy: 0.6230\n",
      "Epoch 18/80\n",
      "200/200 - 44s - loss: 0.6558 - accuracy: 0.5885 - val_loss: 0.6321 - val_accuracy: 0.6490\n",
      "Epoch 19/80\n",
      "200/200 - 41s - loss: 0.6533 - accuracy: 0.6035 - val_loss: 0.6356 - val_accuracy: 0.6270\n",
      "Epoch 20/80\n",
      "200/200 - 40s - loss: 0.6484 - accuracy: 0.6010 - val_loss: 0.6267 - val_accuracy: 0.6450\n",
      "Epoch 21/80\n",
      "200/200 - 38s - loss: 0.6510 - accuracy: 0.6040 - val_loss: 0.6363 - val_accuracy: 0.6220\n",
      "Epoch 22/80\n",
      "200/200 - 39s - loss: 0.6506 - accuracy: 0.6160 - val_loss: 0.6191 - val_accuracy: 0.6570\n",
      "Epoch 23/80\n",
      "200/200 - 38s - loss: 0.6418 - accuracy: 0.6115 - val_loss: 0.6200 - val_accuracy: 0.6540\n",
      "Epoch 24/80\n",
      "200/200 - 40s - loss: 0.6392 - accuracy: 0.6245 - val_loss: 0.6132 - val_accuracy: 0.6650\n",
      "Epoch 25/80\n",
      "200/200 - 38s - loss: 0.6319 - accuracy: 0.6340 - val_loss: 0.6047 - val_accuracy: 0.6630\n",
      "Epoch 26/80\n",
      "200/200 - 38s - loss: 0.6293 - accuracy: 0.6370 - val_loss: 0.6071 - val_accuracy: 0.6590\n",
      "Epoch 27/80\n",
      "200/200 - 37s - loss: 0.6177 - accuracy: 0.6640 - val_loss: 0.5950 - val_accuracy: 0.6720\n",
      "Epoch 28/80\n",
      "200/200 - 38s - loss: 0.6131 - accuracy: 0.6585 - val_loss: 0.5854 - val_accuracy: 0.6950\n",
      "Epoch 29/80\n",
      "200/200 - 38s - loss: 0.6058 - accuracy: 0.6715 - val_loss: 0.5912 - val_accuracy: 0.6900\n",
      "Epoch 30/80\n",
      "200/200 - 39s - loss: 0.6067 - accuracy: 0.6665 - val_loss: 0.6039 - val_accuracy: 0.6580\n",
      "Epoch 31/80\n",
      "200/200 - 39s - loss: 0.6119 - accuracy: 0.6490 - val_loss: 0.5848 - val_accuracy: 0.6980\n",
      "Epoch 32/80\n",
      "200/200 - 39s - loss: 0.6042 - accuracy: 0.6780 - val_loss: 0.5727 - val_accuracy: 0.6950\n",
      "Epoch 33/80\n",
      "200/200 - 39s - loss: 0.5956 - accuracy: 0.6715 - val_loss: 0.5886 - val_accuracy: 0.6690\n",
      "Epoch 34/80\n",
      "200/200 - 39s - loss: 0.5909 - accuracy: 0.6935 - val_loss: 0.5787 - val_accuracy: 0.7020\n",
      "Epoch 35/80\n",
      "200/200 - 38s - loss: 0.5858 - accuracy: 0.6945 - val_loss: 0.5747 - val_accuracy: 0.7050\n",
      "Epoch 36/80\n",
      "200/200 - 39s - loss: 0.5912 - accuracy: 0.6855 - val_loss: 0.5902 - val_accuracy: 0.6850\n",
      "Epoch 37/80\n",
      "200/200 - 39s - loss: 0.5833 - accuracy: 0.6965 - val_loss: 0.6009 - val_accuracy: 0.6700\n",
      "Epoch 38/80\n",
      "200/200 - 39s - loss: 0.5916 - accuracy: 0.6875 - val_loss: 0.5780 - val_accuracy: 0.6910\n",
      "Epoch 39/80\n",
      "200/200 - 38s - loss: 0.5899 - accuracy: 0.6790 - val_loss: 0.5868 - val_accuracy: 0.6950\n",
      "Epoch 40/80\n",
      "200/200 - 38s - loss: 0.5825 - accuracy: 0.6935 - val_loss: 0.5829 - val_accuracy: 0.6960\n",
      "Epoch 41/80\n",
      "200/200 - 38s - loss: 0.5720 - accuracy: 0.7030 - val_loss: 0.5774 - val_accuracy: 0.7000\n",
      "Epoch 42/80\n",
      "200/200 - 38s - loss: 0.5623 - accuracy: 0.6975 - val_loss: 0.5789 - val_accuracy: 0.6900\n",
      "Epoch 43/80\n",
      "200/200 - 38s - loss: 0.5697 - accuracy: 0.7095 - val_loss: 0.5859 - val_accuracy: 0.6870\n",
      "Epoch 44/80\n",
      "200/200 - 38s - loss: 0.5755 - accuracy: 0.6945 - val_loss: 0.5741 - val_accuracy: 0.6930\n",
      "Epoch 45/80\n",
      "200/200 - 38s - loss: 0.5683 - accuracy: 0.6970 - val_loss: 0.5698 - val_accuracy: 0.6840\n",
      "Epoch 46/80\n",
      "200/200 - 38s - loss: 0.5624 - accuracy: 0.7095 - val_loss: 0.5677 - val_accuracy: 0.7180\n",
      "Epoch 47/80\n",
      "200/200 - 39s - loss: 0.5801 - accuracy: 0.6915 - val_loss: 0.5783 - val_accuracy: 0.6970\n",
      "Epoch 48/80\n",
      "200/200 - 38s - loss: 0.5654 - accuracy: 0.7145 - val_loss: 0.5730 - val_accuracy: 0.7030\n",
      "Epoch 49/80\n",
      "200/200 - 39s - loss: 0.5694 - accuracy: 0.7100 - val_loss: 0.5824 - val_accuracy: 0.6920\n",
      "Epoch 50/80\n",
      "200/200 - 38s - loss: 0.5546 - accuracy: 0.7220 - val_loss: 0.5721 - val_accuracy: 0.7040\n",
      "Epoch 51/80\n",
      "200/200 - 39s - loss: 0.5601 - accuracy: 0.7155 - val_loss: 0.5659 - val_accuracy: 0.7140\n",
      "Epoch 52/80\n",
      "200/200 - 38s - loss: 0.5562 - accuracy: 0.7245 - val_loss: 0.5927 - val_accuracy: 0.6820\n",
      "Epoch 53/80\n",
      "200/200 - 38s - loss: 0.5556 - accuracy: 0.7075 - val_loss: 0.5706 - val_accuracy: 0.6940\n",
      "Epoch 54/80\n",
      "200/200 - 38s - loss: 0.5509 - accuracy: 0.7240 - val_loss: 0.5614 - val_accuracy: 0.7110\n",
      "Epoch 55/80\n",
      "200/200 - 39s - loss: 0.5535 - accuracy: 0.7265 - val_loss: 0.5655 - val_accuracy: 0.7150\n",
      "Epoch 56/80\n",
      "200/200 - 38s - loss: 0.5471 - accuracy: 0.7335 - val_loss: 0.5591 - val_accuracy: 0.7170\n",
      "Epoch 57/80\n",
      "200/200 - 39s - loss: 0.5462 - accuracy: 0.7150 - val_loss: 0.5930 - val_accuracy: 0.6960\n",
      "Epoch 58/80\n",
      "200/200 - 38s - loss: 0.5446 - accuracy: 0.7340 - val_loss: 0.5633 - val_accuracy: 0.7030\n",
      "Epoch 59/80\n",
      "200/200 - 39s - loss: 0.5493 - accuracy: 0.7270 - val_loss: 0.5815 - val_accuracy: 0.6990\n",
      "Epoch 60/80\n",
      "200/200 - 38s - loss: 0.5480 - accuracy: 0.7220 - val_loss: 0.5461 - val_accuracy: 0.7180\n",
      "Epoch 61/80\n",
      "200/200 - 38s - loss: 0.5472 - accuracy: 0.7230 - val_loss: 0.5510 - val_accuracy: 0.7200\n",
      "Epoch 62/80\n",
      "200/200 - 38s - loss: 0.5450 - accuracy: 0.7230 - val_loss: 0.5777 - val_accuracy: 0.6950\n",
      "Epoch 63/80\n",
      "200/200 - 38s - loss: 0.5521 - accuracy: 0.7230 - val_loss: 0.5957 - val_accuracy: 0.6900\n",
      "Epoch 64/80\n",
      "200/200 - 38s - loss: 0.5360 - accuracy: 0.7405 - val_loss: 0.5534 - val_accuracy: 0.7190\n",
      "Epoch 65/80\n",
      "200/200 - 38s - loss: 0.5475 - accuracy: 0.7285 - val_loss: 0.6014 - val_accuracy: 0.6860\n",
      "Epoch 66/80\n",
      "200/200 - 38s - loss: 0.5323 - accuracy: 0.7440 - val_loss: 0.5829 - val_accuracy: 0.7000\n",
      "Epoch 67/80\n",
      "200/200 - 38s - loss: 0.5312 - accuracy: 0.7435 - val_loss: 0.5589 - val_accuracy: 0.7040\n",
      "Epoch 68/80\n",
      "200/200 - 38s - loss: 0.5398 - accuracy: 0.7295 - val_loss: 0.5986 - val_accuracy: 0.6940\n",
      "Epoch 69/80\n",
      "200/200 - 38s - loss: 0.5306 - accuracy: 0.7370 - val_loss: 0.5378 - val_accuracy: 0.7270\n",
      "Epoch 70/80\n",
      "200/200 - 38s - loss: 0.5367 - accuracy: 0.7355 - val_loss: 0.5591 - val_accuracy: 0.7110\n",
      "Epoch 71/80\n",
      "200/200 - 38s - loss: 0.5210 - accuracy: 0.7440 - val_loss: 0.5612 - val_accuracy: 0.7170\n",
      "Epoch 72/80\n",
      "200/200 - 38s - loss: 0.5193 - accuracy: 0.7505 - val_loss: 0.5417 - val_accuracy: 0.7360\n",
      "Epoch 73/80\n",
      "200/200 - 38s - loss: 0.5358 - accuracy: 0.7405 - val_loss: 0.5699 - val_accuracy: 0.7080\n",
      "Epoch 74/80\n",
      "200/200 - 38s - loss: 0.5162 - accuracy: 0.7500 - val_loss: 0.5886 - val_accuracy: 0.7120\n",
      "Epoch 75/80\n",
      "200/200 - 38s - loss: 0.5202 - accuracy: 0.7460 - val_loss: 0.6190 - val_accuracy: 0.6960\n",
      "Epoch 76/80\n",
      "200/200 - 38s - loss: 0.5206 - accuracy: 0.7505 - val_loss: 0.5594 - val_accuracy: 0.7220\n",
      "Epoch 77/80\n",
      "200/200 - 38s - loss: 0.5269 - accuracy: 0.7495 - val_loss: 0.5332 - val_accuracy: 0.7340\n",
      "Epoch 78/80\n",
      "200/200 - 39s - loss: 0.5079 - accuracy: 0.7565 - val_loss: 0.5697 - val_accuracy: 0.7190\n",
      "Epoch 79/80\n",
      "200/200 - 38s - loss: 0.5228 - accuracy: 0.7435 - val_loss: 0.5330 - val_accuracy: 0.7290\n",
      "Epoch 80/80\n",
      "200/200 - 39s - loss: 0.5250 - accuracy: 0.7415 - val_loss: 0.5400 - val_accuracy: 0.7270\n"
     ]
    }
   ],
   "source": [
    "model_fiting = model.fit(train_data , steps_per_epoch=200,epochs=80 ,validation_data=val_data, verbose=2 ,batch_size =10)"
   ]
  },
  {
   "cell_type": "code",
   "execution_count": 11,
   "metadata": {},
   "outputs": [
    {
     "name": "stdout",
     "output_type": "stream",
     "text": [
      "[0.5, 0.5690000057220459, 0.5995000004768372, 0.6340000033378601, 0.6445000171661377, 0.6589999794960022, 0.6809999942779541, 0.6915000081062317, 0.7055000066757202, 0.7049999833106995, 0.7235000133514404, 0.7049999833106995, 0.7099999785423279, 0.7099999785423279, 0.7400000095367432, 0.7235000133514404, 0.7459999918937683, 0.7360000014305115, 0.7459999918937683, 0.7425000071525574, 0.7570000290870667, 0.7515000104904175, 0.7559999823570251, 0.7620000243186951, 0.7580000162124634, 0.7664999961853027, 0.7549999952316284, 0.762499988079071, 0.7684999704360962, 0.7689999938011169, 0.7649999856948853, 0.7714999914169312, 0.7720000147819519, 0.7829999923706055, 0.7695000171661377, 0.7804999947547913, 0.7789999842643738, 0.7789999842643738, 0.781000018119812, 0.7875000238418579, 0.7854999899864197, 0.7850000262260437, 0.7879999876022339, 0.7735000252723694, 0.7850000262260437, 0.7900000214576721, 0.7825000286102295, 0.7919999957084656, 0.7789999842643738, 0.781499981880188]\n",
      "[0.5339999794960022, 0.6159999966621399, 0.6159999966621399, 0.6499999761581421, 0.6710000038146973, 0.6809999942779541, 0.6909999847412109, 0.6520000100135803, 0.6850000023841858, 0.6579999923706055, 0.6740000247955322, 0.7200000286102295, 0.6990000009536743, 0.6869999766349792, 0.7310000061988831, 0.7319999933242798, 0.6650000214576721, 0.6970000267028809, 0.7440000176429749, 0.7519999742507935, 0.7269999980926514, 0.7450000047683716, 0.7580000162124634, 0.6909999847412109, 0.7599999904632568, 0.6949999928474426, 0.75, 0.7549999952316284, 0.7350000143051147, 0.7390000224113464, 0.7429999709129333, 0.7549999952316284, 0.7570000290870667, 0.777999997138977, 0.7540000081062317, 0.7519999742507935, 0.7490000128746033, 0.7559999823570251, 0.6759999990463257, 0.7639999985694885, 0.7429999709129333, 0.7519999742507935, 0.7630000114440918, 0.7559999823570251, 0.7770000100135803, 0.7829999923706055, 0.7149999737739563, 0.7590000033378601, 0.7540000081062317, 0.7760000228881836]\n"
     ]
    }
   ],
   "source": [
    "acc = model_fiting.history[\"accuracy\"]\n",
    "validation_acc = model_fiting.history[\"val_accuracy\"]\n",
    "print(acc)\n",
    "print(validation_acc)"
   ]
  },
  {
   "cell_type": "code",
   "execution_count": 12,
   "metadata": {
    "scrolled": true
   },
   "outputs": [
    {
     "data": {
      "image/png": "[encoded data removed]",
      "text/plain": [
       "<Figure size 432x288 with 1 Axes>"
      ]
     },
     "metadata": {
      "needs_background": "light"
     },
     "output_type": "display_data"
    }
   ],
   "source": [
    "import matplotlib.pyplot as plt\n",
    "epochs=range(len(acc))\n",
    "plt.plot(epochs ,acc )\n",
    "plt.plot(epochs ,validation_acc )\n",
    "plt.show()"
   ]
  },
  {
   "cell_type": "code",
   "execution_count": null,
   "metadata": {},
   "outputs": [],
   "source": []
  }
 ],
 "metadata": {
  "accelerator": "GPU",
  "colab": {
   "authorship_tag": "ABX9TyNPhthuZoTxz1YQF8371aG0",
   "include_colab_link": true,
   "mount_file_id": "1ZGQHex-wY0U4uL2iBt4b7quV1tm91_L5",
   "provenance": []
  },
  "gpuClass": "standard",
  "kernelspec": {
   "display_name": "Python 3.6(gpu)",
   "language": "python",
   "name": "tf-gpu"
  },
  "language_info": {
   "codemirror_mode": {
    "name": "ipython",
    "version": 3
   },
   "file_extension": ".py",
   "mimetype": "text/x-python",
   "name": "python",
   "nbconvert_exporter": "python",
   "pygments_lexer": "ipython3",
   "version": "3.6.13"
  }
 },
 "nbformat": 4,
 "nbformat_minor": 1
}
