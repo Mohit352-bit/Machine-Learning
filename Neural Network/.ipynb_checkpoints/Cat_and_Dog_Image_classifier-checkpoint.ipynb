{
 "cells": [
  {
   "cell_type": "markdown",
   "metadata": {
    "colab_type": "text",
    "id": "view-in-github"
   },
   "source": [
    "<a href=\"https://colab.research.google.com/github/Mohit352-bit/Machine-Learning/blob/main/Neural%20Network/Cat_and_Dog_Identifier.ipynb\" target=\"_parent\"><img src=\"https://colab.research.google.com/assets/colab-badge.svg\" alt=\"Open In Colab\"/></a>"
   ]
  },
  {
   "cell_type": "markdown",
   "metadata": {
    "id": "tp5Ujbput7VE"
   },
   "source": [
    "### ----------------------------------------------------------------------------------------------------------------------------------------------------------------\n",
    "\n",
    "using zip file from gdrive for fast uploading"
   ]
  },
  {
   "cell_type": "code",
   "execution_count": null,
   "metadata": {
    "colab": {
     "base_uri": "https://localhost:8080/"
    },
    "id": "D4OKAN0mfThc",
    "outputId": "24e0c2a5-fc5f-4d7a-c482-93b79a53f5ea"
   },
   "outputs": [
    {
     "name": "stdout",
     "output_type": "stream",
     "text": [
      "Mounted at /content/gdrive\n"
     ]
    }
   ],
   "source": [
    "#mounting(connecting) the gdrive with colab\n",
    "from google.colab import drive\n",
    "drive.mount('/content/gdrive')"
   ]
  },
  {
   "cell_type": "code",
   "execution_count": null,
   "metadata": {
    "colab": {
     "base_uri": "https://localhost:8080/"
    },
    "id": "pCdMGKBgjKOi",
    "outputId": "d96728ab-fdab-4364-cc9a-cd33b99b2e41"
   },
   "outputs": [
    {
     "name": "stdout",
     "output_type": "stream",
     "text": [
      "'Class 12 Result.pdf'\n",
      "'Colab Notebooks'\n",
      "'Copy of Invoice-Template-sheet-printable-5.gsheet'\n",
      " Horse_Human\n",
      "'How to get started with Drive.pdf'\n",
      " istockphoto-1319763895-612x612.jpg\n",
      " Male_female\n",
      " MohitINT353CA2.pdf\n",
      "'mohit mark.jpg'\n",
      " Mohit-Srivastava.pdf\n",
      " Mohit_Srivastava_resume.pdf\n",
      "'Pasport size '\n",
      " pexels-helena-lopes-1996332.jpg\n",
      " REsume.pdf\n",
      "'Screenshot (111).png'\n",
      "'Screenshot (124).png'\n",
      "'Screenshot 2022-06-30 215216.jpeg.png'\n",
      " Screenshot_2022-09-01-15-42-46-955_net.one97.paytm.jpg\n",
      " Screenshot_2022-09-30-16-23-32-285_com.microsoft.teams.pdf\n",
      "'Screenshot (75).png'\n",
      " tied.jfif\n",
      " unknown.png\n",
      " Untitled1.ipynb\n"
     ]
    }
   ],
   "source": [
    "# getting the list of all files in myDrive\n",
    "!ls gdrive/MyDrive"
   ]
  },
  {
   "cell_type": "code",
   "execution_count": null,
   "metadata": {
    "id": "zQ60N1hcSU79"
   },
   "outputs": [],
   "source": [
    "import zipfile\n",
    "\n",
    "# Extract the archive\n",
    "zip_ref = zipfile.ZipFile(\"gdrive/MyDrive/Cat_Dogs/cats_and_dogs_filtered.zip\", 'r')\n",
    "zip_ref.extractall(\"tmp/\")\n",
    "zip_ref.close()"
   ]
  },
  {
   "cell_type": "code",
   "execution_count": null,
   "metadata": {
    "colab": {
     "base_uri": "https://localhost:8080/"
    },
    "id": "wtCybafuTcSr",
    "outputId": "cdb717bf-8d48-464d-e674-9f3ae76bcaf7"
   },
   "outputs": [
    {
     "name": "stdout",
     "output_type": "stream",
     "text": [
      "['cat.146.jpg', 'cat.602.jpg', 'cat.446.jpg', 'cat.955.jpg', 'cat.644.jpg', 'cat.93.jpg', 'cat.968.jpg', 'cat.477.jpg', 'cat.229.jpg', 'cat.316.jpg']\n",
      "['dog.370.jpg', 'dog.387.jpg', 'dog.568.jpg', 'dog.694.jpg', 'dog.395.jpg', 'dog.436.jpg', 'dog.106.jpg', 'dog.560.jpg', 'dog.580.jpg', 'dog.438.jpg']\n"
     ]
    }
   ],
   "source": [
    "import os\n",
    "train_cat_names = os.listdir(\"tmp/cats_and_dogs_filtered/train/cats\")\n",
    "print(train_cat_names[:10])\n",
    "train_dog_names = os.listdir(\"tmp/cats_and_dogs_filtered/train/dogs\")\n",
    "print(train_dog_names[:10])"
   ]
  },
  {
   "cell_type": "markdown",
   "metadata": {
    "id": "9OpFjRWbuc7F"
   },
   "source": [
    "### Uploading image files in Jupyter Notebook"
   ]
  },
  {
   "cell_type": "code",
   "execution_count": 1,
   "metadata": {
    "id": "Ghe8p9l8umNB"
   },
   "outputs": [
    {
     "name": "stdout",
     "output_type": "stream",
     "text": [
      "Current working directory: C:\\Users\\mohit\\Downloads\\Compressed\\cats_and_dogs_filtered\\cats_and_dogs_filtered\n"
     ]
    }
   ],
   "source": [
    "import os\n",
    "\n",
    "# changing the working directory\n",
    "os.chdir('C:/Users/mohit/Downloads/Compressed/cats_and_dogs_filtered/cats_and_dogs_filtered')\n",
    "\n",
    "#variable storing the directory address\n",
    "cwd = os.getcwd() \n",
    "      \n",
    "# Printing the current working \n",
    "# directory (CWD) \n",
    "print(\"Current working directory:\", cwd) \n"
   ]
  },
  {
   "cell_type": "code",
   "execution_count": 2,
   "metadata": {
    "id": "QO4uuyDDumD1"
   },
   "outputs": [],
   "source": [
    "#storing path of training horse pictures\n",
    "train_dogs_dir_path = os.path.join('train/dogs')\n",
    "\n",
    "#storing path of training human pictures\n",
    "train_cats_dir_path = os.path.join('train/cats')"
   ]
  },
  {
   "cell_type": "code",
   "execution_count": 3,
   "metadata": {
    "id": "OSKw0lzkul-u"
   },
   "outputs": [
    {
     "name": "stdout",
     "output_type": "stream",
     "text": [
      "['dog.0.jpg', 'dog.1.jpg', 'dog.10.jpg', 'dog.100.jpg', 'dog.101.jpg', 'dog.102.jpg', 'dog.103.jpg', 'dog.104.jpg', 'dog.105.jpg', 'dog.106.jpg']\n",
      "['cat.0.jpg', 'cat.1.jpg', 'cat.10.jpg', 'cat.100.jpg', 'cat.101.jpg', 'cat.102.jpg', 'cat.103.jpg', 'cat.104.jpg', 'cat.105.jpg', 'cat.106.jpg']\n"
     ]
    }
   ],
   "source": [
    "# list of files in dog and cat folder\n",
    "train_dogs_names = os.listdir(train_dogs_dir_path)\n",
    "print(train_dogs_names[:10])\n",
    "train_cats_names = os.listdir(train_cats_dir_path)\n",
    "print(train_cats_names[:10])"
   ]
  },
  {
   "cell_type": "markdown",
   "metadata": {
    "id": "T9hh-1x7ulrt"
   },
   "source": [
    "## -------------------------------------------------------------------------------------------------------------------------------\n"
   ]
  },
  {
   "cell_type": "markdown",
   "metadata": {
    "id": "a7H2IyXohum9"
   },
   "source": [
    "# Creating CNN Model ⚓"
   ]
  },
  {
   "cell_type": "code",
   "execution_count": 4,
   "metadata": {
    "id": "eG3fNMxoh2zb"
   },
   "outputs": [],
   "source": [
    "import tensorflow as tf\n",
    "from tensorflow.keras.optimizers import RMSprop"
   ]
  },
  {
   "cell_type": "code",
   "execution_count": 5,
   "metadata": {
    "id": "AyLMuhWniNwP"
   },
   "outputs": [],
   "source": [
    "model = tf.keras.models.Sequential([\n",
    "    tf.keras.layers.Conv2D(32, (3,3) , input_shape=(300,300,3), activation='relu'),\n",
    "    tf.keras.layers.MaxPool2D(2,2),\n",
    "    tf.keras.layers.Conv2D(64, (3,3), activation='relu'),\n",
    "    tf.keras.layers.MaxPool2D(2,2),\n",
    "    tf.keras.layers.Conv2D(128, (3,3), activation='relu'),\n",
    "    tf.keras.layers.MaxPool2D(2,2),\n",
    "    tf.keras.layers.Conv2D(128, (3,3), activation='relu'),\n",
    "    tf.keras.layers.MaxPool2D(2,2),\n",
    "    tf.keras.layers.Flatten(),\n",
    "    tf.keras.layers.Dense(1024 , activation=\"relu\"),\n",
    "    tf.keras.layers.Dense(1, activation = 'sigmoid')\n",
    "])\n",
    "\n",
    "# we are using sigmoid as activation instead of softmax because it works better than softmax in binary classification (i.e. when we have 2 outputs to compare dogs and cats)\n",
    "# we can also use softmax here as (2 , activation=\"softmax\") but the sigmoid activation is more efficient here.\n",
    "# softmax is used when there is more than 2 calssification\n",
    "\n",
    "## site to learn which is best optimizer --- https://gombru.github.io/2018/05/23/cross_entropy_loss/"
   ]
  },
  {
   "cell_type": "code",
   "execution_count": 6,
   "metadata": {
    "colab": {
     "base_uri": "https://localhost:8080/"
    },
    "id": "Q_oJvE27kFK2",
    "outputId": "afa712d6-1eef-43f6-c641-a0f419261edb"
   },
   "outputs": [
    {
     "name": "stdout",
     "output_type": "stream",
     "text": [
      "Model: \"sequential\"\n",
      "_________________________________________________________________\n",
      "Layer (type)                 Output Shape              Param #   \n",
      "=================================================================\n",
      "conv2d (Conv2D)              (None, 298, 298, 32)      896       \n",
      "_________________________________________________________________\n",
      "max_pooling2d (MaxPooling2D) (None, 149, 149, 32)      0         \n",
      "_________________________________________________________________\n",
      "conv2d_1 (Conv2D)            (None, 147, 147, 64)      18496     \n",
      "_________________________________________________________________\n",
      "max_pooling2d_1 (MaxPooling2 (None, 73, 73, 64)        0         \n",
      "_________________________________________________________________\n",
      "conv2d_2 (Conv2D)            (None, 71, 71, 128)       73856     \n",
      "_________________________________________________________________\n",
      "max_pooling2d_2 (MaxPooling2 (None, 35, 35, 128)       0         \n",
      "_________________________________________________________________\n",
      "conv2d_3 (Conv2D)            (None, 33, 33, 128)       147584    \n",
      "_________________________________________________________________\n",
      "max_pooling2d_3 (MaxPooling2 (None, 16, 16, 128)       0         \n",
      "_________________________________________________________________\n",
      "flatten (Flatten)            (None, 32768)             0         \n",
      "_________________________________________________________________\n",
      "dense (Dense)                (None, 1024)              33555456  \n",
      "_________________________________________________________________\n",
      "dense_1 (Dense)              (None, 1)                 1025      \n",
      "=================================================================\n",
      "Total params: 33,797,313\n",
      "Trainable params: 33,797,313\n",
      "Non-trainable params: 0\n",
      "_________________________________________________________________\n"
     ]
    }
   ],
   "source": [
    "model.summary()"
   ]
  },
  {
   "cell_type": "code",
   "execution_count": 7,
   "metadata": {
    "id": "Sx0hGKA1lbtH"
   },
   "outputs": [],
   "source": [
    "model.compile(loss = 'binary_crossentropy' , \n",
    "              optimizer=RMSprop(learning_rate=0.001) ,\n",
    "              metrics=['accuracy'] )\n",
    "\n",
    "## we are using RMSprop intead of SGD because rmsprop , adam , adagard automatically adapt the learning rate whereas SGD dont\n",
    "## we are using binary crossentropy cause there is binary output \n",
    "# ## site to learn which is best loss function  --- https://gombru.github.io/2018/05/23/cross_entropy_loss/"
   ]
  },
  {
   "cell_type": "markdown",
   "metadata": {
    "id": "RgkP9DvQsvJ6"
   },
   "source": [
    "Now using ImageDataGenrator lib to rescale the image and convert it into binary form,"
   ]
  },
  {
   "cell_type": "code",
   "execution_count": 8,
   "metadata": {
    "colab": {
     "base_uri": "https://localhost:8080/"
    },
    "id": "DBVh6ZDKs84W",
    "outputId": "940e0434-ffd0-4038-ec6a-688700093476"
   },
   "outputs": [
    {
     "name": "stdout",
     "output_type": "stream",
     "text": [
      "Found 2000 images belonging to 2 classes.\n",
      "Found 1000 images belonging to 2 classes.\n"
     ]
    }
   ],
   "source": [
    "from tensorflow.keras.preprocessing.image import ImageDataGenerator\n",
    "\n",
    "train_gen = ImageDataGenerator(rescale = 1/255)\n",
    "\n",
    "train_data = train_gen.flow_from_directory( \n",
    "    \"train/\", # path of main directory \n",
    "    target_size = (300 ,300) , # resizing all the images to 300x300\n",
    "    batch_size = 10 , #images are taken from the directory in batches and we are taking 128 image per batch\n",
    "    class_mode = \"binary\" # we use binary class mode as loss funtion is using binary crossentropy and output is binary\n",
    "\n",
    ")\n",
    "\n",
    "#for validation set \n",
    "val_gen = ImageDataGenerator(rescale = 1/255)\n",
    "\n",
    "val_data = train_gen.flow_from_directory( \n",
    "    \"validation/\",  \n",
    "    target_size = (300 ,300) , \n",
    "    batch_size = 10 , \n",
    "    class_mode = \"binary\"\n",
    ")\n"
   ]
  },
  {
   "cell_type": "code",
   "execution_count": 9,
   "metadata": {
    "colab": {
     "base_uri": "https://localhost:8080/"
    },
    "id": "8-8vnDuntG4F",
    "outputId": "ad2795a2-21db-46d3-f3f8-8546c92c2d94"
   },
   "outputs": [
    {
     "name": "stdout",
     "output_type": "stream",
     "text": [
      "Epoch 1/50\n",
      "100/100 - 11s - loss: 0.8529 - accuracy: 0.5200 - val_loss: 0.6943 - val_accuracy: 0.5000\n",
      "Epoch 2/50\n",
      "100/100 - 7s - loss: 0.7017 - accuracy: 0.5220 - val_loss: 0.7008 - val_accuracy: 0.5000\n",
      "Epoch 3/50\n",
      "100/100 - 7s - loss: 0.6927 - accuracy: 0.5430 - val_loss: 0.6955 - val_accuracy: 0.5720\n",
      "Epoch 4/50\n",
      "100/100 - 7s - loss: 0.6938 - accuracy: 0.5410 - val_loss: 0.7411 - val_accuracy: 0.5070\n",
      "Epoch 5/50\n",
      "100/100 - 7s - loss: 0.6826 - accuracy: 0.5980 - val_loss: 0.6539 - val_accuracy: 0.6340\n",
      "Epoch 6/50\n",
      "100/100 - 7s - loss: 0.6637 - accuracy: 0.6270 - val_loss: 0.6770 - val_accuracy: 0.6550\n",
      "Epoch 7/50\n",
      "100/100 - 7s - loss: 0.6732 - accuracy: 0.6270 - val_loss: 0.6770 - val_accuracy: 0.5970\n",
      "Epoch 8/50\n",
      "100/100 - 7s - loss: 0.6693 - accuracy: 0.6460 - val_loss: 0.6818 - val_accuracy: 0.6390\n",
      "Epoch 9/50\n",
      "100/100 - 7s - loss: 0.5919 - accuracy: 0.7060 - val_loss: 0.6231 - val_accuracy: 0.6690\n",
      "Epoch 10/50\n",
      "100/100 - 7s - loss: 0.5858 - accuracy: 0.7050 - val_loss: 0.6282 - val_accuracy: 0.6680\n",
      "Epoch 11/50\n",
      "100/100 - 7s - loss: 0.5665 - accuracy: 0.7110 - val_loss: 0.6315 - val_accuracy: 0.6810\n",
      "Epoch 12/50\n",
      "100/100 - 7s - loss: 0.6024 - accuracy: 0.7420 - val_loss: 0.6087 - val_accuracy: 0.6700\n",
      "Epoch 13/50\n",
      "100/100 - 7s - loss: 0.5423 - accuracy: 0.7320 - val_loss: 0.6786 - val_accuracy: 0.6790\n",
      "Epoch 14/50\n",
      "100/100 - 7s - loss: 0.4745 - accuracy: 0.7730 - val_loss: 0.6437 - val_accuracy: 0.6810\n",
      "Epoch 15/50\n",
      "100/100 - 7s - loss: 0.4569 - accuracy: 0.7880 - val_loss: 0.6287 - val_accuracy: 0.7220\n",
      "Epoch 16/50\n",
      "100/100 - 7s - loss: 0.4414 - accuracy: 0.8220 - val_loss: 0.6542 - val_accuracy: 0.7060\n",
      "Epoch 17/50\n",
      "100/100 - 7s - loss: 0.3923 - accuracy: 0.8450 - val_loss: 0.7101 - val_accuracy: 0.6480\n",
      "Epoch 18/50\n",
      "100/100 - 7s - loss: 0.3498 - accuracy: 0.8550 - val_loss: 0.8395 - val_accuracy: 0.6580\n",
      "Epoch 19/50\n",
      "100/100 - 7s - loss: 0.3443 - accuracy: 0.8670 - val_loss: 0.8703 - val_accuracy: 0.7080\n",
      "Epoch 20/50\n",
      "100/100 - 7s - loss: 0.2927 - accuracy: 0.8800 - val_loss: 1.1147 - val_accuracy: 0.6940\n",
      "Epoch 21/50\n",
      "100/100 - 8s - loss: 0.2675 - accuracy: 0.8870 - val_loss: 0.8607 - val_accuracy: 0.7010\n",
      "Epoch 22/50\n",
      "100/100 - 7s - loss: 0.2415 - accuracy: 0.9090 - val_loss: 1.1263 - val_accuracy: 0.6540\n",
      "Epoch 23/50\n",
      "100/100 - 7s - loss: 0.2166 - accuracy: 0.9250 - val_loss: 1.8768 - val_accuracy: 0.6710\n",
      "Epoch 24/50\n",
      "100/100 - 7s - loss: 0.1834 - accuracy: 0.9350 - val_loss: 1.2941 - val_accuracy: 0.7040\n",
      "Epoch 25/50\n",
      "100/100 - 7s - loss: 0.1173 - accuracy: 0.9570 - val_loss: 1.6134 - val_accuracy: 0.7060\n",
      "Epoch 26/50\n",
      "100/100 - 7s - loss: 0.1731 - accuracy: 0.9330 - val_loss: 1.1385 - val_accuracy: 0.6930\n",
      "Epoch 27/50\n",
      "100/100 - 7s - loss: 0.1027 - accuracy: 0.9680 - val_loss: 3.3777 - val_accuracy: 0.7010\n",
      "Epoch 28/50\n",
      "100/100 - 7s - loss: 0.1257 - accuracy: 0.9500 - val_loss: 2.1687 - val_accuracy: 0.6840\n",
      "Epoch 29/50\n",
      "100/100 - 7s - loss: 0.0645 - accuracy: 0.9790 - val_loss: 3.5189 - val_accuracy: 0.6720\n",
      "Epoch 30/50\n",
      "100/100 - 7s - loss: 0.1502 - accuracy: 0.9590 - val_loss: 2.2518 - val_accuracy: 0.7130\n",
      "Epoch 31/50\n",
      "100/100 - 7s - loss: 0.1164 - accuracy: 0.9740 - val_loss: 2.3800 - val_accuracy: 0.6820\n",
      "Epoch 32/50\n",
      "100/100 - 7s - loss: 0.1277 - accuracy: 0.9650 - val_loss: 3.3877 - val_accuracy: 0.7090\n",
      "Epoch 33/50\n",
      "100/100 - 7s - loss: 0.1418 - accuracy: 0.9670 - val_loss: 3.6171 - val_accuracy: 0.6580\n",
      "Epoch 34/50\n",
      "100/100 - 7s - loss: 0.2735 - accuracy: 0.9610 - val_loss: 2.5560 - val_accuracy: 0.6440\n",
      "Epoch 35/50\n",
      "100/100 - 7s - loss: 0.0650 - accuracy: 0.9830 - val_loss: 4.1972 - val_accuracy: 0.6850\n",
      "Epoch 36/50\n",
      "100/100 - 7s - loss: 0.1320 - accuracy: 0.9660 - val_loss: 2.5054 - val_accuracy: 0.6700\n",
      "Epoch 37/50\n",
      "100/100 - 7s - loss: 0.0802 - accuracy: 0.9790 - val_loss: 5.1467 - val_accuracy: 0.6730\n",
      "Epoch 38/50\n",
      "100/100 - 7s - loss: 0.1066 - accuracy: 0.9740 - val_loss: 3.7193 - val_accuracy: 0.6910\n",
      "Epoch 39/50\n",
      "100/100 - 7s - loss: 0.0959 - accuracy: 0.9810 - val_loss: 3.4048 - val_accuracy: 0.6830\n",
      "Epoch 40/50\n",
      "100/100 - 7s - loss: 0.0752 - accuracy: 0.9850 - val_loss: 3.3277 - val_accuracy: 0.6730\n",
      "Epoch 41/50\n",
      "100/100 - 7s - loss: 0.1039 - accuracy: 0.9730 - val_loss: 2.9190 - val_accuracy: 0.6940\n",
      "Epoch 42/50\n",
      "100/100 - 7s - loss: 0.0782 - accuracy: 0.9790 - val_loss: 3.9249 - val_accuracy: 0.6940\n",
      "Epoch 43/50\n",
      "100/100 - 7s - loss: 0.0816 - accuracy: 0.9860 - val_loss: 4.0385 - val_accuracy: 0.6960\n",
      "Epoch 44/50\n",
      "100/100 - 7s - loss: 0.1386 - accuracy: 0.9710 - val_loss: 4.2319 - val_accuracy: 0.6710\n",
      "Epoch 45/50\n",
      "100/100 - 7s - loss: 0.1233 - accuracy: 0.9840 - val_loss: 4.9645 - val_accuracy: 0.6880\n",
      "Epoch 46/50\n",
      "100/100 - 7s - loss: 0.1487 - accuracy: 0.9770 - val_loss: 4.0703 - val_accuracy: 0.6940\n",
      "Epoch 47/50\n",
      "100/100 - 7s - loss: 0.0911 - accuracy: 0.9860 - val_loss: 5.5439 - val_accuracy: 0.6730\n",
      "Epoch 48/50\n",
      "100/100 - 7s - loss: 0.1632 - accuracy: 0.9890 - val_loss: 5.5484 - val_accuracy: 0.6970\n",
      "Epoch 49/50\n",
      "100/100 - 7s - loss: 0.1982 - accuracy: 0.9860 - val_loss: 5.9045 - val_accuracy: 0.7010\n",
      "Epoch 50/50\n",
      "100/100 - 7s - loss: 0.1319 - accuracy: 0.9840 - val_loss: 6.4500 - val_accuracy: 0.6950\n"
     ]
    }
   ],
   "source": [
    "# now training the model\n",
    "\n",
    "model_fiting = model.fit(train_data , steps_per_epoch=100,epochs=50 ,validation_data=val_data, verbose=2 ,batch_size =10)"
   ]
  },
  {
   "cell_type": "code",
   "execution_count": 42,
   "metadata": {
    "colab": {
     "base_uri": "https://localhost:8080/",
     "height": 128
    },
    "id": "xLXQqYCmvSvT",
    "outputId": "340f92f6-ffb3-40ad-d287-e9801db3614c"
   },
   "outputs": [
    {
     "name": "stdout",
     "output_type": "stream",
     "text": [
      "[0.5595325]\n",
      "golden-retriever-dog-21668976.jpg is a dog\n",
      "[0.99358094]\n",
      "labrador-retriever-1210559__480.jpg is a dog\n"
     ]
    }
   ],
   "source": [
    "import numpy as np\n",
    "#from google.colab import files\n",
    "from tensorflow.keras.utils import load_img , img_to_array\n",
    "\n",
    "## ----------------------------------------------------------------------------------------------------------------------------\n",
    "# # FOR COLLAB WE NEED TO USE THIS CODE\n",
    "\n",
    "# uploading_file = files.upload()\n",
    "\n",
    "# for fn in uploading_file:\n",
    "#   path = 'gdrive/MyDrive/' + fn\n",
    "#   image = load_img(path , target_size=(300,300))\n",
    "#   x = img_to_array(image)\n",
    "#   x = x/225\n",
    "#   x = np.expand_dims(x , axis=0)\n",
    "\n",
    "#   images = np.vstack([x])\n",
    "#   pred_res = model.predict(images , batch_size=10)\n",
    "#   print(pred_res[0])\n",
    "#   if pred_res[0]>0.5:\n",
    "#     print(fn + \" is a cat\")\n",
    "#   else:\n",
    "#     print(fn + \" is a dog\")\n",
    "## -----------------------------------------------------------------------------------------------------------------------------\n",
    "\n",
    "\n",
    "#used for uploading the file we want to predict\n",
    "uploading_file = os.listdir('test/')\n",
    "\n",
    "for fn in uploading_file:\n",
    "  path = \"C:/Users/mohit/Downloads/Compressed/cats_and_dogs_filtered/cats_and_dogs_filtered/test/\"+fn\n",
    "  image = load_img(path , target_size=(300,300))\n",
    "  x = img_to_array(image)\n",
    "  x = x/225\n",
    "  x = np.expand_dims(x , axis=0)\n",
    "\n",
    "  images = np.vstack([x])\n",
    "  pred_res = model.predict(images , batch_size=10)\n",
    "  print(pred_res[0])\n",
    "  if pred_res[0]>0.5:\n",
    "    print(fn + \" is a dog\")\n",
    "  else:\n",
    "    print(fn + \" is a cat\")"
   ]
  },
  {
   "cell_type": "markdown",
   "metadata": {
    "id": "u7XztM-O-uym"
   },
   "source": [
    "### Checking if our model is overfitting or not"
   ]
  },
  {
   "cell_type": "code",
   "execution_count": 10,
   "metadata": {
    "colab": {
     "base_uri": "https://localhost:8080/"
    },
    "id": "oOT6Q6Hm4lxd",
    "outputId": "15f8bada-bf1d-4f97-89bb-9a66c8845cf2"
   },
   "outputs": [
    {
     "name": "stdout",
     "output_type": "stream",
     "text": [
      "[0.5199999809265137, 0.5220000147819519, 0.5429999828338623, 0.5410000085830688, 0.5979999899864197, 0.6269999742507935, 0.6269999742507935, 0.6460000276565552, 0.7059999704360962, 0.7049999833106995, 0.7110000252723694, 0.7419999837875366, 0.7319999933242798, 0.7730000019073486, 0.7879999876022339, 0.8220000267028809, 0.8450000286102295, 0.8550000190734863, 0.8669999837875366, 0.8799999952316284, 0.8870000243186951, 0.9089999794960022, 0.925000011920929, 0.9350000023841858, 0.9570000171661377, 0.9330000281333923, 0.9679999947547913, 0.949999988079071, 0.9789999723434448, 0.9589999914169312, 0.9739999771118164, 0.9649999737739563, 0.9670000076293945, 0.9610000252723694, 0.9829999804496765, 0.9660000205039978, 0.9789999723434448, 0.9739999771118164, 0.9810000061988831, 0.9850000143051147, 0.9729999899864197, 0.9789999723434448, 0.9860000014305115, 0.9710000157356262, 0.984000027179718, 0.9769999980926514, 0.9860000014305115, 0.9890000224113464, 0.9860000014305115, 0.984000027179718]\n",
      "[0.5, 0.5, 0.5720000267028809, 0.5070000290870667, 0.6340000033378601, 0.6549999713897705, 0.597000002861023, 0.6389999985694885, 0.6690000295639038, 0.6679999828338623, 0.6809999942779541, 0.6700000166893005, 0.6790000200271606, 0.6809999942779541, 0.722000002861023, 0.7059999704360962, 0.6480000019073486, 0.6579999923706055, 0.7080000042915344, 0.6940000057220459, 0.7009999752044678, 0.6539999842643738, 0.6710000038146973, 0.7039999961853027, 0.7059999704360962, 0.6930000185966492, 0.7009999752044678, 0.6840000152587891, 0.671999990940094, 0.7129999995231628, 0.6819999814033508, 0.7089999914169312, 0.6579999923706055, 0.6439999938011169, 0.6850000023841858, 0.6700000166893005, 0.6729999780654907, 0.6909999847412109, 0.6830000281333923, 0.6729999780654907, 0.6940000057220459, 0.6940000057220459, 0.6959999799728394, 0.6710000038146973, 0.6880000233650208, 0.6940000057220459, 0.6729999780654907, 0.6970000267028809, 0.7009999752044678, 0.6949999928474426]\n"
     ]
    }
   ],
   "source": [
    "#storing every accuracy and validation accuracy value in a list\n",
    "#history - this funtion stores the value of acc , val_acc\n",
    "acc = model_fiting.history[\"accuracy\"]\n",
    "validation_acc = model_fiting.history[\"val_accuracy\"]\n",
    "print(acc)\n",
    "print(validation_acc)"
   ]
  },
  {
   "cell_type": "code",
   "execution_count": 11,
   "metadata": {
    "colab": {
     "base_uri": "https://localhost:8080/",
     "height": 265
    },
    "id": "RaYlxYf7VxUl",
    "outputId": "1485876e-19e8-4241-9a03-bcf42b056c65"
   },
   "outputs": [
    {
     "data": {
      "image/png": "[encoded data removed]",
      "text/plain": [
       "<Figure size 432x288 with 1 Axes>"
      ]
     },
     "metadata": {
      "needs_background": "light"
     },
     "output_type": "display_data"
    }
   ],
   "source": [
    "\n",
    "import matplotlib.pyplot as plt\n",
    "epochs=range(len(acc))\n",
    "plt.plot(epochs ,acc )\n",
    "plt.plot(epochs, validation_acc)\n",
    "plt.show()"
   ]
  },
  {
   "cell_type": "markdown",
   "metadata": {
    "id": "McERbDVH_RwR"
   },
   "source": [
    "Since , validation set is stoping at approx 0.70 accuracy and training data is touching 1 accurancy we can eaisly see that our model is overfitting \n",
    "One reason is that our training data is less.\n",
    "Second reason is that we are not using agumentation(i.e. rotating and moving image size so that our model can train on even rotated images like sleeping cat )"
   ]
  },
  {
   "cell_type": "markdown",
   "metadata": {
    "id": "wzlYqUkZGfbk"
   },
   "source": [
    "# Using Agumentation\n",
    "with augumentation our data size increases as every images are rotated and moved for better training of model\n",
    "\n",
    "These rotated and moved images do not get stored in our disk we it is temporarily stored in memory and used during training of model."
   ]
  },
  {
   "cell_type": "code",
   "execution_count": 12,
   "metadata": {
    "colab": {
     "base_uri": "https://localhost:8080/"
    },
    "id": "_5F7eR8-HW_X",
    "outputId": "c12f062c-04dc-420f-b419-f7a3dbb7fff1"
   },
   "outputs": [
    {
     "name": "stdout",
     "output_type": "stream",
     "text": [
      "Found 2000 images belonging to 2 classes.\n",
      "Found 1000 images belonging to 2 classes.\n"
     ]
    }
   ],
   "source": [
    "from tensorflow.keras.preprocessing.image import ImageDataGenerator\n",
    "\n",
    "train_gen = ImageDataGenerator(\n",
    "    rescale = 1/255,\n",
    "    rotation_range=40,#rotates the image in 0 to 40 degree range randomly\n",
    "    width_shift_range=0.2,\n",
    "    height_shift_range=0.2,\n",
    "    shear_range=0.2, \n",
    "    zoom_range=0.2,\n",
    "    horizontal_flip=True,\n",
    "    fill_mode='nearest'# lost pixels are replaced by the nearest pixels\n",
    ")\n",
    "\n",
    "## ------------------------------------------------------------------------------------------------------------------------\n",
    "# #for collab we need to use this\n",
    "\n",
    "\n",
    "# train_data = train_gen.flow_from_directory( \n",
    "#     \"tmp/cats_and_dogs_filtered/train\", \n",
    "#     target_size = (300 ,300) , \n",
    "#     batch_size = 128 , \n",
    "#     class_mode = \"binary\" \n",
    "\n",
    "# )\n",
    "\n",
    "# #for validation set \n",
    "# val_gen = ImageDataGenerator(rescale = 1/255)\n",
    "\n",
    "# val_data = val_gen.flow_from_directory( \n",
    "#     \"tmp/cats_and_dogs_filtered/validation\",  \n",
    "#     target_size = (300 ,300) , \n",
    "#     batch_size = 10 , \n",
    "#     class_mode = \"binary\"\n",
    "# )\n",
    "\n",
    "## -----------------------------------------------------------------------------------------------------------------------------\n",
    "\n",
    "\n",
    "train_data = train_gen.flow_from_directory( \n",
    "    \"train/\", # path of main directory \n",
    "    target_size = (300 ,300) , # resizing all the images to 300x300\n",
    "    batch_size = 10 , #images are taken from the directory in batches and we are taking 128 image per batch\n",
    "    class_mode = \"binary\" # we use binary class mode as loss funtion is using binary crossentropy and output is binary\n",
    "\n",
    ")\n",
    "\n",
    "#for validation set \n",
    "val_gen = ImageDataGenerator(rescale = 1/255)\n",
    "\n",
    "val_data = train_gen.flow_from_directory( \n",
    "    \"validation/\",  \n",
    "    target_size = (300 ,300) , \n",
    "    batch_size = 10 , \n",
    "    class_mode = \"binary\"\n",
    ")\n",
    "\n"
   ]
  },
  {
   "cell_type": "code",
   "execution_count": 13,
   "metadata": {
    "colab": {
     "base_uri": "https://localhost:8080/"
    },
    "id": "CHr_aVK-IEtT",
    "outputId": "623a7576-6caa-465f-fd0f-90b2b0cf71b8",
    "scrolled": false
   },
   "outputs": [
    {
     "name": "stdout",
     "output_type": "stream",
     "text": [
      "Epoch 1/30\n",
      "100/100 [==============================] - 26s 260ms/step - loss: 1.1831 - accuracy: 0.5590 - val_loss: 0.8527 - val_accuracy: 0.5400\n",
      "Epoch 2/30\n",
      "100/100 [==============================] - 29s 294ms/step - loss: 0.7141 - accuracy: 0.5990 - val_loss: 0.6860 - val_accuracy: 0.6280\n",
      "Epoch 3/30\n",
      "100/100 [==============================] - 26s 256ms/step - loss: 0.7219 - accuracy: 0.6120 - val_loss: 0.6682 - val_accuracy: 0.5630\n",
      "Epoch 4/30\n",
      "100/100 [==============================] - 25s 256ms/step - loss: 0.6709 - accuracy: 0.6210 - val_loss: 0.6724 - val_accuracy: 0.6290\n",
      "Epoch 5/30\n",
      "100/100 [==============================] - 26s 256ms/step - loss: 0.6935 - accuracy: 0.6290 - val_loss: 0.6357 - val_accuracy: 0.6490\n",
      "Epoch 6/30\n",
      "100/100 [==============================] - 26s 256ms/step - loss: 0.6604 - accuracy: 0.6470 - val_loss: 0.8211 - val_accuracy: 0.6170\n",
      "Epoch 7/30\n",
      "100/100 [==============================] - 26s 264ms/step - loss: 0.6450 - accuracy: 0.6510 - val_loss: 0.6816 - val_accuracy: 0.6380\n",
      "Epoch 8/30\n",
      "100/100 [==============================] - 26s 261ms/step - loss: 0.6884 - accuracy: 0.6490 - val_loss: 0.6565 - val_accuracy: 0.6260\n",
      "Epoch 9/30\n",
      "100/100 [==============================] - 26s 258ms/step - loss: 0.6298 - accuracy: 0.6560 - val_loss: 0.6630 - val_accuracy: 0.6120\n",
      "Epoch 10/30\n",
      "100/100 [==============================] - 26s 262ms/step - loss: 0.6510 - accuracy: 0.6610 - val_loss: 0.7110 - val_accuracy: 0.6530\n",
      "Epoch 11/30\n",
      "100/100 [==============================] - 27s 273ms/step - loss: 0.6413 - accuracy: 0.6730 - val_loss: 0.6670 - val_accuracy: 0.5920\n",
      "Epoch 12/30\n",
      "100/100 [==============================] - 27s 271ms/step - loss: 0.6711 - accuracy: 0.6530 - val_loss: 0.6725 - val_accuracy: 0.6340\n",
      "Epoch 13/30\n",
      "100/100 [==============================] - 28s 278ms/step - loss: 0.6574 - accuracy: 0.6450 - val_loss: 0.6127 - val_accuracy: 0.6770\n",
      "Epoch 14/30\n",
      "100/100 [==============================] - 27s 270ms/step - loss: 0.6571 - accuracy: 0.6650 - val_loss: 0.6450 - val_accuracy: 0.6240\n",
      "Epoch 15/30\n",
      "100/100 [==============================] - 26s 261ms/step - loss: 0.6501 - accuracy: 0.6420 - val_loss: 0.6674 - val_accuracy: 0.5900\n",
      "Epoch 16/30\n",
      "100/100 [==============================] - 26s 259ms/step - loss: 0.6358 - accuracy: 0.6600 - val_loss: 0.6008 - val_accuracy: 0.6840\n",
      "Epoch 17/30\n",
      "100/100 [==============================] - 26s 260ms/step - loss: 0.6233 - accuracy: 0.6710 - val_loss: 0.7523 - val_accuracy: 0.5950\n",
      "Epoch 18/30\n",
      "100/100 [==============================] - 26s 259ms/step - loss: 0.6269 - accuracy: 0.7040 - val_loss: 0.5938 - val_accuracy: 0.6880\n",
      "Epoch 19/30\n",
      "100/100 [==============================] - 26s 253ms/step - loss: 0.5917 - accuracy: 0.6700 - val_loss: 0.6312 - val_accuracy: 0.6420\n",
      "Epoch 20/30\n",
      "100/100 [==============================] - 26s 263ms/step - loss: 0.6136 - accuracy: 0.7000 - val_loss: 0.5822 - val_accuracy: 0.6790\n",
      "Epoch 21/30\n",
      "100/100 [==============================] - 26s 263ms/step - loss: 0.6073 - accuracy: 0.6750 - val_loss: 0.6617 - val_accuracy: 0.6970\n",
      "Epoch 22/30\n",
      "100/100 [==============================] - 26s 263ms/step - loss: 0.6226 - accuracy: 0.6950 - val_loss: 0.6237 - val_accuracy: 0.6570\n",
      "Epoch 23/30\n",
      "100/100 [==============================] - 26s 259ms/step - loss: 0.6155 - accuracy: 0.6830 - val_loss: 0.5757 - val_accuracy: 0.6940\n",
      "Epoch 24/30\n",
      "100/100 [==============================] - 25s 255ms/step - loss: 0.6249 - accuracy: 0.6670 - val_loss: 0.6252 - val_accuracy: 0.6120\n",
      "Epoch 25/30\n",
      "100/100 [==============================] - 26s 257ms/step - loss: 0.5966 - accuracy: 0.6880 - val_loss: 0.6042 - val_accuracy: 0.6820\n",
      "Epoch 26/30\n",
      "100/100 [==============================] - 26s 260ms/step - loss: 0.6061 - accuracy: 0.6830 - val_loss: 0.5800 - val_accuracy: 0.6960\n",
      "Epoch 27/30\n",
      "100/100 [==============================] - 26s 259ms/step - loss: 0.6400 - accuracy: 0.6610 - val_loss: 0.6028 - val_accuracy: 0.7040\n",
      "Epoch 28/30\n",
      "100/100 [==============================] - 26s 257ms/step - loss: 0.6212 - accuracy: 0.7080 - val_loss: 0.6181 - val_accuracy: 0.6580\n",
      "Epoch 29/30\n",
      "100/100 [==============================] - 26s 265ms/step - loss: 0.6180 - accuracy: 0.6980 - val_loss: 0.6087 - val_accuracy: 0.6850\n",
      "Epoch 30/30\n",
      "100/100 [==============================] - 28s 277ms/step - loss: 0.6088 - accuracy: 0.7030 - val_loss: 0.6071 - val_accuracy: 0.6730\n"
     ]
    }
   ],
   "source": [
    "# now training the model\n",
    "\n",
    "model_fiting = model.fit(train_data , steps_per_epoch=100,epochs=30 ,validation_data=val_data, verbose=1)"
   ]
  },
  {
   "cell_type": "code",
   "execution_count": 48,
   "metadata": {
    "colab": {
     "base_uri": "https://localhost:8080/",
     "height": 219
    },
    "id": "kY0qI1dsIEli",
    "outputId": "ac7e07a2-0155-4aaf-abb1-ca3956f5038a"
   },
   "outputs": [
    {
     "name": "stdout",
     "output_type": "stream",
     "text": [
      "[0.855515]\n",
      "golden-retriever-dog-21668976.jpg is a dog\n",
      "[0.99644744]\n",
      "labrador-retriever-1210559__480.jpg is a dog\n"
     ]
    }
   ],
   "source": [
    "import numpy as np\n",
    "#from google.colab import files\n",
    "from tensorflow.keras.utils import load_img , img_to_array\n",
    "\n",
    "# #used for uploading the file we want to predict\n",
    "# uploading_file = files.upload()\n",
    "\n",
    "# for fn in uploading_file:\n",
    "#   path = 'gdrive/MyDrive/' + fn\n",
    "#   image = load_img(path , target_size=(300,300))\n",
    "#   x = img_to_array(image)\n",
    "#   x = x/225\n",
    "#   x = np.expand_dims(x , axis=0)\n",
    "\n",
    "#   images = np.vstack([x])\n",
    "#   pred_res = model.predict(images , batch_size=10)\n",
    "#   print(pred_res[0])\n",
    "#   if pred_res[0]>0.5:\n",
    "#     print(fn + \" is a cat\")\n",
    "#   else:\n",
    "#     print(fn + \" is a dog\")\n",
    "\n",
    "\n",
    "for fn in uploading_file:\n",
    "  path = \"C:/Users/mohit/Downloads/Compressed/cats_and_dogs_filtered/cats_and_dogs_filtered/test/\"+fn\n",
    "  image = load_img(path , target_size=(300,300))\n",
    "  x = img_to_array(image)\n",
    "  x = x/225\n",
    "  x = np.expand_dims(x , axis=0)\n",
    "\n",
    "  images = np.vstack([x])\n",
    "  pred_res = model.predict(images , batch_size=10)\n",
    "  print(pred_res[0])\n",
    "  if pred_res[0]>0.5:\n",
    "    print(fn + \" is a dog\")\n",
    "  else:\n",
    "    print(fn + \" is a cat\")\n",
    "    "
   ]
  },
  {
   "cell_type": "code",
   "execution_count": 14,
   "metadata": {
    "colab": {
     "base_uri": "https://localhost:8080/"
    },
    "id": "g7lgy0JVIEbi",
    "outputId": "5b25e9f0-aad1-4d5c-d33d-aae645cb1130"
   },
   "outputs": [
    {
     "name": "stdout",
     "output_type": "stream",
     "text": [
      "[0.5590000152587891, 0.5989999771118164, 0.6119999885559082, 0.6209999918937683, 0.6290000081062317, 0.6470000147819519, 0.6510000228881836, 0.6489999890327454, 0.656000018119812, 0.6610000133514404, 0.6729999780654907, 0.652999997138977, 0.6449999809265137, 0.6650000214576721, 0.6420000195503235, 0.6600000262260437, 0.6710000038146973, 0.7039999961853027, 0.6700000166893005, 0.699999988079071, 0.675000011920929, 0.6949999928474426, 0.6830000281333923, 0.6669999957084656, 0.6880000233650208, 0.6830000281333923, 0.6610000133514404, 0.7080000042915344, 0.6980000138282776, 0.703000009059906]\n",
      "[0.5400000214576721, 0.628000020980835, 0.5630000233650208, 0.6290000081062317, 0.6489999890327454, 0.6169999837875366, 0.6380000114440918, 0.6259999871253967, 0.6119999885559082, 0.652999997138977, 0.5920000076293945, 0.6340000033378601, 0.6769999861717224, 0.6240000128746033, 0.5899999737739563, 0.6840000152587891, 0.5950000286102295, 0.6880000233650208, 0.6420000195503235, 0.6790000200271606, 0.6970000267028809, 0.6570000052452087, 0.6940000057220459, 0.6119999885559082, 0.6819999814033508, 0.6959999799728394, 0.7039999961853027, 0.6579999923706055, 0.6850000023841858, 0.6729999780654907]\n"
     ]
    }
   ],
   "source": [
    "acc = model_fiting.history[\"accuracy\"]\n",
    "validation_acc = model_fiting.history[\"val_accuracy\"]\n",
    "print(acc)\n",
    "print(validation_acc)"
   ]
  },
  {
   "cell_type": "code",
   "execution_count": 15,
   "metadata": {
    "colab": {
     "base_uri": "https://localhost:8080/",
     "height": 265
    },
    "id": "O0DGIj2LIPFo",
    "outputId": "21e2984e-a40b-4160-b03f-c7a780a4b023"
   },
   "outputs": [
    {
     "data": {
      "image/png": "[encoded data removed]",
      "text/plain": [
       "<Figure size 432x288 with 1 Axes>"
      ]
     },
     "metadata": {
      "needs_background": "light"
     },
     "output_type": "display_data"
    }
   ],
   "source": [
    "import matplotlib.pyplot as plt\n",
    "epochs=range(len(acc))\n",
    "plt.plot(epochs ,acc )\n",
    "plt.plot(epochs ,validation_acc )\n",
    "plt.show()"
   ]
  },
  {
   "cell_type": "markdown",
   "metadata": {
    "id": "G2ExniE_26Hk"
   },
   "source": [
    "From agumentation we can se that our model  is not much overfiting as it is gradually moving to highest accuracy along with the validation data.\n",
    "\n",
    "We can further use tranferlearning and dropouts to remove overfitting of the model\n"
   ]
  },
  {
   "cell_type": "markdown",
   "metadata": {},
   "source": [
    "# Dropouts\n",
    "In dropout few nodes are droped from a layer which have nearly same weight as the other nodes so as to reduce the overfiting of the model."
   ]
  },
  {
   "cell_type": "code",
   "execution_count": 9,
   "metadata": {
    "id": "Ae-eJNa920wc"
   },
   "outputs": [],
   "source": [
    "model = tf.keras.models.Sequential([\n",
    "    tf.keras.layers.Conv2D(32, (3,3) , input_shape=(300,300,3), activation='relu'),\n",
    "    tf.keras.layers.MaxPool2D(2,2),\n",
    "    tf.keras.layers.Conv2D(64, (3,3), activation='relu'),\n",
    "    tf.keras.layers.MaxPool2D(2,2),\n",
    "    tf.keras.layers.Conv2D(128, (3,3), activation='relu'),\n",
    "    tf.keras.layers.MaxPool2D(2,2),\n",
    "    tf.keras.layers.Conv2D(128, (3,3), activation='relu'),\n",
    "    tf.keras.layers.MaxPool2D(2,2),\n",
    "    tf.keras.layers.Flatten(),\n",
    "    tf.keras.layers.Dense(1024 , activation=\"relu\"),\n",
    "    tf.keras.layers.Dropout(0.5),\n",
    "    tf.keras.layers.Dense(512 , activation=\"relu\"),\n",
    "    tf.keras.layers.Dropout(0.3),\n",
    "    tf.keras.layers.Dense(128 , activation=\"relu\"),\n",
    "    tf.keras.layers.Dropout(0.3),\n",
    "    tf.keras.layers.Dense(1, activation = 'sigmoid')\n",
    "])"
   ]
  },
  {
   "cell_type": "code",
   "execution_count": 10,
   "metadata": {
    "id": "rI8Xt9aWtN1I"
   },
   "outputs": [],
   "source": [
    "model.compile(loss = 'binary_crossentropy' , \n",
    "              optimizer=RMSprop(learning_rate=0.001) ,\n",
    "              metrics=['accuracy'] )"
   ]
  },
  {
   "cell_type": "code",
   "execution_count": 11,
   "metadata": {
    "id": "xWrOi_vWtP0i"
   },
   "outputs": [
    {
     "name": "stdout",
     "output_type": "stream",
     "text": [
      "Found 2000 images belonging to 2 classes.\n",
      "Found 1000 images belonging to 2 classes.\n"
     ]
    }
   ],
   "source": [
    "from tensorflow.keras.preprocessing.image import ImageDataGenerator\n",
    "\n",
    "train_gen = ImageDataGenerator(\n",
    "    rescale = 1/255,\n",
    "    rotation_range=40,\n",
    "    width_shift_range=0.2,\n",
    "    height_shift_range=0.2,\n",
    "    shear_range=0.2, \n",
    "    zoom_range=0.2,\n",
    "    horizontal_flip=True,\n",
    "    fill_mode='nearest'\n",
    ")\n",
    "\n",
    "\n",
    "\n",
    "train_data = train_gen.flow_from_directory( \n",
    "    \"train/\",  \n",
    "    target_size = (300 ,300) , \n",
    "    batch_size = 10 ,\n",
    "    class_mode = \"binary\" \n",
    "\n",
    ")\n",
    "\n",
    "#for validation set \n",
    "val_gen = ImageDataGenerator(rescale = 1/255)\n",
    "\n",
    "val_data = train_gen.flow_from_directory( \n",
    "    \"validation/\",  \n",
    "    target_size = (300 ,300) , \n",
    "    batch_size = 10 , \n",
    "    class_mode = \"binary\"\n",
    ")\n"
   ]
  },
  {
   "cell_type": "code",
   "execution_count": 12,
   "metadata": {},
   "outputs": [
    {
     "name": "stdout",
     "output_type": "stream",
     "text": [
      "Epoch 1/50\n",
      "200/200 - 38s - loss: 0.8448 - accuracy: 0.5145 - val_loss: 0.6924 - val_accuracy: 0.5000\n",
      "Epoch 2/50\n",
      "200/200 - 39s - loss: 0.7144 - accuracy: 0.5330 - val_loss: 0.6835 - val_accuracy: 0.5370\n",
      "Epoch 3/50\n",
      "200/200 - 37s - loss: 0.6982 - accuracy: 0.5640 - val_loss: 0.6573 - val_accuracy: 0.6220\n",
      "Epoch 4/50\n",
      "200/200 - 39s - loss: 0.6979 - accuracy: 0.5925 - val_loss: 0.6482 - val_accuracy: 0.6180\n",
      "Epoch 5/50\n",
      "200/200 - 38s - loss: 0.7032 - accuracy: 0.5965 - val_loss: 0.6454 - val_accuracy: 0.5860\n",
      "Epoch 6/50\n",
      "200/200 - 38s - loss: 0.6756 - accuracy: 0.6180 - val_loss: 0.6447 - val_accuracy: 0.6510\n",
      "Epoch 7/50\n",
      "200/200 - 37s - loss: 0.6777 - accuracy: 0.6165 - val_loss: 0.8358 - val_accuracy: 0.6200\n",
      "Epoch 8/50\n",
      "200/200 - 38s - loss: 0.6955 - accuracy: 0.6140 - val_loss: 0.6518 - val_accuracy: 0.6300\n",
      "Epoch 9/50\n",
      "200/200 - 38s - loss: 0.6993 - accuracy: 0.6065 - val_loss: 0.6207 - val_accuracy: 0.6460\n",
      "Epoch 10/50\n",
      "200/200 - 39s - loss: 0.6887 - accuracy: 0.6280 - val_loss: 0.6531 - val_accuracy: 0.5920\n",
      "Epoch 11/50\n",
      "200/200 - 37s - loss: 0.6775 - accuracy: 0.6470 - val_loss: 0.6268 - val_accuracy: 0.6630\n",
      "Epoch 12/50\n",
      "200/200 - 38s - loss: 0.6775 - accuracy: 0.6225 - val_loss: 0.8488 - val_accuracy: 0.6250\n",
      "Epoch 13/50\n",
      "200/200 - 37s - loss: 0.7628 - accuracy: 0.6160 - val_loss: 0.6435 - val_accuracy: 0.6510\n",
      "Epoch 14/50\n",
      "200/200 - 38s - loss: 0.6896 - accuracy: 0.6385 - val_loss: 0.6764 - val_accuracy: 0.6520\n",
      "Epoch 15/50\n",
      "200/200 - 37s - loss: 0.6911 - accuracy: 0.6335 - val_loss: 0.6494 - val_accuracy: 0.5920\n",
      "Epoch 16/50\n",
      "200/200 - 39s - loss: 0.6771 - accuracy: 0.6395 - val_loss: 0.7135 - val_accuracy: 0.6460\n",
      "Epoch 17/50\n",
      "200/200 - 37s - loss: 0.6875 - accuracy: 0.6400 - val_loss: 0.6735 - val_accuracy: 0.6390\n",
      "Epoch 18/50\n",
      "200/200 - 38s - loss: 0.7133 - accuracy: 0.6370 - val_loss: 0.6416 - val_accuracy: 0.6370\n",
      "Epoch 19/50\n",
      "200/200 - 37s - loss: 0.6741 - accuracy: 0.6540 - val_loss: 0.6073 - val_accuracy: 0.6720\n",
      "Epoch 20/50\n",
      "200/200 - 36s - loss: 0.6828 - accuracy: 0.6475 - val_loss: 0.6333 - val_accuracy: 0.6580\n",
      "Epoch 21/50\n",
      "200/200 - 37s - loss: 0.6652 - accuracy: 0.6610 - val_loss: 0.6913 - val_accuracy: 0.6210\n",
      "Epoch 22/50\n",
      "200/200 - 37s - loss: 0.6774 - accuracy: 0.6475 - val_loss: 0.6143 - val_accuracy: 0.6670\n",
      "Epoch 23/50\n",
      "200/200 - 37s - loss: 0.6806 - accuracy: 0.6560 - val_loss: 0.6374 - val_accuracy: 0.6430\n",
      "Epoch 24/50\n",
      "200/200 - 37s - loss: 0.6618 - accuracy: 0.6595 - val_loss: 0.6241 - val_accuracy: 0.6690\n",
      "Epoch 25/50\n",
      "200/200 - 37s - loss: 0.6500 - accuracy: 0.6605 - val_loss: 0.6457 - val_accuracy: 0.6660\n",
      "Epoch 26/50\n",
      "200/200 - 36s - loss: 0.6445 - accuracy: 0.6560 - val_loss: 0.6220 - val_accuracy: 0.6510\n",
      "Epoch 27/50\n",
      "200/200 - 38s - loss: 0.6688 - accuracy: 0.6555 - val_loss: 0.6602 - val_accuracy: 0.6310\n",
      "Epoch 28/50\n",
      "200/200 - 37s - loss: 0.6562 - accuracy: 0.6535 - val_loss: 0.6282 - val_accuracy: 0.6460\n",
      "Epoch 29/50\n",
      "200/200 - 37s - loss: 0.6956 - accuracy: 0.6350 - val_loss: 0.6248 - val_accuracy: 0.6470\n",
      "Epoch 30/50\n",
      "200/200 - 38s - loss: 0.6709 - accuracy: 0.6520 - val_loss: 0.6237 - val_accuracy: 0.6840\n",
      "Epoch 31/50\n",
      "200/200 - 39s - loss: 0.6815 - accuracy: 0.6460 - val_loss: 0.6718 - val_accuracy: 0.6150\n",
      "Epoch 32/50\n",
      "200/200 - 39s - loss: 0.6812 - accuracy: 0.6645 - val_loss: 0.6251 - val_accuracy: 0.6620\n",
      "Epoch 33/50\n",
      "200/200 - 39s - loss: 0.7183 - accuracy: 0.6520 - val_loss: 0.6149 - val_accuracy: 0.6740\n",
      "Epoch 34/50\n",
      "200/200 - 37s - loss: 0.6435 - accuracy: 0.6615 - val_loss: 0.7259 - val_accuracy: 0.6270\n",
      "Epoch 35/50\n",
      "200/200 - 37s - loss: 0.6339 - accuracy: 0.6545 - val_loss: 0.6316 - val_accuracy: 0.6880\n",
      "Epoch 36/50\n",
      "200/200 - 38s - loss: 0.6602 - accuracy: 0.6410 - val_loss: 0.5962 - val_accuracy: 0.6900\n",
      "Epoch 37/50\n",
      "200/200 - 40s - loss: 0.6589 - accuracy: 0.6650 - val_loss: 0.6846 - val_accuracy: 0.6520\n",
      "Epoch 38/50\n",
      "200/200 - 38s - loss: 0.7079 - accuracy: 0.6495 - val_loss: 0.6861 - val_accuracy: 0.6360\n",
      "Epoch 39/50\n",
      "200/200 - 38s - loss: 0.6573 - accuracy: 0.6550 - val_loss: 0.6125 - val_accuracy: 0.6710\n",
      "Epoch 40/50\n",
      "200/200 - 37s - loss: 0.6878 - accuracy: 0.6540 - val_loss: 0.6715 - val_accuracy: 0.5540\n",
      "Epoch 41/50\n",
      "200/200 - 38s - loss: 0.7064 - accuracy: 0.6670 - val_loss: 0.6056 - val_accuracy: 0.6790\n",
      "Epoch 42/50\n",
      "200/200 - 36s - loss: 0.6776 - accuracy: 0.6550 - val_loss: 0.6136 - val_accuracy: 0.6740\n",
      "Epoch 43/50\n",
      "200/200 - 38s - loss: 0.6516 - accuracy: 0.6660 - val_loss: 0.6459 - val_accuracy: 0.5990\n",
      "Epoch 44/50\n",
      "200/200 - 37s - loss: 0.6661 - accuracy: 0.6575 - val_loss: 0.6250 - val_accuracy: 0.6420\n",
      "Epoch 45/50\n",
      "200/200 - 38s - loss: 0.6744 - accuracy: 0.6660 - val_loss: 0.6372 - val_accuracy: 0.6360\n",
      "Epoch 46/50\n",
      "200/200 - 37s - loss: 0.6687 - accuracy: 0.6575 - val_loss: 0.6514 - val_accuracy: 0.6090\n",
      "Epoch 47/50\n",
      "200/200 - 38s - loss: 0.6616 - accuracy: 0.6775 - val_loss: 0.6156 - val_accuracy: 0.6700\n",
      "Epoch 48/50\n",
      "200/200 - 37s - loss: 0.6754 - accuracy: 0.6640 - val_loss: 0.8022 - val_accuracy: 0.6360\n",
      "Epoch 49/50\n",
      "200/200 - 37s - loss: 0.6390 - accuracy: 0.6650 - val_loss: 0.6256 - val_accuracy: 0.6590\n",
      "Epoch 50/50\n",
      "200/200 - 37s - loss: 0.6701 - accuracy: 0.6600 - val_loss: 0.6236 - val_accuracy: 0.6690\n"
     ]
    }
   ],
   "source": [
    "model_fiting = model.fit(train_data , steps_per_epoch=200,epochs=50 ,validation_data=val_data, verbose=2 ,batch_size =10)"
   ]
  },
  {
   "cell_type": "code",
   "execution_count": 13,
   "metadata": {},
   "outputs": [
    {
     "name": "stdout",
     "output_type": "stream",
     "text": [
      "[0.5145000219345093, 0.5329999923706055, 0.5640000104904175, 0.5924999713897705, 0.5964999794960022, 0.6179999709129333, 0.6165000200271606, 0.6140000224113464, 0.6065000295639038, 0.628000020980835, 0.6470000147819519, 0.6225000023841858, 0.6159999966621399, 0.6384999752044678, 0.6334999799728394, 0.6395000219345093, 0.6399999856948853, 0.6370000243186951, 0.6539999842643738, 0.6474999785423279, 0.6610000133514404, 0.6474999785423279, 0.656000018119812, 0.659500002861023, 0.6604999899864197, 0.656000018119812, 0.6554999947547913, 0.6535000205039978, 0.6349999904632568, 0.6520000100135803, 0.6460000276565552, 0.6644999980926514, 0.6520000100135803, 0.6614999771118164, 0.6545000076293945, 0.640999972820282, 0.6650000214576721, 0.6495000123977661, 0.6549999713897705, 0.6539999842643738, 0.6669999957084656, 0.6549999713897705, 0.6660000085830688, 0.6575000286102295, 0.6660000085830688, 0.6575000286102295, 0.6775000095367432, 0.6639999747276306, 0.6650000214576721, 0.6600000262260437]\n",
      "[0.5, 0.5370000004768372, 0.621999979019165, 0.6179999709129333, 0.5860000252723694, 0.6510000228881836, 0.6200000047683716, 0.6299999952316284, 0.6460000276565552, 0.5920000076293945, 0.6629999876022339, 0.625, 0.6510000228881836, 0.6520000100135803, 0.5920000076293945, 0.6460000276565552, 0.6389999985694885, 0.6370000243186951, 0.671999990940094, 0.6579999923706055, 0.6209999918937683, 0.6669999957084656, 0.6430000066757202, 0.6690000295639038, 0.6660000085830688, 0.6510000228881836, 0.6309999823570251, 0.6460000276565552, 0.6470000147819519, 0.6840000152587891, 0.6150000095367432, 0.6620000004768372, 0.6740000247955322, 0.6269999742507935, 0.6880000233650208, 0.6899999976158142, 0.6520000100135803, 0.6359999775886536, 0.6710000038146973, 0.5540000200271606, 0.6790000200271606, 0.6740000247955322, 0.5989999771118164, 0.6420000195503235, 0.6359999775886536, 0.609000027179718, 0.6700000166893005, 0.6359999775886536, 0.6589999794960022, 0.6690000295639038]\n"
     ]
    }
   ],
   "source": [
    "acc = model_fiting.history[\"accuracy\"]\n",
    "validation_acc = model_fiting.history[\"val_accuracy\"]\n",
    "print(acc)\n",
    "print(validation_acc)"
   ]
  },
  {
   "cell_type": "code",
   "execution_count": 14,
   "metadata": {
    "scrolled": true
   },
   "outputs": [
    {
     "data": {
      "image/png": "[encoded data removed]",
      "text/plain": [
       "<Figure size 432x288 with 1 Axes>"
      ]
     },
     "metadata": {
      "needs_background": "light"
     },
     "output_type": "display_data"
    }
   ],
   "source": [
    "import matplotlib.pyplot as plt\n",
    "epochs=range(len(acc))\n",
    "plt.plot(epochs ,acc )\n",
    "plt.plot(epochs ,validation_acc )\n",
    "plt.show()"
   ]
  },
  {
   "cell_type": "code",
   "execution_count": null,
   "metadata": {},
   "outputs": [],
   "source": []
  }
 ],
 "metadata": {
  "accelerator": "GPU",
  "colab": {
   "authorship_tag": "ABX9TyNPhthuZoTxz1YQF8371aG0",
   "include_colab_link": true,
   "mount_file_id": "1ZGQHex-wY0U4uL2iBt4b7quV1tm91_L5",
   "provenance": []
  },
  "gpuClass": "standard",
  "kernelspec": {
   "display_name": "Python 3.6(gpu)",
   "language": "python",
   "name": "tf-gpu"
  },
  "language_info": {
   "codemirror_mode": {
    "name": "ipython",
    "version": 3
   },
   "file_extension": ".py",
   "mimetype": "text/x-python",
   "name": "python",
   "nbconvert_exporter": "python",
   "pygments_lexer": "ipython3",
   "version": "3.6.13"
  }
 },
 "nbformat": 4,
 "nbformat_minor": 1
}
