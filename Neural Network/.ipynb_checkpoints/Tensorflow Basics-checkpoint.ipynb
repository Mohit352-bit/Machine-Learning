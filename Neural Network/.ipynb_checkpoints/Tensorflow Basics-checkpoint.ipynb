{
 "cells": [
  {
   "cell_type": "code",
   "execution_count": 2,
   "id": "f8188dd0",
   "metadata": {},
   "outputs": [
    {
     "name": "stdout",
     "output_type": "stream",
     "text": [
      "2.6.2\n"
     ]
    }
   ],
   "source": [
    "import tensorflow as tf\n",
    "print(tf.__version__)"
   ]
  },
  {
   "cell_type": "markdown",
   "id": "d2d6e667",
   "metadata": {},
   "source": [
    "### tf.constant()    {unchangable or immutable tensor}"
   ]
  },
  {
   "cell_type": "code",
   "execution_count": 5,
   "id": "edabefef",
   "metadata": {},
   "outputs": [
    {
     "data": {
      "text/plain": [
       "<tf.Tensor: shape=(), dtype=int32, numpy=7>"
      ]
     },
     "execution_count": 5,
     "metadata": {},
     "output_type": "execute_result"
    }
   ],
   "source": [
    "scalar = tf.constant(7)\n",
    "scalar"
   ]
  },
  {
   "cell_type": "code",
   "execution_count": 6,
   "id": "10700225",
   "metadata": {},
   "outputs": [
    {
     "data": {
      "text/plain": [
       "0"
      ]
     },
     "execution_count": 6,
     "metadata": {},
     "output_type": "execute_result"
    }
   ],
   "source": [
    "scalar.ndim\n",
    "\n",
    "# A tensor with 0 dimension is defined as SCALAR "
   ]
  },
  {
   "cell_type": "code",
   "execution_count": 7,
   "id": "24441cf7",
   "metadata": {},
   "outputs": [
    {
     "data": {
      "text/plain": [
       "<tf.Tensor: shape=(2,), dtype=int32, numpy=array([1, 2])>"
      ]
     },
     "execution_count": 7,
     "metadata": {},
     "output_type": "execute_result"
    }
   ],
   "source": [
    "vector  = tf.constant([1,2])\n",
    "vector"
   ]
  },
  {
   "cell_type": "code",
   "execution_count": 8,
   "id": "32ffad72",
   "metadata": {},
   "outputs": [
    {
     "data": {
      "text/plain": [
       "1"
      ]
     },
     "execution_count": 8,
     "metadata": {},
     "output_type": "execute_result"
    }
   ],
   "source": [
    "vector.ndim\n",
    "\n",
    "# A tensor with 1 dimension is called vector"
   ]
  },
  {
   "cell_type": "code",
   "execution_count": 9,
   "id": "57ea923c",
   "metadata": {},
   "outputs": [
    {
     "data": {
      "text/plain": [
       "<tf.Tensor: shape=(2, 2), dtype=int32, numpy=\n",
       "array([[1, 2],\n",
       "       [2, 3]])>"
      ]
     },
     "execution_count": 9,
     "metadata": {},
     "output_type": "execute_result"
    }
   ],
   "source": [
    "matrix  = tf.constant([[1,2],[2,3]])\n",
    "matrix"
   ]
  },
  {
   "cell_type": "code",
   "execution_count": 10,
   "id": "77e90def",
   "metadata": {},
   "outputs": [
    {
     "data": {
      "text/plain": [
       "2"
      ]
     },
     "execution_count": 10,
     "metadata": {},
     "output_type": "execute_result"
    }
   ],
   "source": [
    "matrix.ndim\n",
    "\n",
    "# A tensor with 2 dimension is Matrix"
   ]
  },
  {
   "cell_type": "markdown",
   "id": "a3711f0a",
   "metadata": {},
   "source": [
    "### Multidimenssion array whose dimension is >= 3 is called as TENSOR\n",
    "### It is different from numpy array as in tensor we use acceleration with GPU which helps in fast calculation as compare to the numpy arrays"
   ]
  },
  {
   "cell_type": "code",
   "execution_count": null,
   "id": "82802797",
   "metadata": {},
   "outputs": [],
   "source": []
  },
  {
   "cell_type": "markdown",
   "id": "3be668ae",
   "metadata": {},
   "source": [
    "### tf.Variable()  {changable or mutable tensor}"
   ]
  },
  {
   "cell_type": "code",
   "execution_count": 13,
   "id": "1c4f9027",
   "metadata": {},
   "outputs": [
    {
     "data": {
      "text/plain": [
       "<tf.Variable 'Variable:0' shape=(2,) dtype=int32, numpy=array([10,  2])>"
      ]
     },
     "execution_count": 13,
     "metadata": {},
     "output_type": "execute_result"
    }
   ],
   "source": [
    "tensor1 = tf.Variable([10,2])\n",
    "tensor1"
   ]
  },
  {
   "cell_type": "code",
   "execution_count": 15,
   "id": "aa462230",
   "metadata": {},
   "outputs": [
    {
     "data": {
      "text/plain": [
       "<tf.Variable 'Variable:0' shape=(2,) dtype=int32, numpy=array([3, 2])>"
      ]
     },
     "execution_count": 15,
     "metadata": {},
     "output_type": "execute_result"
    }
   ],
   "source": [
    "# we can change the value of tensor wiht using assign \n",
    "tensor1[0].assign(3)\n",
    "tensor1"
   ]
  },
  {
   "cell_type": "markdown",
   "id": "36af3287",
   "metadata": {},
   "source": [
    "### Random tensors"
   ]
  },
  {
   "cell_type": "code",
   "execution_count": 18,
   "id": "68c72b64",
   "metadata": {},
   "outputs": [
    {
     "data": {
      "text/plain": [
       "<tf.Tensor: shape=(3, 2), dtype=float32, numpy=\n",
       "array([[-0.8757808 ,  0.33563688],\n",
       "       [-0.35219625, -0.30314562],\n",
       "       [-0.03882965,  0.9652983 ]], dtype=float32)>"
      ]
     },
     "execution_count": 18,
     "metadata": {},
     "output_type": "execute_result"
    }
   ],
   "source": [
    "rand_tsr = tf.random.set_seed(10) #set seed sets a particular values in random tensor and if we use this seed value in any other tensor we will get the same random values\n",
    "rand_tsr = tf.random.normal([3,2])\n",
    "rand_tsr"
   ]
  },
  {
   "cell_type": "code",
   "execution_count": null,
   "id": "60add40b",
   "metadata": {},
   "outputs": [],
   "source": []
  }
 ],
 "metadata": {
  "kernelspec": {
   "display_name": "Python 3.6(gpu)",
   "language": "python",
   "name": "tf-gpu"
  },
  "language_info": {
   "codemirror_mode": {
    "name": "ipython",
    "version": 3
   },
   "file_extension": ".py",
   "mimetype": "text/x-python",
   "name": "python",
   "nbconvert_exporter": "python",
   "pygments_lexer": "ipython3",
   "version": "3.6.13"
  }
 },
 "nbformat": 4,
 "nbformat_minor": 5
}
