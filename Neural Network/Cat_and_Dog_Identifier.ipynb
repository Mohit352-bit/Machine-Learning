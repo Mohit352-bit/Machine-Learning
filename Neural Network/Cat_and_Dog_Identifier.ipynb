{
  "nbformat": 4,
  "nbformat_minor": 0,
  "metadata": {
    "colab": {
      "provenance": [],
      "mount_file_id": "1ZGQHex-wY0U4uL2iBt4b7quV1tm91_L5",
      "authorship_tag": "ABX9TyNPhthuZoTxz1YQF8371aG0",
      "include_colab_link": true
    },
    "kernelspec": {
      "name": "python3",
      "display_name": "Python 3"
    },
    "language_info": {
      "name": "python"
    },
    "accelerator": "GPU",
    "gpuClass": "standard"
  },
  "cells": [
    {
      "cell_type": "markdown",
      "metadata": {
        "id": "view-in-github",
        "colab_type": "text"
      },
      "source": [
        "<a href=\"https://colab.research.google.com/github/Mohit352-bit/Machine-Learning/blob/main/Neural%20Network/Cat_and_Dog_Identifier.ipynb\" target=\"_parent\"><img src=\"https://colab.research.google.com/assets/colab-badge.svg\" alt=\"Open In Colab\"/></a>"
      ]
    },
    {
      "cell_type": "markdown",
      "source": [
        "### ----------------------------------------------------------------------------------------------------------------------------------------------------------------\n",
        "\n",
        "using zip file from gdrive for fast uploading"
      ],
      "metadata": {
        "id": "tp5Ujbput7VE"
      }
    },
    {
      "cell_type": "code",
      "execution_count": null,
      "metadata": {
        "colab": {
          "base_uri": "https://localhost:8080/"
        },
        "id": "D4OKAN0mfThc",
        "outputId": "24e0c2a5-fc5f-4d7a-c482-93b79a53f5ea"
      },
      "outputs": [
        {
          "output_type": "stream",
          "name": "stdout",
          "text": [
            "Mounted at /content/gdrive\n"
          ]
        }
      ],
      "source": [
        "#mounting(connecting) the gdrive with colab\n",
        "from google.colab import drive\n",
        "drive.mount('/content/gdrive')"
      ]
    },
    {
      "cell_type": "code",
      "source": [
        "# getting the list of all files in myDrive\n",
        "!ls gdrive/MyDrive"
      ],
      "metadata": {
        "colab": {
          "base_uri": "https://localhost:8080/"
        },
        "id": "pCdMGKBgjKOi",
        "outputId": "d96728ab-fdab-4364-cc9a-cd33b99b2e41"
      },
      "execution_count": null,
      "outputs": [
        {
          "output_type": "stream",
          "name": "stdout",
          "text": [
            "'Class 12 Result.pdf'\n",
            "'Colab Notebooks'\n",
            "'Copy of Invoice-Template-sheet-printable-5.gsheet'\n",
            " Horse_Human\n",
            "'How to get started with Drive.pdf'\n",
            " istockphoto-1319763895-612x612.jpg\n",
            " Male_female\n",
            " MohitINT353CA2.pdf\n",
            "'mohit mark.jpg'\n",
            " Mohit-Srivastava.pdf\n",
            " Mohit_Srivastava_resume.pdf\n",
            "'Pasport size '\n",
            " pexels-helena-lopes-1996332.jpg\n",
            " REsume.pdf\n",
            "'Screenshot (111).png'\n",
            "'Screenshot (124).png'\n",
            "'Screenshot 2022-06-30 215216.jpeg.png'\n",
            " Screenshot_2022-09-01-15-42-46-955_net.one97.paytm.jpg\n",
            " Screenshot_2022-09-30-16-23-32-285_com.microsoft.teams.pdf\n",
            "'Screenshot (75).png'\n",
            " tied.jfif\n",
            " unknown.png\n",
            " Untitled1.ipynb\n"
          ]
        }
      ]
    },
    {
      "cell_type": "code",
      "source": [
        "import zipfile\n",
        "\n",
        "# Extract the archive\n",
        "zip_ref = zipfile.ZipFile(\"gdrive/MyDrive/Cat_Dogs/cats_and_dogs_filtered.zip\", 'r')\n",
        "zip_ref.extractall(\"tmp/\")\n",
        "zip_ref.close()"
      ],
      "metadata": {
        "id": "zQ60N1hcSU79"
      },
      "execution_count": null,
      "outputs": []
    },
    {
      "cell_type": "code",
      "source": [
        "import os\n",
        "train_cat_names = os.listdir(\"tmp/cats_and_dogs_filtered/train/cats\")\n",
        "print(train_cat_names[:10])\n",
        "train_dog_names = os.listdir(\"tmp/cats_and_dogs_filtered/train/dogs\")\n",
        "print(train_dog_names[:10])"
      ],
      "metadata": {
        "colab": {
          "base_uri": "https://localhost:8080/"
        },
        "id": "wtCybafuTcSr",
        "outputId": "cdb717bf-8d48-464d-e674-9f3ae76bcaf7"
      },
      "execution_count": null,
      "outputs": [
        {
          "output_type": "stream",
          "name": "stdout",
          "text": [
            "['cat.146.jpg', 'cat.602.jpg', 'cat.446.jpg', 'cat.955.jpg', 'cat.644.jpg', 'cat.93.jpg', 'cat.968.jpg', 'cat.477.jpg', 'cat.229.jpg', 'cat.316.jpg']\n",
            "['dog.370.jpg', 'dog.387.jpg', 'dog.568.jpg', 'dog.694.jpg', 'dog.395.jpg', 'dog.436.jpg', 'dog.106.jpg', 'dog.560.jpg', 'dog.580.jpg', 'dog.438.jpg']\n"
          ]
        }
      ]
    },
    {
      "cell_type": "markdown",
      "source": [
        "### Uploading image files in Jupyter Notebook"
      ],
      "metadata": {
        "id": "9OpFjRWbuc7F"
      }
    },
    {
      "cell_type": "code",
      "source": [
        "import os\n",
        "\n",
        "# changing the working directory\n",
        "os.chdir('C:/Users/mohit/Downloads/Compressed/cats_and_dogs_filtered/cats_and_dogs_filtered')\n",
        "\n",
        "#variable storing the directory address\n",
        "cwd = os.getcwd() \n",
        "      \n",
        "# Printing the current working \n",
        "# directory (CWD) \n",
        "print(\"Current working directory:\", cwd) \n"
      ],
      "metadata": {
        "id": "Ghe8p9l8umNB"
      },
      "execution_count": null,
      "outputs": []
    },
    {
      "cell_type": "code",
      "source": [
        "#storing path of training horse pictures\n",
        "train_dogs_dir_path = os.path.join('train/dogs')\n",
        "\n",
        "#storing path of training human pictures\n",
        "train_cats_dir_path = os.path.join('train/cats')"
      ],
      "metadata": {
        "id": "QO4uuyDDumD1"
      },
      "execution_count": null,
      "outputs": []
    },
    {
      "cell_type": "code",
      "source": [
        "# list of files in dog and cat folder\n",
        "train_dogs_names = os.listdir(train_dogs_dir_path)\n",
        "print(train_dogs_names[:10])\n",
        "train_cats_names = os.listdir(train_cats_dir_path)\n",
        "print(train_cats_names[:10])"
      ],
      "metadata": {
        "id": "OSKw0lzkul-u"
      },
      "execution_count": 1,
      "outputs": []
    },
    {
      "cell_type": "code",
      "source": [],
      "metadata": {
        "id": "T9hh-1x7ulrt"
      },
      "execution_count": null,
      "outputs": []
    },
    {
      "cell_type": "markdown",
      "source": [
        "# Creating CNN Model ⚓"
      ],
      "metadata": {
        "id": "a7H2IyXohum9"
      }
    },
    {
      "cell_type": "code",
      "source": [
        "import tensorflow as tf\n",
        "from tensorflow.keras.optimizers import RMSprop"
      ],
      "metadata": {
        "id": "eG3fNMxoh2zb"
      },
      "execution_count": null,
      "outputs": []
    },
    {
      "cell_type": "code",
      "source": [
        "model = tf.keras.models.Sequential([\n",
        "    tf.keras.layers.Conv2D(32, (3,3) , input_shape=(300,300,3), activation='relu'),\n",
        "    tf.keras.layers.MaxPool2D(2,2),\n",
        "    tf.keras.layers.Conv2D(64, (3,3), activation='relu'),\n",
        "    tf.keras.layers.MaxPool2D(2,2),\n",
        "    tf.keras.layers.Conv2D(128, (3,3), activation='relu'),\n",
        "    tf.keras.layers.MaxPool2D(2,2),\n",
        "    tf.keras.layers.Conv2D(128, (3,3), activation='relu'),\n",
        "    tf.keras.layers.MaxPool2D(2,2),\n",
        "    tf.keras.layers.Flatten(),\n",
        "    tf.keras.layers.Dense(512 , activation=\"relu\"),\n",
        "    tf.keras.layers.Dense(1, activation = 'sigmoid')\n",
        "])\n",
        "\n",
        "# we are using sigmoid as activation instead of softmax because it works better than softmax in binary classification (i.e. when we have 2 outputs to compare dogs and cats)\n",
        "# we can also use softmax here as (2 , activation=\"softmax\") but the sigmoid activation is more efficient here.\n",
        "# softmax is used when there is more than 2 calssification\n",
        "\n",
        "## site to learn which is best optimizer --- https://gombru.github.io/2018/05/23/cross_entropy_loss/"
      ],
      "metadata": {
        "id": "AyLMuhWniNwP"
      },
      "execution_count": null,
      "outputs": []
    },
    {
      "cell_type": "code",
      "source": [
        "model.summary()"
      ],
      "metadata": {
        "colab": {
          "base_uri": "https://localhost:8080/"
        },
        "id": "Q_oJvE27kFK2",
        "outputId": "afa712d6-1eef-43f6-c641-a0f419261edb"
      },
      "execution_count": null,
      "outputs": [
        {
          "output_type": "stream",
          "name": "stdout",
          "text": [
            "Model: \"sequential\"\n",
            "_________________________________________________________________\n",
            " Layer (type)                Output Shape              Param #   \n",
            "=================================================================\n",
            " conv2d (Conv2D)             (None, 298, 298, 32)      896       \n",
            "                                                                 \n",
            " max_pooling2d (MaxPooling2D  (None, 149, 149, 32)     0         \n",
            " )                                                               \n",
            "                                                                 \n",
            " conv2d_1 (Conv2D)           (None, 147, 147, 64)      18496     \n",
            "                                                                 \n",
            " max_pooling2d_1 (MaxPooling  (None, 73, 73, 64)       0         \n",
            " 2D)                                                             \n",
            "                                                                 \n",
            " conv2d_2 (Conv2D)           (None, 71, 71, 128)       73856     \n",
            "                                                                 \n",
            " max_pooling2d_2 (MaxPooling  (None, 35, 35, 128)      0         \n",
            " 2D)                                                             \n",
            "                                                                 \n",
            " conv2d_3 (Conv2D)           (None, 33, 33, 128)       147584    \n",
            "                                                                 \n",
            " max_pooling2d_3 (MaxPooling  (None, 16, 16, 128)      0         \n",
            " 2D)                                                             \n",
            "                                                                 \n",
            " flatten (Flatten)           (None, 32768)             0         \n",
            "                                                                 \n",
            " dense (Dense)               (None, 512)               16777728  \n",
            "                                                                 \n",
            " dense_1 (Dense)             (None, 1)                 513       \n",
            "                                                                 \n",
            "=================================================================\n",
            "Total params: 17,019,073\n",
            "Trainable params: 17,019,073\n",
            "Non-trainable params: 0\n",
            "_________________________________________________________________\n"
          ]
        }
      ]
    },
    {
      "cell_type": "code",
      "source": [
        "model.compile(loss = 'binary_crossentropy' , \n",
        "              optimizer=RMSprop(learning_rate=0.001) ,\n",
        "              metrics=['accuracy'] )\n",
        "\n",
        "## we are using RMSprop intead of SGD because rmsprop , adam , adagard automatically adapt the learning rate whereas SGD dont\n",
        "## we are using binary crossentropy cause there is binary output \n",
        "# ## site to learn which is best loss function  --- https://gombru.github.io/2018/05/23/cross_entropy_loss/"
      ],
      "metadata": {
        "id": "Sx0hGKA1lbtH"
      },
      "execution_count": null,
      "outputs": []
    },
    {
      "cell_type": "markdown",
      "source": [
        "Now using ImageDataGenrator lib to rescale the image and convert it into binary form,"
      ],
      "metadata": {
        "id": "RgkP9DvQsvJ6"
      }
    },
    {
      "cell_type": "code",
      "source": [
        "from tensorflow.keras.preprocessing.image import ImageDataGenerator\n",
        "\n",
        "train_gen = ImageDataGenerator(rescale = 1/255)\n",
        "\n",
        "train_data = train_gen.flow_from_directory( \n",
        "    \"tmp/cats_and_dogs_filtered/train\", # path of main directory \n",
        "    target_size = (300 ,300) , # resizing all the images to 300x300\n",
        "    batch_size = 128 , #images are taken from the directory in batches and we are taking 128 image per batch\n",
        "    class_mode = \"binary\" # we use binary class mode as loss funtion is using binary crossentropy and output is binary\n",
        "\n",
        ")\n",
        "\n",
        "#for validation set \n",
        "val_gen = ImageDataGenerator(rescale = 1/255)\n",
        "\n",
        "val_data = train_gen.flow_from_directory( \n",
        "    \"tmp/cats_and_dogs_filtered/validation\",  \n",
        "    target_size = (300 ,300) , \n",
        "    batch_size = 10 , \n",
        "    class_mode = \"binary\"\n",
        ")\n"
      ],
      "metadata": {
        "colab": {
          "base_uri": "https://localhost:8080/"
        },
        "id": "DBVh6ZDKs84W",
        "outputId": "940e0434-ffd0-4038-ec6a-688700093476"
      },
      "execution_count": null,
      "outputs": [
        {
          "output_type": "stream",
          "name": "stdout",
          "text": [
            "Found 2000 images belonging to 2 classes.\n",
            "Found 1000 images belonging to 2 classes.\n"
          ]
        }
      ]
    },
    {
      "cell_type": "code",
      "source": [
        "# now training the model\n",
        "\n",
        "model_fiting = model.fit(train_data , steps_per_epoch=8,epochs=50 ,validation_data=val_data, verbose=1)"
      ],
      "metadata": {
        "colab": {
          "base_uri": "https://localhost:8080/"
        },
        "id": "8-8vnDuntG4F",
        "outputId": "ad2795a2-21db-46d3-f3f8-8546c92c2d94"
      },
      "execution_count": null,
      "outputs": [
        {
          "output_type": "stream",
          "name": "stdout",
          "text": [
            "Epoch 1/50\n",
            "8/8 [==============================] - 21s 1s/step - loss: 6.8931 - accuracy: 0.4805 - val_loss: 0.6943 - val_accuracy: 0.5000\n",
            "Epoch 2/50\n",
            "8/8 [==============================] - 9s 1s/step - loss: 0.7107 - accuracy: 0.4922 - val_loss: 0.6928 - val_accuracy: 0.5060\n",
            "Epoch 3/50\n",
            "8/8 [==============================] - 9s 1s/step - loss: 0.7228 - accuracy: 0.5127 - val_loss: 0.7892 - val_accuracy: 0.5000\n",
            "Epoch 4/50\n",
            "8/8 [==============================] - 12s 2s/step - loss: 0.7119 - accuracy: 0.5020 - val_loss: 0.6960 - val_accuracy: 0.5000\n",
            "Epoch 5/50\n",
            "8/8 [==============================] - 9s 1s/step - loss: 0.6871 - accuracy: 0.5547 - val_loss: 0.7910 - val_accuracy: 0.5000\n",
            "Epoch 6/50\n",
            "8/8 [==============================] - 9s 1s/step - loss: 0.7033 - accuracy: 0.5533 - val_loss: 0.6931 - val_accuracy: 0.5000\n",
            "Epoch 7/50\n",
            "8/8 [==============================] - 9s 1s/step - loss: 0.6868 - accuracy: 0.5779 - val_loss: 0.6832 - val_accuracy: 0.5150\n",
            "Epoch 8/50\n",
            "8/8 [==============================] - 9s 1s/step - loss: 0.6929 - accuracy: 0.5557 - val_loss: 0.6907 - val_accuracy: 0.5000\n",
            "Epoch 9/50\n",
            "8/8 [==============================] - 9s 1s/step - loss: 0.7022 - accuracy: 0.5078 - val_loss: 0.6863 - val_accuracy: 0.5510\n",
            "Epoch 10/50\n",
            "8/8 [==============================] - 12s 2s/step - loss: 0.7258 - accuracy: 0.5811 - val_loss: 1.2199 - val_accuracy: 0.5000\n",
            "Epoch 11/50\n",
            "8/8 [==============================] - 9s 1s/step - loss: 0.7349 - accuracy: 0.5266 - val_loss: 0.6871 - val_accuracy: 0.5160\n",
            "Epoch 12/50\n",
            "8/8 [==============================] - 9s 1s/step - loss: 0.6794 - accuracy: 0.5553 - val_loss: 0.6790 - val_accuracy: 0.6070\n",
            "Epoch 13/50\n",
            "8/8 [==============================] - 9s 1s/step - loss: 0.6648 - accuracy: 0.5947 - val_loss: 1.0102 - val_accuracy: 0.5040\n",
            "Epoch 14/50\n",
            "8/8 [==============================] - 9s 1s/step - loss: 0.7023 - accuracy: 0.5932 - val_loss: 0.7226 - val_accuracy: 0.5280\n",
            "Epoch 15/50\n",
            "8/8 [==============================] - 9s 1s/step - loss: 0.6791 - accuracy: 0.5727 - val_loss: 0.6795 - val_accuracy: 0.5740\n",
            "Epoch 16/50\n",
            "8/8 [==============================] - 9s 1s/step - loss: 0.6444 - accuracy: 0.6221 - val_loss: 0.6729 - val_accuracy: 0.6120\n",
            "Epoch 17/50\n",
            "8/8 [==============================] - 9s 1s/step - loss: 0.6264 - accuracy: 0.6396 - val_loss: 0.6889 - val_accuracy: 0.5330\n",
            "Epoch 18/50\n",
            "8/8 [==============================] - 9s 1s/step - loss: 0.5925 - accuracy: 0.6729 - val_loss: 0.6521 - val_accuracy: 0.6420\n",
            "Epoch 19/50\n",
            "8/8 [==============================] - 9s 1s/step - loss: 0.5986 - accuracy: 0.6807 - val_loss: 0.6756 - val_accuracy: 0.5830\n",
            "Epoch 20/50\n",
            "8/8 [==============================] - 9s 1s/step - loss: 0.5720 - accuracy: 0.6895 - val_loss: 0.6811 - val_accuracy: 0.6420\n",
            "Epoch 21/50\n",
            "8/8 [==============================] - 9s 1s/step - loss: 0.6071 - accuracy: 0.6906 - val_loss: 0.6498 - val_accuracy: 0.6470\n",
            "Epoch 22/50\n",
            "8/8 [==============================] - 9s 1s/step - loss: 0.4962 - accuracy: 0.7480 - val_loss: 0.6751 - val_accuracy: 0.6620\n",
            "Epoch 23/50\n",
            "8/8 [==============================] - 9s 1s/step - loss: 0.6560 - accuracy: 0.6885 - val_loss: 0.6189 - val_accuracy: 0.6660\n",
            "Epoch 24/50\n",
            "8/8 [==============================] - 9s 1s/step - loss: 0.4769 - accuracy: 0.7656 - val_loss: 0.6959 - val_accuracy: 0.6490\n",
            "Epoch 25/50\n",
            "8/8 [==============================] - 9s 1s/step - loss: 0.4204 - accuracy: 0.7949 - val_loss: 0.7242 - val_accuracy: 0.6660\n",
            "Epoch 26/50\n",
            "8/8 [==============================] - 9s 1s/step - loss: 0.4499 - accuracy: 0.8008 - val_loss: 0.6785 - val_accuracy: 0.6610\n",
            "Epoch 27/50\n",
            "8/8 [==============================] - 9s 1s/step - loss: 0.4197 - accuracy: 0.8064 - val_loss: 0.6946 - val_accuracy: 0.6710\n",
            "Epoch 28/50\n",
            "8/8 [==============================] - 9s 1s/step - loss: 0.3740 - accuracy: 0.8289 - val_loss: 0.7716 - val_accuracy: 0.6230\n",
            "Epoch 29/50\n",
            "8/8 [==============================] - 9s 1s/step - loss: 0.3024 - accuracy: 0.8643 - val_loss: 0.8298 - val_accuracy: 0.6990\n",
            "Epoch 30/50\n",
            "8/8 [==============================] - 9s 1s/step - loss: 1.3696 - accuracy: 0.7357 - val_loss: 0.6840 - val_accuracy: 0.6510\n",
            "Epoch 31/50\n",
            "8/8 [==============================] - 9s 1s/step - loss: 0.3460 - accuracy: 0.8760 - val_loss: 0.7696 - val_accuracy: 0.6940\n",
            "Epoch 32/50\n",
            "8/8 [==============================] - 9s 1s/step - loss: 0.2857 - accuracy: 0.8781 - val_loss: 0.7704 - val_accuracy: 0.6810\n",
            "Epoch 33/50\n",
            "8/8 [==============================] - 11s 2s/step - loss: 0.1969 - accuracy: 0.9191 - val_loss: 0.9051 - val_accuracy: 0.6750\n",
            "Epoch 34/50\n",
            "8/8 [==============================] - 9s 1s/step - loss: 0.1990 - accuracy: 0.9189 - val_loss: 0.9799 - val_accuracy: 0.6910\n",
            "Epoch 35/50\n",
            "8/8 [==============================] - 9s 1s/step - loss: 0.2809 - accuracy: 0.9023 - val_loss: 0.9242 - val_accuracy: 0.6750\n",
            "Epoch 36/50\n",
            "8/8 [==============================] - 9s 1s/step - loss: 0.1560 - accuracy: 0.9424 - val_loss: 0.9982 - val_accuracy: 0.6740\n",
            "Epoch 37/50\n",
            "8/8 [==============================] - 9s 1s/step - loss: 0.2403 - accuracy: 0.9068 - val_loss: 1.1378 - val_accuracy: 0.6050\n",
            "Epoch 38/50\n",
            "8/8 [==============================] - 9s 1s/step - loss: 0.1528 - accuracy: 0.9404 - val_loss: 1.2085 - val_accuracy: 0.6950\n",
            "Epoch 39/50\n",
            "8/8 [==============================] - 9s 1s/step - loss: 0.3356 - accuracy: 0.8701 - val_loss: 0.8958 - val_accuracy: 0.6720\n",
            "Epoch 40/50\n",
            "8/8 [==============================] - 9s 1s/step - loss: 0.1016 - accuracy: 0.9688 - val_loss: 1.3316 - val_accuracy: 0.6780\n",
            "Epoch 41/50\n",
            "8/8 [==============================] - 9s 1s/step - loss: 0.0703 - accuracy: 0.9754 - val_loss: 1.2264 - val_accuracy: 0.6700\n",
            "Epoch 42/50\n",
            "8/8 [==============================] - 9s 1s/step - loss: 0.0398 - accuracy: 0.9893 - val_loss: 1.8019 - val_accuracy: 0.6410\n",
            "Epoch 43/50\n",
            "8/8 [==============================] - 9s 1s/step - loss: 0.0427 - accuracy: 0.9836 - val_loss: 1.7259 - val_accuracy: 0.6740\n",
            "Epoch 44/50\n",
            "8/8 [==============================] - 9s 1s/step - loss: 0.8335 - accuracy: 0.8525 - val_loss: 1.1285 - val_accuracy: 0.6500\n",
            "Epoch 45/50\n",
            "8/8 [==============================] - 9s 1s/step - loss: 0.1043 - accuracy: 0.9713 - val_loss: 1.3081 - val_accuracy: 0.6710\n",
            "Epoch 46/50\n",
            "8/8 [==============================] - 9s 1s/step - loss: 0.0425 - accuracy: 0.9902 - val_loss: 1.5041 - val_accuracy: 0.6720\n",
            "Epoch 47/50\n",
            "8/8 [==============================] - 9s 1s/step - loss: 0.0355 - accuracy: 0.9912 - val_loss: 1.8422 - val_accuracy: 0.6680\n",
            "Epoch 48/50\n",
            "8/8 [==============================] - 9s 1s/step - loss: 0.0073 - accuracy: 1.0000 - val_loss: 1.9924 - val_accuracy: 0.6810\n",
            "Epoch 49/50\n",
            "8/8 [==============================] - 9s 1s/step - loss: 0.0097 - accuracy: 0.9961 - val_loss: 2.0263 - val_accuracy: 0.6690\n",
            "Epoch 50/50\n",
            "8/8 [==============================] - 9s 1s/step - loss: 1.2032 - accuracy: 0.8672 - val_loss: 6.4741 - val_accuracy: 0.5520\n"
          ]
        }
      ]
    },
    {
      "cell_type": "code",
      "source": [
        "import numpy as np\n",
        "from google.colab import files\n",
        "from tensorflow.keras.utils import load_img , img_to_array\n",
        "\n",
        "#used for uploading the file we want to predict\n",
        "uploading_file = files.upload()\n",
        "\n",
        "for fn in uploading_file:\n",
        "  path = 'gdrive/MyDrive/' + fn\n",
        "  image = load_img(path , target_size=(300,300))\n",
        "  x = img_to_array(image)\n",
        "  x = x/225\n",
        "  x = np.expand_dims(x , axis=0)\n",
        "\n",
        "  images = np.vstack([x])\n",
        "  pred_res = model.predict(images , batch_size=10)\n",
        "  print(pred_res[0])\n",
        "  if pred_res[0]>0.5:\n",
        "    print(fn + \" is a cat\")\n",
        "  else:\n",
        "    print(fn + \" is a dog\")"
      ],
      "metadata": {
        "colab": {
          "base_uri": "https://localhost:8080/",
          "height": 128
        },
        "id": "xLXQqYCmvSvT",
        "outputId": "340f92f6-ffb3-40ad-d287-e9801db3614c"
      },
      "execution_count": null,
      "outputs": [
        {
          "output_type": "display_data",
          "data": {
            "text/plain": [
              "<IPython.core.display.HTML object>"
            ],
            "text/html": [
              "\n",
              "     <input type=\"file\" id=\"files-92d9e1ac-e4a4-408d-99e4-952eb8cf6bf5\" name=\"files[]\" multiple disabled\n",
              "        style=\"border:none\" />\n",
              "     <output id=\"result-92d9e1ac-e4a4-408d-99e4-952eb8cf6bf5\">\n",
              "      Upload widget is only available when the cell has been executed in the\n",
              "      current browser session. Please rerun this cell to enable.\n",
              "      </output>\n",
              "      <script>// Copyright 2017 Google LLC\n",
              "//\n",
              "// Licensed under the Apache License, Version 2.0 (the \"License\");\n",
              "// you may not use this file except in compliance with the License.\n",
              "// You may obtain a copy of the License at\n",
              "//\n",
              "//      http://www.apache.org/licenses/LICENSE-2.0\n",
              "//\n",
              "// Unless required by applicable law or agreed to in writing, software\n",
              "// distributed under the License is distributed on an \"AS IS\" BASIS,\n",
              "// WITHOUT WARRANTIES OR CONDITIONS OF ANY KIND, either express or implied.\n",
              "// See the License for the specific language governing permissions and\n",
              "// limitations under the License.\n",
              "\n",
              "/**\n",
              " * @fileoverview Helpers for google.colab Python module.\n",
              " */\n",
              "(function(scope) {\n",
              "function span(text, styleAttributes = {}) {\n",
              "  const element = document.createElement('span');\n",
              "  element.textContent = text;\n",
              "  for (const key of Object.keys(styleAttributes)) {\n",
              "    element.style[key] = styleAttributes[key];\n",
              "  }\n",
              "  return element;\n",
              "}\n",
              "\n",
              "// Max number of bytes which will be uploaded at a time.\n",
              "const MAX_PAYLOAD_SIZE = 100 * 1024;\n",
              "\n",
              "function _uploadFiles(inputId, outputId) {\n",
              "  const steps = uploadFilesStep(inputId, outputId);\n",
              "  const outputElement = document.getElementById(outputId);\n",
              "  // Cache steps on the outputElement to make it available for the next call\n",
              "  // to uploadFilesContinue from Python.\n",
              "  outputElement.steps = steps;\n",
              "\n",
              "  return _uploadFilesContinue(outputId);\n",
              "}\n",
              "\n",
              "// This is roughly an async generator (not supported in the browser yet),\n",
              "// where there are multiple asynchronous steps and the Python side is going\n",
              "// to poll for completion of each step.\n",
              "// This uses a Promise to block the python side on completion of each step,\n",
              "// then passes the result of the previous step as the input to the next step.\n",
              "function _uploadFilesContinue(outputId) {\n",
              "  const outputElement = document.getElementById(outputId);\n",
              "  const steps = outputElement.steps;\n",
              "\n",
              "  const next = steps.next(outputElement.lastPromiseValue);\n",
              "  return Promise.resolve(next.value.promise).then((value) => {\n",
              "    // Cache the last promise value to make it available to the next\n",
              "    // step of the generator.\n",
              "    outputElement.lastPromiseValue = value;\n",
              "    return next.value.response;\n",
              "  });\n",
              "}\n",
              "\n",
              "/**\n",
              " * Generator function which is called between each async step of the upload\n",
              " * process.\n",
              " * @param {string} inputId Element ID of the input file picker element.\n",
              " * @param {string} outputId Element ID of the output display.\n",
              " * @return {!Iterable<!Object>} Iterable of next steps.\n",
              " */\n",
              "function* uploadFilesStep(inputId, outputId) {\n",
              "  const inputElement = document.getElementById(inputId);\n",
              "  inputElement.disabled = false;\n",
              "\n",
              "  const outputElement = document.getElementById(outputId);\n",
              "  outputElement.innerHTML = '';\n",
              "\n",
              "  const pickedPromise = new Promise((resolve) => {\n",
              "    inputElement.addEventListener('change', (e) => {\n",
              "      resolve(e.target.files);\n",
              "    });\n",
              "  });\n",
              "\n",
              "  const cancel = document.createElement('button');\n",
              "  inputElement.parentElement.appendChild(cancel);\n",
              "  cancel.textContent = 'Cancel upload';\n",
              "  const cancelPromise = new Promise((resolve) => {\n",
              "    cancel.onclick = () => {\n",
              "      resolve(null);\n",
              "    };\n",
              "  });\n",
              "\n",
              "  // Wait for the user to pick the files.\n",
              "  const files = yield {\n",
              "    promise: Promise.race([pickedPromise, cancelPromise]),\n",
              "    response: {\n",
              "      action: 'starting',\n",
              "    }\n",
              "  };\n",
              "\n",
              "  cancel.remove();\n",
              "\n",
              "  // Disable the input element since further picks are not allowed.\n",
              "  inputElement.disabled = true;\n",
              "\n",
              "  if (!files) {\n",
              "    return {\n",
              "      response: {\n",
              "        action: 'complete',\n",
              "      }\n",
              "    };\n",
              "  }\n",
              "\n",
              "  for (const file of files) {\n",
              "    const li = document.createElement('li');\n",
              "    li.append(span(file.name, {fontWeight: 'bold'}));\n",
              "    li.append(span(\n",
              "        `(${file.type || 'n/a'}) - ${file.size} bytes, ` +\n",
              "        `last modified: ${\n",
              "            file.lastModifiedDate ? file.lastModifiedDate.toLocaleDateString() :\n",
              "                                    'n/a'} - `));\n",
              "    const percent = span('0% done');\n",
              "    li.appendChild(percent);\n",
              "\n",
              "    outputElement.appendChild(li);\n",
              "\n",
              "    const fileDataPromise = new Promise((resolve) => {\n",
              "      const reader = new FileReader();\n",
              "      reader.onload = (e) => {\n",
              "        resolve(e.target.result);\n",
              "      };\n",
              "      reader.readAsArrayBuffer(file);\n",
              "    });\n",
              "    // Wait for the data to be ready.\n",
              "    let fileData = yield {\n",
              "      promise: fileDataPromise,\n",
              "      response: {\n",
              "        action: 'continue',\n",
              "      }\n",
              "    };\n",
              "\n",
              "    // Use a chunked sending to avoid message size limits. See b/62115660.\n",
              "    let position = 0;\n",
              "    do {\n",
              "      const length = Math.min(fileData.byteLength - position, MAX_PAYLOAD_SIZE);\n",
              "      const chunk = new Uint8Array(fileData, position, length);\n",
              "      position += length;\n",
              "\n",
              "      const base64 = btoa(String.fromCharCode.apply(null, chunk));\n",
              "      yield {\n",
              "        response: {\n",
              "          action: 'append',\n",
              "          file: file.name,\n",
              "          data: base64,\n",
              "        },\n",
              "      };\n",
              "\n",
              "      let percentDone = fileData.byteLength === 0 ?\n",
              "          100 :\n",
              "          Math.round((position / fileData.byteLength) * 100);\n",
              "      percent.textContent = `${percentDone}% done`;\n",
              "\n",
              "    } while (position < fileData.byteLength);\n",
              "  }\n",
              "\n",
              "  // All done.\n",
              "  yield {\n",
              "    response: {\n",
              "      action: 'complete',\n",
              "    }\n",
              "  };\n",
              "}\n",
              "\n",
              "scope.google = scope.google || {};\n",
              "scope.google.colab = scope.google.colab || {};\n",
              "scope.google.colab._files = {\n",
              "  _uploadFiles,\n",
              "  _uploadFilesContinue,\n",
              "};\n",
              "})(self);\n",
              "</script> "
            ]
          },
          "metadata": {}
        },
        {
          "output_type": "stream",
          "name": "stdout",
          "text": [
            "Saving golden_puppy_dog_pictures.jpg to golden_puppy_dog_pictures.jpg\n",
            "1/1 [==============================] - 0s 242ms/step\n",
            "[0.23347393]\n",
            "golden_puppy_dog_pictures.jpg is a dog\n"
          ]
        }
      ]
    },
    {
      "cell_type": "markdown",
      "source": [
        "### Checking if our model is overfitting or not"
      ],
      "metadata": {
        "id": "u7XztM-O-uym"
      }
    },
    {
      "cell_type": "code",
      "source": [
        "#storing every accuracy and validation accuracy value in a list\n",
        "#history - this funtion stores the value of acc , val_acc\n",
        "acc = model_fiting.history[\"accuracy\"]\n",
        "validation_acc = model_fiting.history[\"val_accuracy\"]\n",
        "print(acc)\n",
        "print(validation_acc)"
      ],
      "metadata": {
        "id": "oOT6Q6Hm4lxd",
        "colab": {
          "base_uri": "https://localhost:8080/"
        },
        "outputId": "15f8bada-bf1d-4f97-89bb-9a66c8845cf2"
      },
      "execution_count": null,
      "outputs": [
        {
          "output_type": "stream",
          "name": "stdout",
          "text": [
            "[0.48046875, 0.4921875, 0.5126953125, 0.5020492076873779, 0.5546875, 0.5532786846160889, 0.5778688788414001, 0.5556640625, 0.5078125, 0.5810546875, 0.5266393423080444, 0.5553278923034668, 0.5947265625, 0.5932376980781555, 0.5727459192276001, 0.6220703125, 0.6396484375, 0.6728515625, 0.6806640625, 0.689453125, 0.6905737519264221, 0.748046875, 0.688524603843689, 0.765625, 0.794921875, 0.80078125, 0.806352436542511, 0.8288934230804443, 0.8642578125, 0.7356557250022888, 0.876024603843689, 0.8780737519264221, 0.9190573692321777, 0.9189453125, 0.90234375, 0.9423828125, 0.9067623019218445, 0.9404296875, 0.8701171875, 0.96875, 0.9754098653793335, 0.9892578125, 0.9836065769195557, 0.8524590134620667, 0.9713114500045776, 0.990234375, 0.9912109375, 1.0, 0.99609375, 0.8671875]\n",
            "[0.5, 0.5059999823570251, 0.5, 0.5, 0.5, 0.5, 0.5149999856948853, 0.5, 0.5509999990463257, 0.5, 0.515999972820282, 0.6069999933242798, 0.5040000081062317, 0.527999997138977, 0.5740000009536743, 0.6119999885559082, 0.5329999923706055, 0.6420000195503235, 0.5830000042915344, 0.6420000195503235, 0.6470000147819519, 0.6620000004768372, 0.6660000085830688, 0.6489999890327454, 0.6660000085830688, 0.6610000133514404, 0.6710000038146973, 0.6230000257492065, 0.6990000009536743, 0.6510000228881836, 0.6940000057220459, 0.6809999942779541, 0.675000011920929, 0.6909999847412109, 0.675000011920929, 0.6740000247955322, 0.6050000190734863, 0.6949999928474426, 0.671999990940094, 0.6779999732971191, 0.6700000166893005, 0.640999972820282, 0.6740000247955322, 0.6499999761581421, 0.6710000038146973, 0.671999990940094, 0.6679999828338623, 0.6809999942779541, 0.6690000295639038, 0.5519999861717224]\n"
          ]
        }
      ]
    },
    {
      "cell_type": "code",
      "source": [
        "\n",
        "import matplotlib.pyplot as plt\n",
        "epochs=range(len(acc))\n",
        "plt.plot(epochs ,acc )\n",
        "plt.plot(epochs, validation_acc)\n",
        "plt.show()"
      ],
      "metadata": {
        "id": "RaYlxYf7VxUl",
        "colab": {
          "base_uri": "https://localhost:8080/",
          "height": 265
        },
        "outputId": "1485876e-19e8-4241-9a03-bcf42b056c65"
      },
      "execution_count": null,
      "outputs": [
        {
          "output_type": "display_data",
          "data": {
            "text/plain": [
              "<Figure size 432x288 with 1 Axes>"
            ],
            "image/png": "[encoded data removed]"
          },
          "metadata": {
            "needs_background": "light"
          }
        }
      ]
    },
    {
      "cell_type": "markdown",
      "source": [
        "Since , validation set is stoping at approx 0.70 accuracy and training data is touching 1 accurancy we can eaisly see that our model is overfitting \n",
        "One reason is that our training data is less.\n",
        "Second reason is that we are not using agumentation(i.e. rotating and moving image size so that our model can train on even rotated images like sleeping cat )"
      ],
      "metadata": {
        "id": "McERbDVH_RwR"
      }
    },
    {
      "cell_type": "markdown",
      "source": [
        "# Using Agumentation\n",
        "with augumentation our data size increases as every images are rotated and moved for better training of model\n",
        "\n",
        "These rotated and moved images do not get stored in our disk we it is temporarily stored in memory and used during training of model."
      ],
      "metadata": {
        "id": "wzlYqUkZGfbk"
      }
    },
    {
      "cell_type": "code",
      "source": [
        "from tensorflow.keras.preprocessing.image import ImageDataGenerator\n",
        "\n",
        "train_gen = ImageDataGenerator(\n",
        "    rescale = 1/255,\n",
        "    rotation_range=40,#rotates the image in 0 to 40 degree range randomly\n",
        "    width_shift_range=0.2,\n",
        "    height_shift_range=0.2,\n",
        "    shear_range=0.2, \n",
        "    zoom_range=0.2,\n",
        "    horizontal_flip=True,\n",
        "    fill_mode='nearest'# lost pixels are replaced by the nearest pixels\n",
        ")\n",
        "\n",
        "train_data = train_gen.flow_from_directory( \n",
        "    \"tmp/cats_and_dogs_filtered/train\", \n",
        "    target_size = (300 ,300) , \n",
        "    batch_size = 128 , \n",
        "    class_mode = \"binary\" \n",
        "\n",
        ")\n",
        "\n",
        "#for validation set \n",
        "val_gen = ImageDataGenerator(rescale = 1/255)\n",
        "\n",
        "val_data = val_gen.flow_from_directory( \n",
        "    \"tmp/cats_and_dogs_filtered/validation\",  \n",
        "    target_size = (300 ,300) , \n",
        "    batch_size = 10 , \n",
        "    class_mode = \"binary\"\n",
        ")"
      ],
      "metadata": {
        "colab": {
          "base_uri": "https://localhost:8080/"
        },
        "id": "_5F7eR8-HW_X",
        "outputId": "c12f062c-04dc-420f-b419-f7a3dbb7fff1"
      },
      "execution_count": null,
      "outputs": [
        {
          "output_type": "stream",
          "name": "stdout",
          "text": [
            "Found 2000 images belonging to 2 classes.\n",
            "Found 1000 images belonging to 2 classes.\n"
          ]
        }
      ]
    },
    {
      "cell_type": "code",
      "source": [
        "# now training the model\n",
        "\n",
        "model_fiting = model.fit(train_data , steps_per_epoch=8,epochs=70 ,validation_data=val_data, verbose=1)"
      ],
      "metadata": {
        "colab": {
          "base_uri": "https://localhost:8080/"
        },
        "id": "CHr_aVK-IEtT",
        "outputId": "623a7576-6caa-465f-fd0f-90b2b0cf71b8"
      },
      "execution_count": null,
      "outputs": [
        {
          "output_type": "stream",
          "name": "stdout",
          "text": [
            "Epoch 1/70\n",
            "8/8 [==============================] - 26s 3s/step - loss: 1.4974 - accuracy: 0.6117 - val_loss: 0.7984 - val_accuracy: 0.6080\n",
            "Epoch 2/70\n",
            "8/8 [==============================] - 25s 3s/step - loss: 0.7832 - accuracy: 0.6066 - val_loss: 0.6500 - val_accuracy: 0.6410\n",
            "Epoch 3/70\n",
            "8/8 [==============================] - 27s 3s/step - loss: 0.6594 - accuracy: 0.6172 - val_loss: 0.6035 - val_accuracy: 0.6820\n",
            "Epoch 4/70\n",
            "8/8 [==============================] - 25s 3s/step - loss: 0.6314 - accuracy: 0.6619 - val_loss: 0.6150 - val_accuracy: 0.6120\n",
            "Epoch 5/70\n",
            "8/8 [==============================] - 26s 3s/step - loss: 0.6280 - accuracy: 0.6377 - val_loss: 0.5876 - val_accuracy: 0.7030\n",
            "Epoch 6/70\n",
            "8/8 [==============================] - 26s 3s/step - loss: 0.6114 - accuracy: 0.6777 - val_loss: 0.5577 - val_accuracy: 0.7270\n",
            "Epoch 7/70\n",
            "8/8 [==============================] - 25s 3s/step - loss: 0.6171 - accuracy: 0.6619 - val_loss: 0.5909 - val_accuracy: 0.6710\n",
            "Epoch 8/70\n",
            "8/8 [==============================] - 26s 3s/step - loss: 0.5935 - accuracy: 0.6777 - val_loss: 0.5316 - val_accuracy: 0.7530\n",
            "Epoch 9/70\n",
            "8/8 [==============================] - 26s 3s/step - loss: 0.6840 - accuracy: 0.6514 - val_loss: 0.6214 - val_accuracy: 0.6280\n",
            "Epoch 10/70\n",
            "8/8 [==============================] - 25s 3s/step - loss: 0.6662 - accuracy: 0.6629 - val_loss: 0.6272 - val_accuracy: 0.6650\n",
            "Epoch 11/70\n",
            "8/8 [==============================] - 26s 3s/step - loss: 0.6140 - accuracy: 0.6562 - val_loss: 0.5600 - val_accuracy: 0.7170\n",
            "Epoch 12/70\n",
            "8/8 [==============================] - 25s 3s/step - loss: 0.6183 - accuracy: 0.6691 - val_loss: 0.5708 - val_accuracy: 0.7170\n",
            "Epoch 13/70\n",
            "8/8 [==============================] - 26s 3s/step - loss: 0.5877 - accuracy: 0.7121 - val_loss: 0.6165 - val_accuracy: 0.6430\n",
            "Epoch 14/70\n",
            "8/8 [==============================] - 25s 3s/step - loss: 0.6455 - accuracy: 0.6506 - val_loss: 0.5761 - val_accuracy: 0.6950\n",
            "Epoch 15/70\n",
            "8/8 [==============================] - 27s 3s/step - loss: 0.5869 - accuracy: 0.6738 - val_loss: 0.5380 - val_accuracy: 0.7470\n",
            "Epoch 16/70\n",
            "8/8 [==============================] - 25s 3s/step - loss: 0.5895 - accuracy: 0.6936 - val_loss: 0.5570 - val_accuracy: 0.7060\n",
            "Epoch 17/70\n",
            "8/8 [==============================] - 25s 3s/step - loss: 0.5804 - accuracy: 0.6875 - val_loss: 0.5647 - val_accuracy: 0.7260\n",
            "Epoch 18/70\n",
            "8/8 [==============================] - 26s 3s/step - loss: 0.5960 - accuracy: 0.6783 - val_loss: 0.5269 - val_accuracy: 0.7350\n",
            "Epoch 19/70\n",
            "8/8 [==============================] - 26s 3s/step - loss: 0.6033 - accuracy: 0.6582 - val_loss: 0.5464 - val_accuracy: 0.7550\n",
            "Epoch 20/70\n",
            "8/8 [==============================] - 29s 4s/step - loss: 0.5523 - accuracy: 0.7080 - val_loss: 0.5571 - val_accuracy: 0.7280\n",
            "Epoch 21/70\n",
            "8/8 [==============================] - 25s 3s/step - loss: 0.5869 - accuracy: 0.6855 - val_loss: 0.5171 - val_accuracy: 0.7460\n",
            "Epoch 22/70\n",
            "8/8 [==============================] - 25s 3s/step - loss: 0.5752 - accuracy: 0.6926 - val_loss: 0.5054 - val_accuracy: 0.7580\n",
            "Epoch 23/70\n",
            "8/8 [==============================] - 26s 3s/step - loss: 0.6986 - accuracy: 0.6537 - val_loss: 0.5505 - val_accuracy: 0.7350\n",
            "Epoch 24/70\n",
            "8/8 [==============================] - 26s 3s/step - loss: 0.6393 - accuracy: 0.6557 - val_loss: 0.5823 - val_accuracy: 0.7040\n",
            "Epoch 25/70\n",
            "8/8 [==============================] - 27s 3s/step - loss: 0.5413 - accuracy: 0.7197 - val_loss: 0.6451 - val_accuracy: 0.7050\n",
            "Epoch 26/70\n",
            "8/8 [==============================] - 26s 3s/step - loss: 0.5852 - accuracy: 0.6926 - val_loss: 0.5140 - val_accuracy: 0.7440\n",
            "Epoch 27/70\n",
            "8/8 [==============================] - 27s 3s/step - loss: 0.5440 - accuracy: 0.7363 - val_loss: 0.5430 - val_accuracy: 0.7520\n",
            "Epoch 28/70\n",
            "8/8 [==============================] - 29s 4s/step - loss: 0.5626 - accuracy: 0.7059 - val_loss: 0.5445 - val_accuracy: 0.7290\n",
            "Epoch 29/70\n",
            "8/8 [==============================] - 27s 3s/step - loss: 0.5448 - accuracy: 0.7227 - val_loss: 0.5308 - val_accuracy: 0.7390\n",
            "Epoch 30/70\n",
            "8/8 [==============================] - 25s 3s/step - loss: 0.6096 - accuracy: 0.6875 - val_loss: 0.5466 - val_accuracy: 0.7200\n",
            "Epoch 31/70\n",
            "8/8 [==============================] - 26s 3s/step - loss: 0.5477 - accuracy: 0.7314 - val_loss: 0.6222 - val_accuracy: 0.6480\n",
            "Epoch 32/70\n",
            "8/8 [==============================] - 25s 3s/step - loss: 0.5569 - accuracy: 0.7275 - val_loss: 0.5184 - val_accuracy: 0.7570\n",
            "Epoch 33/70\n",
            "8/8 [==============================] - 25s 3s/step - loss: 0.5736 - accuracy: 0.7059 - val_loss: 0.5242 - val_accuracy: 0.7430\n",
            "Epoch 34/70\n",
            "8/8 [==============================] - 25s 3s/step - loss: 0.5438 - accuracy: 0.7223 - val_loss: 0.5304 - val_accuracy: 0.7440\n",
            "Epoch 35/70\n",
            "8/8 [==============================] - 29s 4s/step - loss: 0.5391 - accuracy: 0.7346 - val_loss: 0.5126 - val_accuracy: 0.7650\n",
            "Epoch 36/70\n",
            "8/8 [==============================] - 26s 3s/step - loss: 0.5271 - accuracy: 0.7334 - val_loss: 0.4960 - val_accuracy: 0.7650\n",
            "Epoch 37/70\n",
            "8/8 [==============================] - 30s 4s/step - loss: 0.5705 - accuracy: 0.6967 - val_loss: 0.4971 - val_accuracy: 0.7680\n",
            "Epoch 38/70\n",
            "8/8 [==============================] - 27s 3s/step - loss: 0.5310 - accuracy: 0.7275 - val_loss: 0.5056 - val_accuracy: 0.7610\n",
            "Epoch 39/70\n",
            "8/8 [==============================] - 27s 3s/step - loss: 0.5909 - accuracy: 0.7021 - val_loss: 0.5488 - val_accuracy: 0.7260\n",
            "Epoch 40/70\n",
            "8/8 [==============================] - 26s 3s/step - loss: 0.5293 - accuracy: 0.7295 - val_loss: 0.5539 - val_accuracy: 0.7200\n",
            "Epoch 41/70\n",
            "8/8 [==============================] - 26s 3s/step - loss: 0.5741 - accuracy: 0.7090 - val_loss: 0.5376 - val_accuracy: 0.7510\n",
            "Epoch 42/70\n",
            "8/8 [==============================] - 29s 4s/step - loss: 0.5238 - accuracy: 0.7367 - val_loss: 0.5092 - val_accuracy: 0.7480\n",
            "Epoch 43/70\n",
            "8/8 [==============================] - 26s 3s/step - loss: 0.5020 - accuracy: 0.7568 - val_loss: 0.5714 - val_accuracy: 0.7020\n",
            "Epoch 44/70\n",
            "8/8 [==============================] - 26s 3s/step - loss: 0.5451 - accuracy: 0.7373 - val_loss: 0.5215 - val_accuracy: 0.7630\n",
            "Epoch 45/70\n",
            "8/8 [==============================] - 27s 3s/step - loss: 0.5692 - accuracy: 0.7061 - val_loss: 0.4924 - val_accuracy: 0.7790\n",
            "Epoch 46/70\n",
            "8/8 [==============================] - 27s 3s/step - loss: 0.5876 - accuracy: 0.7158 - val_loss: 0.5131 - val_accuracy: 0.7520\n",
            "Epoch 47/70\n",
            "8/8 [==============================] - 27s 3s/step - loss: 0.5278 - accuracy: 0.7520 - val_loss: 0.4772 - val_accuracy: 0.7690\n",
            "Epoch 48/70\n",
            "8/8 [==============================] - 30s 4s/step - loss: 0.8247 - accuracy: 0.6387 - val_loss: 0.5499 - val_accuracy: 0.7050\n",
            "Epoch 49/70\n",
            "8/8 [==============================] - 26s 3s/step - loss: 0.5336 - accuracy: 0.7305 - val_loss: 0.4973 - val_accuracy: 0.7620\n",
            "Epoch 50/70\n",
            "8/8 [==============================] - 27s 3s/step - loss: 0.4770 - accuracy: 0.7695 - val_loss: 0.5311 - val_accuracy: 0.7630\n",
            "Epoch 51/70\n",
            "8/8 [==============================] - 26s 3s/step - loss: 0.5218 - accuracy: 0.7264 - val_loss: 0.5631 - val_accuracy: 0.6890\n"
          ]
        }
      ]
    },
    {
      "cell_type": "code",
      "source": [
        "import numpy as np\n",
        "from google.colab import files\n",
        "from tensorflow.keras.utils import load_img , img_to_array\n",
        "\n",
        "#used for uploading the file we want to predict\n",
        "uploading_file = files.upload()\n",
        "\n",
        "for fn in uploading_file:\n",
        "  path = 'gdrive/MyDrive/' + fn\n",
        "  image = load_img(path , target_size=(300,300))\n",
        "  x = img_to_array(image)\n",
        "  x = x/225\n",
        "  x = np.expand_dims(x , axis=0)\n",
        "\n",
        "  images = np.vstack([x])\n",
        "  pred_res = model.predict(images , batch_size=10)\n",
        "  print(pred_res[0])\n",
        "  if pred_res[0]>0.5:\n",
        "    print(fn + \" is a cat\")\n",
        "  else:\n",
        "    print(fn + \" is a dog\")"
      ],
      "metadata": {
        "colab": {
          "base_uri": "https://localhost:8080/",
          "height": 219
        },
        "id": "kY0qI1dsIEli",
        "outputId": "ac7e07a2-0155-4aaf-abb1-ca3956f5038a"
      },
      "execution_count": null,
      "outputs": [
        {
          "output_type": "display_data",
          "data": {
            "text/plain": [
              "<IPython.core.display.HTML object>"
            ],
            "text/html": [
              "\n",
              "     <input type=\"file\" id=\"files-0bd0d815-ce24-4bc1-bc9b-c856177a0c6a\" name=\"files[]\" multiple disabled\n",
              "        style=\"border:none\" />\n",
              "     <output id=\"result-0bd0d815-ce24-4bc1-bc9b-c856177a0c6a\">\n",
              "      Upload widget is only available when the cell has been executed in the\n",
              "      current browser session. Please rerun this cell to enable.\n",
              "      </output>\n",
              "      <script>// Copyright 2017 Google LLC\n",
              "//\n",
              "// Licensed under the Apache License, Version 2.0 (the \"License\");\n",
              "// you may not use this file except in compliance with the License.\n",
              "// You may obtain a copy of the License at\n",
              "//\n",
              "//      http://www.apache.org/licenses/LICENSE-2.0\n",
              "//\n",
              "// Unless required by applicable law or agreed to in writing, software\n",
              "// distributed under the License is distributed on an \"AS IS\" BASIS,\n",
              "// WITHOUT WARRANTIES OR CONDITIONS OF ANY KIND, either express or implied.\n",
              "// See the License for the specific language governing permissions and\n",
              "// limitations under the License.\n",
              "\n",
              "/**\n",
              " * @fileoverview Helpers for google.colab Python module.\n",
              " */\n",
              "(function(scope) {\n",
              "function span(text, styleAttributes = {}) {\n",
              "  const element = document.createElement('span');\n",
              "  element.textContent = text;\n",
              "  for (const key of Object.keys(styleAttributes)) {\n",
              "    element.style[key] = styleAttributes[key];\n",
              "  }\n",
              "  return element;\n",
              "}\n",
              "\n",
              "// Max number of bytes which will be uploaded at a time.\n",
              "const MAX_PAYLOAD_SIZE = 100 * 1024;\n",
              "\n",
              "function _uploadFiles(inputId, outputId) {\n",
              "  const steps = uploadFilesStep(inputId, outputId);\n",
              "  const outputElement = document.getElementById(outputId);\n",
              "  // Cache steps on the outputElement to make it available for the next call\n",
              "  // to uploadFilesContinue from Python.\n",
              "  outputElement.steps = steps;\n",
              "\n",
              "  return _uploadFilesContinue(outputId);\n",
              "}\n",
              "\n",
              "// This is roughly an async generator (not supported in the browser yet),\n",
              "// where there are multiple asynchronous steps and the Python side is going\n",
              "// to poll for completion of each step.\n",
              "// This uses a Promise to block the python side on completion of each step,\n",
              "// then passes the result of the previous step as the input to the next step.\n",
              "function _uploadFilesContinue(outputId) {\n",
              "  const outputElement = document.getElementById(outputId);\n",
              "  const steps = outputElement.steps;\n",
              "\n",
              "  const next = steps.next(outputElement.lastPromiseValue);\n",
              "  return Promise.resolve(next.value.promise).then((value) => {\n",
              "    // Cache the last promise value to make it available to the next\n",
              "    // step of the generator.\n",
              "    outputElement.lastPromiseValue = value;\n",
              "    return next.value.response;\n",
              "  });\n",
              "}\n",
              "\n",
              "/**\n",
              " * Generator function which is called between each async step of the upload\n",
              " * process.\n",
              " * @param {string} inputId Element ID of the input file picker element.\n",
              " * @param {string} outputId Element ID of the output display.\n",
              " * @return {!Iterable<!Object>} Iterable of next steps.\n",
              " */\n",
              "function* uploadFilesStep(inputId, outputId) {\n",
              "  const inputElement = document.getElementById(inputId);\n",
              "  inputElement.disabled = false;\n",
              "\n",
              "  const outputElement = document.getElementById(outputId);\n",
              "  outputElement.innerHTML = '';\n",
              "\n",
              "  const pickedPromise = new Promise((resolve) => {\n",
              "    inputElement.addEventListener('change', (e) => {\n",
              "      resolve(e.target.files);\n",
              "    });\n",
              "  });\n",
              "\n",
              "  const cancel = document.createElement('button');\n",
              "  inputElement.parentElement.appendChild(cancel);\n",
              "  cancel.textContent = 'Cancel upload';\n",
              "  const cancelPromise = new Promise((resolve) => {\n",
              "    cancel.onclick = () => {\n",
              "      resolve(null);\n",
              "    };\n",
              "  });\n",
              "\n",
              "  // Wait for the user to pick the files.\n",
              "  const files = yield {\n",
              "    promise: Promise.race([pickedPromise, cancelPromise]),\n",
              "    response: {\n",
              "      action: 'starting',\n",
              "    }\n",
              "  };\n",
              "\n",
              "  cancel.remove();\n",
              "\n",
              "  // Disable the input element since further picks are not allowed.\n",
              "  inputElement.disabled = true;\n",
              "\n",
              "  if (!files) {\n",
              "    return {\n",
              "      response: {\n",
              "        action: 'complete',\n",
              "      }\n",
              "    };\n",
              "  }\n",
              "\n",
              "  for (const file of files) {\n",
              "    const li = document.createElement('li');\n",
              "    li.append(span(file.name, {fontWeight: 'bold'}));\n",
              "    li.append(span(\n",
              "        `(${file.type || 'n/a'}) - ${file.size} bytes, ` +\n",
              "        `last modified: ${\n",
              "            file.lastModifiedDate ? file.lastModifiedDate.toLocaleDateString() :\n",
              "                                    'n/a'} - `));\n",
              "    const percent = span('0% done');\n",
              "    li.appendChild(percent);\n",
              "\n",
              "    outputElement.appendChild(li);\n",
              "\n",
              "    const fileDataPromise = new Promise((resolve) => {\n",
              "      const reader = new FileReader();\n",
              "      reader.onload = (e) => {\n",
              "        resolve(e.target.result);\n",
              "      };\n",
              "      reader.readAsArrayBuffer(file);\n",
              "    });\n",
              "    // Wait for the data to be ready.\n",
              "    let fileData = yield {\n",
              "      promise: fileDataPromise,\n",
              "      response: {\n",
              "        action: 'continue',\n",
              "      }\n",
              "    };\n",
              "\n",
              "    // Use a chunked sending to avoid message size limits. See b/62115660.\n",
              "    let position = 0;\n",
              "    do {\n",
              "      const length = Math.min(fileData.byteLength - position, MAX_PAYLOAD_SIZE);\n",
              "      const chunk = new Uint8Array(fileData, position, length);\n",
              "      position += length;\n",
              "\n",
              "      const base64 = btoa(String.fromCharCode.apply(null, chunk));\n",
              "      yield {\n",
              "        response: {\n",
              "          action: 'append',\n",
              "          file: file.name,\n",
              "          data: base64,\n",
              "        },\n",
              "      };\n",
              "\n",
              "      let percentDone = fileData.byteLength === 0 ?\n",
              "          100 :\n",
              "          Math.round((position / fileData.byteLength) * 100);\n",
              "      percent.textContent = `${percentDone}% done`;\n",
              "\n",
              "    } while (position < fileData.byteLength);\n",
              "  }\n",
              "\n",
              "  // All done.\n",
              "  yield {\n",
              "    response: {\n",
              "      action: 'complete',\n",
              "    }\n",
              "  };\n",
              "}\n",
              "\n",
              "scope.google = scope.google || {};\n",
              "scope.google.colab = scope.google.colab || {};\n",
              "scope.google.colab._files = {\n",
              "  _uploadFiles,\n",
              "  _uploadFilesContinue,\n",
              "};\n",
              "})(self);\n",
              "</script> "
            ]
          },
          "metadata": {}
        },
        {
          "output_type": "stream",
          "name": "stdout",
          "text": [
            "Saving istockphoto-1319763895-612x612.jpg to istockphoto-1319763895-612x612.jpg\n",
            "Saving pexels-helena-lopes-1996332.jpg to pexels-helena-lopes-1996332.jpg\n",
            "1/1 [==============================] - 0s 228ms/step\n",
            "[1.]\n",
            "istockphoto-1319763895-612x612.jpg is a human\n",
            "1/1 [==============================] - 0s 24ms/step\n",
            "[0.01732159]\n",
            "pexels-helena-lopes-1996332.jpg is a horse\n"
          ]
        }
      ]
    },
    {
      "cell_type": "code",
      "source": [
        "acc = model_fiting.history[\"accuracy\"]\n",
        "validation_acc = model_fiting.history[\"val_accuracy\"]\n",
        "print(acc)\n",
        "print(validation_acc)"
      ],
      "metadata": {
        "colab": {
          "base_uri": "https://localhost:8080/"
        },
        "id": "g7lgy0JVIEbi",
        "outputId": "5b25e9f0-aad1-4d5c-d33d-aae645cb1130"
      },
      "execution_count": null,
      "outputs": [
        {
          "output_type": "stream",
          "name": "stdout",
          "text": [
            "[0.494140625, 0.4969262182712555, 0.5266393423080444, 0.5458984375, 0.5146484375, 0.505859375, 0.5615234375, 0.5850409865379333, 0.5870901346206665, 0.5245901346206665, 0.5966796875, 0.5655737519264221, 0.5532786846160889, 0.5891393423080444, 0.5819672346115112, 0.5737704634666443, 0.615234375, 0.5986328125, 0.595703125, 0.618852436542511, 0.5947265625, 0.6513671875, 0.6171875, 0.6331967115402222, 0.6434426307678223, 0.6342213153839111, 0.69140625, 0.6618852615356445, 0.64453125, 0.607421875, 0.6875, 0.658203125, 0.6823770403862, 0.6591796875, 0.6484375, 0.6708984375, 0.6045082211494446, 0.6803278923034668, 0.6731557250022888, 0.6844262480735779, 0.7079917788505554, 0.693359375, 0.681640625, 0.6875, 0.6834016442298889, 0.6915983557701111, 0.7109375, 0.67578125, 0.703125, 0.67578125, 0.7059426307678223, 0.6854507923126221, 0.6946721076965332, 0.6977459192276001, 0.6796875, 0.6793032884597778, 0.701171875, 0.6967213153839111, 0.7213114500045776, 0.6895492076873779, 0.7373046875, 0.705078125, 0.7109375, 0.6875, 0.7254098653793335, 0.7177734375, 0.6997950673103333, 0.7373046875, 0.7236328125, 0.6905737519264221, 0.7284836173057556, 0.7353515625, 0.7356557250022888, 0.7325819730758667, 0.7172130942344666, 0.7254098653793335, 0.7192623019218445, 0.7448770403862, 0.7418032884597778, 0.775390625, 0.7233606576919556, 0.7254098653793335, 0.7356557250022888, 0.759765625, 0.73046875, 0.7315573692321777, 0.751953125, 0.7571721076965332, 0.7216796875, 0.756147563457489, 0.7216796875, 0.7899590134620667, 0.7099609375, 0.7890625, 0.748046875, 0.7602459192276001, 0.794921875, 0.7177734375, 0.7704917788505554, 0.7841796875]\n",
            "[0.5, 0.609000027179718, 0.515999972820282, 0.5149999856948853, 0.5090000033378601, 0.5, 0.5, 0.6380000114440918, 0.5040000081062317, 0.6069999933242798, 0.5070000290870667, 0.6669999957084656, 0.5559999942779541, 0.5649999976158142, 0.6650000214576721, 0.6510000228881836, 0.6370000243186951, 0.6539999842643738, 0.6470000147819519, 0.6930000185966492, 0.6700000166893005, 0.6460000276565552, 0.5429999828338623, 0.6539999842643738, 0.6850000023841858, 0.6470000147819519, 0.6449999809265137, 0.6740000247955322, 0.6290000081062317, 0.6740000247955322, 0.6140000224113464, 0.6480000019073486, 0.6919999718666077, 0.6850000023841858, 0.699999988079071, 0.5400000214576721, 0.6489999890327454, 0.7020000219345093, 0.6570000052452087, 0.718999981880188, 0.6710000038146973, 0.7239999771118164, 0.6840000152587891, 0.6909999847412109, 0.7260000109672546, 0.7149999737739563, 0.6959999799728394, 0.722000002861023, 0.6899999976158142, 0.7260000109672546, 0.7170000076293945, 0.7239999771118164, 0.6790000200271606, 0.6690000295639038, 0.6769999861717224, 0.675000011920929, 0.7250000238418579, 0.7200000286102295, 0.7289999723434448, 0.7269999980926514, 0.7329999804496765, 0.699999988079071, 0.7269999980926514, 0.7260000109672546, 0.6690000295639038, 0.7490000128746033, 0.7490000128746033, 0.753000020980835, 0.6990000009536743, 0.7080000042915344, 0.765999972820282, 0.7580000162124634, 0.7570000290870667, 0.7319999933242798, 0.7319999933242798, 0.7599999904632568, 0.7239999771118164, 0.7599999904632568, 0.7350000143051147, 0.7829999923706055, 0.7400000095367432, 0.7369999885559082, 0.7680000066757202, 0.7649999856948853, 0.7649999856948853, 0.753000020980835, 0.7360000014305115, 0.7609999775886536, 0.7049999833106995, 0.7670000195503235, 0.7689999938011169, 0.7289999723434448, 0.7620000243186951, 0.765999972820282, 0.7599999904632568, 0.800000011920929, 0.7200000286102295, 0.7319999933242798, 0.7649999856948853, 0.753000020980835]\n"
          ]
        }
      ]
    },
    {
      "cell_type": "code",
      "source": [
        "import matplotlib.pyplot as plt\n",
        "epochs=range(len(acc))\n",
        "plt.plot(epochs ,acc )\n",
        "plt.plot(epochs ,validation_acc )\n",
        "plt.show()"
      ],
      "metadata": {
        "colab": {
          "base_uri": "https://localhost:8080/",
          "height": 265
        },
        "id": "O0DGIj2LIPFo",
        "outputId": "21e2984e-a40b-4160-b03f-c7a780a4b023"
      },
      "execution_count": null,
      "outputs": [
        {
          "output_type": "display_data",
          "data": {
            "text/plain": [
              "<Figure size 432x288 with 1 Axes>"
            ],
            "image/png": "[encoded data removed]"
          },
          "metadata": {
            "needs_background": "light"
          }
        }
      ]
    },
    {
      "cell_type": "markdown",
      "source": [
        "From agumentation we can se that our model  is not much overfiting as it is gradually moving to highest accuracy along with the validation data.\n",
        "\n",
        "We can further use tranferlearning and dropouts to remove overfitting of the model\n"
      ],
      "metadata": {
        "id": "G2ExniE_26Hk"
      }
    },
    {
      "cell_type": "code",
      "source": [],
      "metadata": {
        "id": "Ae-eJNa920wc"
      },
      "execution_count": null,
      "outputs": []
    },
    {
      "cell_type": "code",
      "source": [],
      "metadata": {
        "id": "rI8Xt9aWtN1I"
      },
      "execution_count": null,
      "outputs": []
    },
    {
      "cell_type": "code",
      "source": [],
      "metadata": {
        "id": "xWrOi_vWtP0i"
      },
      "execution_count": null,
      "outputs": []
    }
  ]
}