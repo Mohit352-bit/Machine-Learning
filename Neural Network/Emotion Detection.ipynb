{
 "cells": [
  {
   "cell_type": "code",
   "execution_count": 1,
   "id": "627dd4ca",
   "metadata": {},
   "outputs": [],
   "source": [
    "import os"
   ]
  },
  {
   "cell_type": "code",
   "execution_count": 2,
   "id": "6aa37120",
   "metadata": {},
   "outputs": [
    {
     "data": {
      "text/plain": [
       "'C:\\\\Users\\\\mohit\\\\Downloads\\\\Compressed\\\\archive_2'"
      ]
     },
     "execution_count": 2,
     "metadata": {},
     "output_type": "execute_result"
    }
   ],
   "source": [
    "os.chdir('C:/Users/mohit/Downloads/Compressed/archive_2')\n",
    "dir = os.getcwd()\n",
    "dir"
   ]
  },
  {
   "cell_type": "code",
   "execution_count": 3,
   "id": "4aa7a652",
   "metadata": {},
   "outputs": [],
   "source": [
    "train_data = os.path.join('train')\n",
    "test_data = os.path.join('test')"
   ]
  },
  {
   "cell_type": "code",
   "execution_count": 7,
   "id": "d682ae16",
   "metadata": {},
   "outputs": [
    {
     "name": "stdout",
     "output_type": "stream",
     "text": [
      "['angry', 'disgusted', 'fearful']\n"
     ]
    }
   ],
   "source": [
    "files = os.listdir(train_data)\n",
    "print(files[:3])"
   ]
  },
  {
   "cell_type": "markdown",
   "id": "ba366ca6",
   "metadata": {},
   "source": [
    "### CNN model for training "
   ]
  },
  {
   "cell_type": "code",
   "execution_count": 10,
   "id": "141036fe",
   "metadata": {},
   "outputs": [],
   "source": [
    "import tensorflow as tf\n",
    "from tensorflow.keras.optimizers import RMSprop"
   ]
  },
  {
   "cell_type": "code",
   "execution_count": 28,
   "id": "7c1f2892",
   "metadata": {},
   "outputs": [],
   "source": [
    "model = tf.keras.models.Sequential([\n",
    "    tf.keras.layers.Conv2D(8, (3,3) , input_shape=(48,48,3) , activation='relu'),\n",
    "    tf.keras.layers.MaxPool2D(2,2),\n",
    "    tf.keras.layers.Conv2D(16, (3,3), activation='relu'),\n",
    "    tf.keras.layers.MaxPool2D(2,2),\n",
    "    tf.keras.layers.Conv2D(32, (3,3), activation='relu'),\n",
    "    tf.keras.layers.MaxPool2D(2,2),\n",
    "    tf.keras.layers.Dropout(0.2),\n",
    "    tf.keras.layers.Flatten(),\n",
    "    tf.keras.layers.Dense(512 , activation='relu'),\n",
    "    tf.keras.layers.Dropout(0.4),\n",
    "    tf.keras.layers.Dense(7 , activation='softmax')\n",
    "    \n",
    "])"
   ]
  },
  {
   "cell_type": "code",
   "execution_count": 29,
   "id": "ea51a2df",
   "metadata": {},
   "outputs": [
    {
     "name": "stdout",
     "output_type": "stream",
     "text": [
      "Model: \"sequential_2\"\n",
      "_________________________________________________________________\n",
      "Layer (type)                 Output Shape              Param #   \n",
      "=================================================================\n",
      "conv2d_5 (Conv2D)            (None, 46, 46, 8)         224       \n",
      "_________________________________________________________________\n",
      "max_pooling2d_5 (MaxPooling2 (None, 23, 23, 8)         0         \n",
      "_________________________________________________________________\n",
      "conv2d_6 (Conv2D)            (None, 21, 21, 16)        1168      \n",
      "_________________________________________________________________\n",
      "max_pooling2d_6 (MaxPooling2 (None, 10, 10, 16)        0         \n",
      "_________________________________________________________________\n",
      "conv2d_7 (Conv2D)            (None, 8, 8, 32)          4640      \n",
      "_________________________________________________________________\n",
      "max_pooling2d_7 (MaxPooling2 (None, 4, 4, 32)          0         \n",
      "_________________________________________________________________\n",
      "dropout_4 (Dropout)          (None, 4, 4, 32)          0         \n",
      "_________________________________________________________________\n",
      "flatten_2 (Flatten)          (None, 512)               0         \n",
      "_________________________________________________________________\n",
      "dense_4 (Dense)              (None, 512)               262656    \n",
      "_________________________________________________________________\n",
      "dropout_5 (Dropout)          (None, 512)               0         \n",
      "_________________________________________________________________\n",
      "dense_5 (Dense)              (None, 7)                 3591      \n",
      "=================================================================\n",
      "Total params: 272,279\n",
      "Trainable params: 272,279\n",
      "Non-trainable params: 0\n",
      "_________________________________________________________________\n"
     ]
    }
   ],
   "source": [
    "model.summary()"
   ]
  },
  {
   "cell_type": "code",
   "execution_count": 33,
   "id": "38dbdac9",
   "metadata": {},
   "outputs": [],
   "source": [
    "model.compile(loss = 'CategoricalCrossentropy',\n",
    "             optimizer=RMSprop(learning_rate=0.001),\n",
    "             metrics=['accuracy'])"
   ]
  },
  {
   "cell_type": "code",
   "execution_count": 34,
   "id": "f8caff3f",
   "metadata": {},
   "outputs": [
    {
     "name": "stdout",
     "output_type": "stream",
     "text": [
      "Found 28709 images belonging to 7 classes.\n",
      "Found 7178 images belonging to 7 classes.\n"
     ]
    }
   ],
   "source": [
    "from tensorflow.keras.preprocessing.image import ImageDataGenerator\n",
    "train_gen = ImageDataGenerator(rescale = 1/255)\n",
    "\n",
    "train_data_gen = train_gen.flow_from_directory(train_data , \n",
    "                                              target_size = (48,48),\n",
    "                                              batch_size=10,\n",
    "                                              class_mode=\"categorical\")\n",
    "\n",
    "test_data_gen = train_gen.flow_from_directory(test_data ,\n",
    "                                             target_size = (48,48),\n",
    "                                             batch_size = 10,\n",
    "                                             class_mode = \"categorical\")"
   ]
  },
  {
   "cell_type": "code",
   "execution_count": 35,
   "id": "0d59eb1a",
   "metadata": {},
   "outputs": [
    {
     "name": "stdout",
     "output_type": "stream",
     "text": [
      "Epoch 1/10\n",
      "8/8 [==============================] - 23s 3s/step - loss: 2.0547 - accuracy: 0.1250 - val_loss: 1.8744 - val_accuracy: 0.1833\n",
      "Epoch 2/10\n",
      "8/8 [==============================] - 3s 353ms/step - loss: 1.9158 - accuracy: 0.1500 - val_loss: 1.8651 - val_accuracy: 0.1432\n",
      "Epoch 3/10\n",
      "8/8 [==============================] - 2s 334ms/step - loss: 1.8514 - accuracy: 0.2125 - val_loss: 1.8413 - val_accuracy: 0.1942\n",
      "Epoch 4/10\n",
      "8/8 [==============================] - 2s 340ms/step - loss: 1.8362 - accuracy: 0.2625 - val_loss: 1.8604 - val_accuracy: 0.1718\n",
      "Epoch 5/10\n",
      "8/8 [==============================] - 2s 339ms/step - loss: 1.8390 - accuracy: 0.1500 - val_loss: 1.8394 - val_accuracy: 0.1739\n",
      "Epoch 6/10\n",
      "8/8 [==============================] - 2s 339ms/step - loss: 1.9321 - accuracy: 0.1500 - val_loss: 1.8548 - val_accuracy: 0.2076\n",
      "Epoch 7/10\n",
      "8/8 [==============================] - 2s 324ms/step - loss: 1.8851 - accuracy: 0.2500 - val_loss: 1.8349 - val_accuracy: 0.2471\n",
      "Epoch 8/10\n",
      "8/8 [==============================] - 2s 330ms/step - loss: 1.8485 - accuracy: 0.3125 - val_loss: 1.8263 - val_accuracy: 0.2471\n",
      "Epoch 9/10\n",
      "8/8 [==============================] - 2s 341ms/step - loss: 1.8320 - accuracy: 0.2375 - val_loss: 1.8316 - val_accuracy: 0.2471\n",
      "Epoch 10/10\n",
      "8/8 [==============================] - 2s 339ms/step - loss: 1.9002 - accuracy: 0.2125 - val_loss: 1.8306 - val_accuracy: 0.2474\n"
     ]
    }
   ],
   "source": [
    "model_fiting = model.fit(train_data_gen , steps_per_epoch=8,epochs=10 ,validation_data=test_data_gen, verbose=1 ,batch_size =10)"
   ]
  },
  {
   "cell_type": "code",
   "execution_count": null,
   "id": "37ceb0db",
   "metadata": {},
   "outputs": [],
   "source": []
  }
 ],
 "metadata": {
  "kernelspec": {
   "display_name": "Python 3.6(gpu)",
   "language": "python",
   "name": "tf-gpu"
  },
  "language_info": {
   "codemirror_mode": {
    "name": "ipython",
    "version": 3
   },
   "file_extension": ".py",
   "mimetype": "text/x-python",
   "name": "python",
   "nbconvert_exporter": "python",
   "pygments_lexer": "ipython3",
   "version": "3.6.13"
  }
 },
 "nbformat": 4,
 "nbformat_minor": 5
}
