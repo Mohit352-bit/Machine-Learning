{
  "nbformat": 4,
  "nbformat_minor": 0,
  "metadata": {
    "colab": {
      "provenance": [],
      "mount_file_id": "1ZGQHex-wY0U4uL2iBt4b7quV1tm91_L5",
      "authorship_tag": "ABX9TyMLi7IWvPP9z6JLO6Ut+dZa",
      "include_colab_link": true
    },
    "kernelspec": {
      "name": "python3",
      "display_name": "Python 3"
    },
    "language_info": {
      "name": "python"
    },
    "accelerator": "GPU",
    "gpuClass": "standard"
  },
  "cells": [
    {
      "cell_type": "markdown",
      "metadata": {
        "id": "view-in-github",
        "colab_type": "text"
      },
      "source": [
        "<a href=\"https://colab.research.google.com/github/Mohit352-bit/Machine-Learning/blob/main/Neural%20Network/Horse_Human_Detector.ipynb\" target=\"_parent\"><img src=\"https://colab.research.google.com/assets/colab-badge.svg\" alt=\"Open In Colab\"/></a>"
      ]
    },
    {
      "cell_type": "code",
      "execution_count": null,
      "metadata": {
        "colab": {
          "base_uri": "https://localhost:8080/"
        },
        "id": "D4OKAN0mfThc",
        "outputId": "18a5eaf9-a112-4286-e278-8446567da101"
      },
      "outputs": [
        {
          "output_type": "stream",
          "name": "stdout",
          "text": [
            "Mounted at /content/gdrive\n"
          ]
        }
      ],
      "source": [
        "#mounting(connecting) the gdrive with colab\n",
        "from google.colab import drive\n",
        "drive.mount('/content/gdrive')"
      ]
    },
    {
      "cell_type": "code",
      "source": [
        "# getting the list of all files in myDrive\n",
        "!ls gdrive/MyDrive"
      ],
      "metadata": {
        "colab": {
          "base_uri": "https://localhost:8080/"
        },
        "id": "pCdMGKBgjKOi",
        "outputId": "d96728ab-fdab-4364-cc9a-cd33b99b2e41"
      },
      "execution_count": null,
      "outputs": [
        {
          "output_type": "stream",
          "name": "stdout",
          "text": [
            "'Class 12 Result.pdf'\n",
            "'Colab Notebooks'\n",
            "'Copy of Invoice-Template-sheet-printable-5.gsheet'\n",
            " Horse_Human\n",
            "'How to get started with Drive.pdf'\n",
            " istockphoto-1319763895-612x612.jpg\n",
            " Male_female\n",
            " MohitINT353CA2.pdf\n",
            "'mohit mark.jpg'\n",
            " Mohit-Srivastava.pdf\n",
            " Mohit_Srivastava_resume.pdf\n",
            "'Pasport size '\n",
            " pexels-helena-lopes-1996332.jpg\n",
            " REsume.pdf\n",
            "'Screenshot (111).png'\n",
            "'Screenshot (124).png'\n",
            "'Screenshot 2022-06-30 215216.jpeg.png'\n",
            " Screenshot_2022-09-01-15-42-46-955_net.one97.paytm.jpg\n",
            " Screenshot_2022-09-30-16-23-32-285_com.microsoft.teams.pdf\n",
            "'Screenshot (75).png'\n",
            " tied.jfif\n",
            " unknown.png\n",
            " Untitled1.ipynb\n"
          ]
        }
      ]
    },
    {
      "cell_type": "code",
      "source": [
        "# os lib helps in running os system commands in colab\n",
        "import os\n",
        "\n",
        "# storing path of training horse pictures\n",
        "#train_horse_dir_path = os.path.join('gdrive/MyDrive/Horse_Human/horse-or-human/horses')\n",
        "\n",
        "# storing path of training human pictures\n",
        "#train_human_dir_path = os.path.join('gdrive/MyDrive/Horse_Human/horse-or-human/humans')\n",
        "\n",
        "## or we can directly use\n",
        "train_horse_dir_path = ('gdrive/MyDrive/Horse_Human/horse-or-human/horses')\n",
        "train_human_dir_path = ('gdrive/MyDrive/Horse_Human/horse-or-human/humans')\n",
        "\n",
        "\n"
      ],
      "metadata": {
        "id": "Z9UF7YkUoVrq"
      },
      "execution_count": null,
      "outputs": []
    },
    {
      "cell_type": "code",
      "source": [
        "#viewing files stored in horses adn humans directory with os lib\n",
        "train_horse_names = os.listdir(train_horse_dir_path)\n",
        "print(train_horse_names[:10])\n",
        "train_human_names = os.listdir(train_human_dir_path)\n",
        "print(train_human_names[:10])\n",
        "\n"
      ],
      "metadata": {
        "colab": {
          "base_uri": "https://localhost:8080/"
        },
        "id": "bJoQYVnZjYeC",
        "outputId": "50867443-d1f2-4838-95b4-6b64bac3d1d4"
      },
      "execution_count": null,
      "outputs": [
        {
          "output_type": "stream",
          "name": "stdout",
          "text": [
            "['horse01-5.png', 'horse01-4.png', 'horse01-7.png', 'horse01-6.png', 'horse01-3.png', 'horse01-0.png', 'horse01-1.png', 'horse01-2.png', 'horse05-1.png', 'horse05-2.png']\n",
            "['human01-25.png', 'human01-23.png', 'human01-24.png', 'human01-22.png', 'human01-21.png', 'human01-20.png', 'human01-18.png', 'human01-17.png', 'human01-19.png', 'human01-13.png']\n"
          ]
        }
      ]
    },
    {
      "cell_type": "markdown",
      "source": [
        "# Creating CNN Model ⚓"
      ],
      "metadata": {
        "id": "a7H2IyXohum9"
      }
    },
    {
      "cell_type": "code",
      "source": [
        "import tensorflow as tf\n",
        "from tensorflow.keras.optimizers import RMSprop"
      ],
      "metadata": {
        "id": "eG3fNMxoh2zb"
      },
      "execution_count": null,
      "outputs": []
    },
    {
      "cell_type": "code",
      "source": [
        "model = tf.keras.models.Sequential([\n",
        "    tf.keras.layers.Conv2D(16, (3,3) , input_shape=(300,300,3), activation='relu'),\n",
        "    tf.keras.layers.MaxPool2D(2,2),\n",
        "    tf.keras.layers.Conv2D(32, (3,3), activation='relu'),\n",
        "    tf.keras.layers.MaxPool2D(2,2),\n",
        "    tf.keras.layers.Conv2D(64, (3,3), activation='relu'),\n",
        "    tf.keras.layers.MaxPool2D(2,2),\n",
        "    tf.keras.layers.Conv2D(64, (3,3), activation='relu'),\n",
        "    tf.keras.layers.MaxPool2D(2,2),\n",
        "    tf.keras.layers.Flatten(),\n",
        "    tf.keras.layers.Dense(512 , activation=\"relu\"),\n",
        "    tf.keras.layers.Dense(1, activation = 'sigmoid')\n",
        "])\n",
        "\n",
        "# we are using sigmoid as activation instead of softmax because it works better than softmax in binary classification (i.e. when we have 2 outputs to compare horse and human)\n",
        "# we can also use softmax here as (2 , activation=\"softmax\") but the sigmoid activation is more efficient here.\n",
        "# softmax is used when there is more than 2 calssification\n",
        "\n",
        "## site to learn which is best optimizer --- https://gombru.github.io/2018/05/23/cross_entropy_loss/"
      ],
      "metadata": {
        "id": "AyLMuhWniNwP"
      },
      "execution_count": null,
      "outputs": []
    },
    {
      "cell_type": "code",
      "source": [
        "model.summary()"
      ],
      "metadata": {
        "colab": {
          "base_uri": "https://localhost:8080/"
        },
        "id": "Q_oJvE27kFK2",
        "outputId": "8436ad3f-9ddf-4068-de2a-6e434ae77248"
      },
      "execution_count": null,
      "outputs": [
        {
          "output_type": "stream",
          "name": "stdout",
          "text": [
            "Model: \"sequential\"\n",
            "_________________________________________________________________\n",
            " Layer (type)                Output Shape              Param #   \n",
            "=================================================================\n",
            " conv2d (Conv2D)             (None, 298, 298, 16)      448       \n",
            "                                                                 \n",
            " max_pooling2d (MaxPooling2D  (None, 149, 149, 16)     0         \n",
            " )                                                               \n",
            "                                                                 \n",
            " conv2d_1 (Conv2D)           (None, 147, 147, 32)      4640      \n",
            "                                                                 \n",
            " max_pooling2d_1 (MaxPooling  (None, 73, 73, 32)       0         \n",
            " 2D)                                                             \n",
            "                                                                 \n",
            " conv2d_2 (Conv2D)           (None, 71, 71, 64)        18496     \n",
            "                                                                 \n",
            " max_pooling2d_2 (MaxPooling  (None, 35, 35, 64)       0         \n",
            " 2D)                                                             \n",
            "                                                                 \n",
            " conv2d_3 (Conv2D)           (None, 33, 33, 64)        36928     \n",
            "                                                                 \n",
            " max_pooling2d_3 (MaxPooling  (None, 16, 16, 64)       0         \n",
            " 2D)                                                             \n",
            "                                                                 \n",
            " flatten (Flatten)           (None, 16384)             0         \n",
            "                                                                 \n",
            " dense (Dense)               (None, 512)               8389120   \n",
            "                                                                 \n",
            " dense_1 (Dense)             (None, 1)                 513       \n",
            "                                                                 \n",
            "=================================================================\n",
            "Total params: 8,450,145\n",
            "Trainable params: 8,450,145\n",
            "Non-trainable params: 0\n",
            "_________________________________________________________________\n"
          ]
        }
      ]
    },
    {
      "cell_type": "code",
      "source": [
        "model.compile(loss = 'binary_crossentropy' , \n",
        "              optimizer=RMSprop(learning_rate=0.001) ,\n",
        "              metrics=['accuracy'] )\n",
        "\n",
        "## we are using RMSprop intead of SGD because rmsprop , adam , adagard automatically adapt the learning rate whereas SGD dont\n",
        "## we are using binary crossentropy cause there is binary output \n",
        "# ## site to learn which is best loss function  --- https://gombru.github.io/2018/05/23/cross_entropy_loss/"
      ],
      "metadata": {
        "id": "Sx0hGKA1lbtH"
      },
      "execution_count": null,
      "outputs": []
    },
    {
      "cell_type": "markdown",
      "source": [
        "Now using ImageDataGenrator lib to rescale the image and convert it into binary form,"
      ],
      "metadata": {
        "id": "RgkP9DvQsvJ6"
      }
    },
    {
      "cell_type": "code",
      "source": [
        "from tensorflow.keras.preprocessing.image import ImageDataGenerator\n",
        "\n",
        "train_gen = ImageDataGenerator(rescale = 1/255)\n",
        "\n",
        "train_data = train_gen.flow_from_directory( \n",
        "    \"gdrive/MyDrive/Horse_Human/horse-or-human\", # path of main directory \n",
        "    target_size = (300 ,300) , # resizing all the images to 300x300\n",
        "    batch_size = 128 , #images are taken from the directory in batches and we are taking 128 image per batch\n",
        "    class_mode = \"binary\" # we use binary class mode as loss funtion is using binary crossentropy and output is binary\n",
        "\n",
        ")\n",
        "\n",
        "#for validation set \n",
        "val_gen = ImageDataGenerator(rescale = 1/255)\n",
        "\n",
        "val_data = train_gen.flow_from_directory( \n",
        "    \"gdrive/MyDrive/Horse_Human/validation\",  \n",
        "    target_size = (300 ,300) , \n",
        "    batch_size = 10 , \n",
        "    class_mode = \"binary\"\n",
        ")\n"
      ],
      "metadata": {
        "colab": {
          "base_uri": "https://localhost:8080/"
        },
        "id": "DBVh6ZDKs84W",
        "outputId": "a4ebe59a-002a-45c3-f057-49e3624e277f"
      },
      "execution_count": null,
      "outputs": [
        {
          "output_type": "stream",
          "name": "stdout",
          "text": [
            "Found 1027 images belonging to 2 classes.\n",
            "Found 256 images belonging to 2 classes.\n"
          ]
        }
      ]
    },
    {
      "cell_type": "code",
      "source": [
        "# now training the model\n",
        "\n",
        "model_fiting = model.fit(train_data , steps_per_epoch=8,epochs=15 ,validation_data=val_data, verbose=1)"
      ],
      "metadata": {
        "colab": {
          "base_uri": "https://localhost:8080/"
        },
        "id": "8-8vnDuntG4F",
        "outputId": "c76bde7e-48bb-41bc-fb28-f19899976efd"
      },
      "execution_count": null,
      "outputs": [
        {
          "output_type": "stream",
          "name": "stdout",
          "text": [
            "Epoch 1/15\n",
            "8/8 [==============================] - 12s 1s/step - loss: 1.5994 - accuracy: 0.5400 - val_loss: 1.4971 - val_accuracy: 0.5000\n",
            "Epoch 2/15\n",
            "8/8 [==============================] - 11s 1s/step - loss: 0.7791 - accuracy: 0.6440 - val_loss: 0.4561 - val_accuracy: 0.8633\n",
            "Epoch 3/15\n",
            "8/8 [==============================] - 9s 1s/step - loss: 0.4825 - accuracy: 0.8098 - val_loss: 0.9012 - val_accuracy: 0.7812\n",
            "Epoch 4/15\n",
            "8/8 [==============================] - 9s 1s/step - loss: 0.1846 - accuracy: 0.9288 - val_loss: 3.1187 - val_accuracy: 0.7031\n",
            "Epoch 5/15\n",
            "8/8 [==============================] - 9s 1s/step - loss: 0.2325 - accuracy: 0.9166 - val_loss: 1.4166 - val_accuracy: 0.8242\n",
            "Epoch 6/15\n",
            "8/8 [==============================] - 9s 1s/step - loss: 0.1497 - accuracy: 0.9422 - val_loss: 0.5302 - val_accuracy: 0.8711\n",
            "Epoch 7/15\n",
            "8/8 [==============================] - 9s 1s/step - loss: 0.0648 - accuracy: 0.9744 - val_loss: 1.4354 - val_accuracy: 0.8477\n",
            "Epoch 8/15\n",
            "8/8 [==============================] - 9s 1s/step - loss: 0.0186 - accuracy: 0.9944 - val_loss: 1.7302 - val_accuracy: 0.8594\n",
            "Epoch 9/15\n",
            "8/8 [==============================] - 9s 1s/step - loss: 0.4955 - accuracy: 0.8867 - val_loss: 2.1400 - val_accuracy: 0.6602\n",
            "Epoch 10/15\n",
            "8/8 [==============================] - 9s 1s/step - loss: 0.0657 - accuracy: 0.9700 - val_loss: 2.0262 - val_accuracy: 0.8164\n",
            "Epoch 11/15\n",
            "8/8 [==============================] - 9s 1s/step - loss: 0.0135 - accuracy: 0.9978 - val_loss: 1.7098 - val_accuracy: 0.8477\n",
            "Epoch 12/15\n",
            "8/8 [==============================] - 9s 1s/step - loss: 0.0038 - accuracy: 1.0000 - val_loss: 1.8960 - val_accuracy: 0.8516\n",
            "Epoch 13/15\n",
            "8/8 [==============================] - 9s 1s/step - loss: 0.0013 - accuracy: 1.0000 - val_loss: 2.0673 - val_accuracy: 0.8555\n",
            "Epoch 14/15\n",
            "8/8 [==============================] - 9s 1s/step - loss: 7.9641e-04 - accuracy: 1.0000 - val_loss: 2.6205 - val_accuracy: 0.8281\n",
            "Epoch 15/15\n",
            "8/8 [==============================] - 9s 1s/step - loss: 3.9023e-04 - accuracy: 1.0000 - val_loss: 2.4626 - val_accuracy: 0.8555\n"
          ]
        }
      ]
    },
    {
      "cell_type": "code",
      "source": [
        "import numpy as np\n",
        "from google.colab import files\n",
        "from tensorflow.keras.utils import load_img , img_to_array\n",
        "\n",
        "#used for uploading the file we want to predict\n",
        "uploading_file = files.upload()\n",
        "\n",
        "for fn in uploading_file:\n",
        "  path = 'gdrive/MyDrive/' + fn\n",
        "  image = load_img(path , target_size=(300,300))\n",
        "  x = img_to_array(image)\n",
        "  x = x/225\n",
        "  x = np.expand_dims(x , axis=0)\n",
        "\n",
        "  images = np.vstack([x])\n",
        "  pred_res = model.predict(images , batch_size=10)\n",
        "  print(pred_res[0])\n",
        "  if pred_res[0]>0.5:\n",
        "    print(fn + \" is a human\")\n",
        "  else:\n",
        "    print(fn + \" is a horse\")"
      ],
      "metadata": {
        "colab": {
          "base_uri": "https://localhost:8080/",
          "height": 219
        },
        "id": "xLXQqYCmvSvT",
        "outputId": "da5ade2b-717f-42be-cdd2-ebd0aeca23c9"
      },
      "execution_count": null,
      "outputs": [
        {
          "output_type": "display_data",
          "data": {
            "text/plain": [
              "<IPython.core.display.HTML object>"
            ],
            "text/html": [
              "\n",
              "     <input type=\"file\" id=\"files-dc0bea5c-686f-4922-888d-63ce8b127f16\" name=\"files[]\" multiple disabled\n",
              "        style=\"border:none\" />\n",
              "     <output id=\"result-dc0bea5c-686f-4922-888d-63ce8b127f16\">\n",
              "      Upload widget is only available when the cell has been executed in the\n",
              "      current browser session. Please rerun this cell to enable.\n",
              "      </output>\n",
              "      <script>// Copyright 2017 Google LLC\n",
              "//\n",
              "// Licensed under the Apache License, Version 2.0 (the \"License\");\n",
              "// you may not use this file except in compliance with the License.\n",
              "// You may obtain a copy of the License at\n",
              "//\n",
              "//      http://www.apache.org/licenses/LICENSE-2.0\n",
              "//\n",
              "// Unless required by applicable law or agreed to in writing, software\n",
              "// distributed under the License is distributed on an \"AS IS\" BASIS,\n",
              "// WITHOUT WARRANTIES OR CONDITIONS OF ANY KIND, either express or implied.\n",
              "// See the License for the specific language governing permissions and\n",
              "// limitations under the License.\n",
              "\n",
              "/**\n",
              " * @fileoverview Helpers for google.colab Python module.\n",
              " */\n",
              "(function(scope) {\n",
              "function span(text, styleAttributes = {}) {\n",
              "  const element = document.createElement('span');\n",
              "  element.textContent = text;\n",
              "  for (const key of Object.keys(styleAttributes)) {\n",
              "    element.style[key] = styleAttributes[key];\n",
              "  }\n",
              "  return element;\n",
              "}\n",
              "\n",
              "// Max number of bytes which will be uploaded at a time.\n",
              "const MAX_PAYLOAD_SIZE = 100 * 1024;\n",
              "\n",
              "function _uploadFiles(inputId, outputId) {\n",
              "  const steps = uploadFilesStep(inputId, outputId);\n",
              "  const outputElement = document.getElementById(outputId);\n",
              "  // Cache steps on the outputElement to make it available for the next call\n",
              "  // to uploadFilesContinue from Python.\n",
              "  outputElement.steps = steps;\n",
              "\n",
              "  return _uploadFilesContinue(outputId);\n",
              "}\n",
              "\n",
              "// This is roughly an async generator (not supported in the browser yet),\n",
              "// where there are multiple asynchronous steps and the Python side is going\n",
              "// to poll for completion of each step.\n",
              "// This uses a Promise to block the python side on completion of each step,\n",
              "// then passes the result of the previous step as the input to the next step.\n",
              "function _uploadFilesContinue(outputId) {\n",
              "  const outputElement = document.getElementById(outputId);\n",
              "  const steps = outputElement.steps;\n",
              "\n",
              "  const next = steps.next(outputElement.lastPromiseValue);\n",
              "  return Promise.resolve(next.value.promise).then((value) => {\n",
              "    // Cache the last promise value to make it available to the next\n",
              "    // step of the generator.\n",
              "    outputElement.lastPromiseValue = value;\n",
              "    return next.value.response;\n",
              "  });\n",
              "}\n",
              "\n",
              "/**\n",
              " * Generator function which is called between each async step of the upload\n",
              " * process.\n",
              " * @param {string} inputId Element ID of the input file picker element.\n",
              " * @param {string} outputId Element ID of the output display.\n",
              " * @return {!Iterable<!Object>} Iterable of next steps.\n",
              " */\n",
              "function* uploadFilesStep(inputId, outputId) {\n",
              "  const inputElement = document.getElementById(inputId);\n",
              "  inputElement.disabled = false;\n",
              "\n",
              "  const outputElement = document.getElementById(outputId);\n",
              "  outputElement.innerHTML = '';\n",
              "\n",
              "  const pickedPromise = new Promise((resolve) => {\n",
              "    inputElement.addEventListener('change', (e) => {\n",
              "      resolve(e.target.files);\n",
              "    });\n",
              "  });\n",
              "\n",
              "  const cancel = document.createElement('button');\n",
              "  inputElement.parentElement.appendChild(cancel);\n",
              "  cancel.textContent = 'Cancel upload';\n",
              "  const cancelPromise = new Promise((resolve) => {\n",
              "    cancel.onclick = () => {\n",
              "      resolve(null);\n",
              "    };\n",
              "  });\n",
              "\n",
              "  // Wait for the user to pick the files.\n",
              "  const files = yield {\n",
              "    promise: Promise.race([pickedPromise, cancelPromise]),\n",
              "    response: {\n",
              "      action: 'starting',\n",
              "    }\n",
              "  };\n",
              "\n",
              "  cancel.remove();\n",
              "\n",
              "  // Disable the input element since further picks are not allowed.\n",
              "  inputElement.disabled = true;\n",
              "\n",
              "  if (!files) {\n",
              "    return {\n",
              "      response: {\n",
              "        action: 'complete',\n",
              "      }\n",
              "    };\n",
              "  }\n",
              "\n",
              "  for (const file of files) {\n",
              "    const li = document.createElement('li');\n",
              "    li.append(span(file.name, {fontWeight: 'bold'}));\n",
              "    li.append(span(\n",
              "        `(${file.type || 'n/a'}) - ${file.size} bytes, ` +\n",
              "        `last modified: ${\n",
              "            file.lastModifiedDate ? file.lastModifiedDate.toLocaleDateString() :\n",
              "                                    'n/a'} - `));\n",
              "    const percent = span('0% done');\n",
              "    li.appendChild(percent);\n",
              "\n",
              "    outputElement.appendChild(li);\n",
              "\n",
              "    const fileDataPromise = new Promise((resolve) => {\n",
              "      const reader = new FileReader();\n",
              "      reader.onload = (e) => {\n",
              "        resolve(e.target.result);\n",
              "      };\n",
              "      reader.readAsArrayBuffer(file);\n",
              "    });\n",
              "    // Wait for the data to be ready.\n",
              "    let fileData = yield {\n",
              "      promise: fileDataPromise,\n",
              "      response: {\n",
              "        action: 'continue',\n",
              "      }\n",
              "    };\n",
              "\n",
              "    // Use a chunked sending to avoid message size limits. See b/62115660.\n",
              "    let position = 0;\n",
              "    do {\n",
              "      const length = Math.min(fileData.byteLength - position, MAX_PAYLOAD_SIZE);\n",
              "      const chunk = new Uint8Array(fileData, position, length);\n",
              "      position += length;\n",
              "\n",
              "      const base64 = btoa(String.fromCharCode.apply(null, chunk));\n",
              "      yield {\n",
              "        response: {\n",
              "          action: 'append',\n",
              "          file: file.name,\n",
              "          data: base64,\n",
              "        },\n",
              "      };\n",
              "\n",
              "      let percentDone = fileData.byteLength === 0 ?\n",
              "          100 :\n",
              "          Math.round((position / fileData.byteLength) * 100);\n",
              "      percent.textContent = `${percentDone}% done`;\n",
              "\n",
              "    } while (position < fileData.byteLength);\n",
              "  }\n",
              "\n",
              "  // All done.\n",
              "  yield {\n",
              "    response: {\n",
              "      action: 'complete',\n",
              "    }\n",
              "  };\n",
              "}\n",
              "\n",
              "scope.google = scope.google || {};\n",
              "scope.google.colab = scope.google.colab || {};\n",
              "scope.google.colab._files = {\n",
              "  _uploadFiles,\n",
              "  _uploadFilesContinue,\n",
              "};\n",
              "})(self);\n",
              "</script> "
            ]
          },
          "metadata": {}
        },
        {
          "output_type": "stream",
          "name": "stdout",
          "text": [
            "Saving istockphoto-1319763895-612x612.jpg to istockphoto-1319763895-612x612.jpg\n",
            "Saving pexels-helena-lopes-1996332.jpg to pexels-helena-lopes-1996332.jpg\n",
            "1/1 [==============================] - 0s 271ms/step\n",
            "[0.9996954]\n",
            "istockphoto-1319763895-612x612.jpg is a human\n",
            "1/1 [==============================] - 0s 17ms/step\n",
            "[1.3016664e-11]\n",
            "pexels-helena-lopes-1996332.jpg is a horse\n"
          ]
        }
      ]
    },
    {
      "cell_type": "markdown",
      "source": [
        "### Checking if our model is overfitting or not"
      ],
      "metadata": {
        "id": "u7XztM-O-uym"
      }
    },
    {
      "cell_type": "code",
      "source": [
        "#storing every accuracy and validation accuracy value in a list\n",
        "#history - this funtion stores the value of acc , val_acc\n",
        "acc = model_fiting.history[\"accuracy\"]\n",
        "validation_acc = model_fiting.history[\"val_accuracy\"]\n",
        "print(acc)\n",
        "print(validation_acc)"
      ],
      "metadata": {
        "id": "oOT6Q6Hm4lxd",
        "colab": {
          "base_uri": "https://localhost:8080/"
        },
        "outputId": "38832d6f-5b5f-42f2-aeca-6b59bebe2562"
      },
      "execution_count": null,
      "outputs": [
        {
          "output_type": "stream",
          "name": "stdout",
          "text": [
            "[0.5400390625, 0.6440489292144775, 0.8097886443138123, 0.9288097620010376, 0.9165739417076111, 0.9421579241752625, 0.9744160175323486, 0.9944382905960083, 0.88671875, 0.9699666500091553, 0.9977753162384033, 1.0, 1.0, 1.0, 1.0]\n",
            "[0.5, 0.86328125, 0.78125, 0.703125, 0.82421875, 0.87109375, 0.84765625, 0.859375, 0.66015625, 0.81640625, 0.84765625, 0.8515625, 0.85546875, 0.828125, 0.85546875]\n"
          ]
        }
      ]
    },
    {
      "cell_type": "code",
      "source": [
        "\n",
        "import matplotlib.pyplot as plt\n",
        "epochs=range(len(acc))\n",
        "plt.plot(epochs ,acc )\n",
        "plt.plot(epochs, validation_acc)\n",
        "plt.show()"
      ],
      "metadata": {
        "id": "RaYlxYf7VxUl",
        "colab": {
          "base_uri": "https://localhost:8080/",
          "height": 265
        },
        "outputId": "20e1fbfd-1f19-4d93-8f88-43d974cfe6a3"
      },
      "execution_count": null,
      "outputs": [
        {
          "output_type": "display_data",
          "data": {
            "text/plain": [
              "<Figure size 432x288 with 1 Axes>"
            ],
            "image/png": "[encoded data removed]"
          },
          "metadata": {
            "needs_background": "light"
          }
        }
      ]
    },
    {
      "cell_type": "markdown",
      "source": [
        "Since , validation set is stoping at approx 0.85 accuracy and training data is touching 1 accurancy we can eaisly see that our model is overfitting \n",
        "One reason is that our training data is less.\n",
        "Second reason is that we are not using agumentation(i.e. rotating and moving image size so that our model can train on even rotated images like sleeping cat )"
      ],
      "metadata": {
        "id": "McERbDVH_RwR"
      }
    },
    {
      "cell_type": "markdown",
      "source": [
        "# Using Agumentation\n",
        "with augumentation our data size increases as every images are rotated and moved for better training of model\n",
        "\n",
        "These rotated and moved images do not get stored in our disk we it is temporarily stored in memory and used during training of model."
      ],
      "metadata": {
        "id": "wzlYqUkZGfbk"
      }
    },
    {
      "cell_type": "code",
      "source": [
        "from tensorflow.keras.preprocessing.image import ImageDataGenerator\n",
        "\n",
        "train_gen = ImageDataGenerator(\n",
        "    rescale = 1/255,\n",
        "    rotation_range=40,#rotates the image in 0 to 40 degree range randomly\n",
        "    width_shift_range=0.2,\n",
        "    height_shift_range=0.2,\n",
        "    shear_range=0.2, \n",
        "    zoom_range=0.2,\n",
        "    horizontal_flip=True,\n",
        "    fill_mode='nearest'# lost pixels are replaced by the nearest pixels\n",
        ")\n",
        "\n",
        "train_data = train_gen.flow_from_directory( \n",
        "    \"gdrive/MyDrive/Horse_Human/horse-or-human\", \n",
        "    target_size = (300 ,300) , \n",
        "    batch_size = 128 , \n",
        "    class_mode = \"binary\" \n",
        "\n",
        ")\n",
        "\n",
        "#for validation set \n",
        "val_gen = ImageDataGenerator(rescale = 1/255)\n",
        "\n",
        "val_data = val_gen.flow_from_directory( \n",
        "    \"gdrive/MyDrive/Horse_Human/validation\",  \n",
        "    target_size = (300 ,300) , \n",
        "    batch_size = 10 , \n",
        "    class_mode = \"binary\"\n",
        ")"
      ],
      "metadata": {
        "colab": {
          "base_uri": "https://localhost:8080/"
        },
        "id": "_5F7eR8-HW_X",
        "outputId": "abb59365-cff6-425b-eed5-e08c19941b20"
      },
      "execution_count": null,
      "outputs": [
        {
          "output_type": "stream",
          "name": "stdout",
          "text": [
            "Found 1027 images belonging to 2 classes.\n",
            "Found 256 images belonging to 2 classes.\n"
          ]
        }
      ]
    },
    {
      "cell_type": "code",
      "source": [
        "# now training the model\n",
        "\n",
        "model_fiting = model.fit(train_data , steps_per_epoch=8,epochs=50 ,validation_data=val_data, verbose=1)"
      ],
      "metadata": {
        "colab": {
          "base_uri": "https://localhost:8080/"
        },
        "id": "CHr_aVK-IEtT",
        "outputId": "2ef48748-08d8-4701-c8f5-ce17cabf4a96"
      },
      "execution_count": null,
      "outputs": [
        {
          "output_type": "stream",
          "name": "stdout",
          "text": [
            "Epoch 1/50\n",
            "8/8 [==============================] - 336s 41s/step - loss: 2.2252 - accuracy: 0.5139 - val_loss: 0.7292 - val_accuracy: 0.5000\n",
            "Epoch 2/50\n",
            "8/8 [==============================] - 23s 3s/step - loss: 0.6429 - accuracy: 0.6463 - val_loss: 0.7021 - val_accuracy: 0.5000\n",
            "Epoch 3/50\n",
            "8/8 [==============================] - 23s 3s/step - loss: 0.7121 - accuracy: 0.6185 - val_loss: 0.7024 - val_accuracy: 0.5000\n",
            "Epoch 4/50\n",
            "8/8 [==============================] - 23s 3s/step - loss: 0.5810 - accuracy: 0.6730 - val_loss: 0.9455 - val_accuracy: 0.5000\n",
            "Epoch 5/50\n",
            "8/8 [==============================] - 25s 3s/step - loss: 0.5599 - accuracy: 0.7002 - val_loss: 1.7452 - val_accuracy: 0.5117\n",
            "Epoch 6/50\n",
            "8/8 [==============================] - 23s 3s/step - loss: 0.5396 - accuracy: 0.7264 - val_loss: 1.7411 - val_accuracy: 0.5000\n",
            "Epoch 7/50\n",
            "8/8 [==============================] - 23s 3s/step - loss: 0.5518 - accuracy: 0.7197 - val_loss: 0.8133 - val_accuracy: 0.5586\n",
            "Epoch 8/50\n",
            "8/8 [==============================] - 23s 3s/step - loss: 0.7042 - accuracy: 0.6897 - val_loss: 1.7776 - val_accuracy: 0.5312\n",
            "Epoch 9/50\n",
            "8/8 [==============================] - 23s 3s/step - loss: 0.4998 - accuracy: 0.7597 - val_loss: 0.9320 - val_accuracy: 0.5391\n",
            "Epoch 10/50\n",
            "8/8 [==============================] - 23s 3s/step - loss: 0.4731 - accuracy: 0.7675 - val_loss: 0.5412 - val_accuracy: 0.8125\n",
            "Epoch 11/50\n",
            "8/8 [==============================] - 25s 3s/step - loss: 0.7142 - accuracy: 0.7564 - val_loss: 2.2906 - val_accuracy: 0.5156\n",
            "Epoch 12/50\n",
            "8/8 [==============================] - 23s 3s/step - loss: 0.4073 - accuracy: 0.8131 - val_loss: 1.7672 - val_accuracy: 0.5547\n",
            "Epoch 13/50\n",
            "8/8 [==============================] - 25s 3s/step - loss: 0.4018 - accuracy: 0.8105 - val_loss: 3.3599 - val_accuracy: 0.5117\n",
            "Epoch 14/50\n",
            "8/8 [==============================] - 23s 3s/step - loss: 0.5698 - accuracy: 0.7775 - val_loss: 1.0207 - val_accuracy: 0.5664\n",
            "Epoch 15/50\n",
            "8/8 [==============================] - 23s 3s/step - loss: 0.4055 - accuracy: 0.8220 - val_loss: 1.1407 - val_accuracy: 0.6016\n",
            "Epoch 16/50\n",
            "8/8 [==============================] - 23s 3s/step - loss: 0.4329 - accuracy: 0.8031 - val_loss: 3.7796 - val_accuracy: 0.5039\n",
            "Epoch 17/50\n",
            "8/8 [==============================] - 23s 3s/step - loss: 0.3187 - accuracy: 0.8565 - val_loss: 0.8375 - val_accuracy: 0.6406\n",
            "Epoch 18/50\n",
            "8/8 [==============================] - 25s 3s/step - loss: 0.2817 - accuracy: 0.8809 - val_loss: 3.9256 - val_accuracy: 0.5078\n",
            "Epoch 19/50\n",
            "8/8 [==============================] - 25s 3s/step - loss: 0.3212 - accuracy: 0.8665 - val_loss: 0.4469 - val_accuracy: 0.7852\n",
            "Epoch 20/50\n",
            "8/8 [==============================] - 23s 3s/step - loss: 0.5835 - accuracy: 0.7942 - val_loss: 4.7800 - val_accuracy: 0.5508\n",
            "Epoch 21/50\n",
            "8/8 [==============================] - 23s 3s/step - loss: 0.2782 - accuracy: 0.8821 - val_loss: 6.2546 - val_accuracy: 0.5078\n",
            "Epoch 22/50\n",
            "8/8 [==============================] - 23s 3s/step - loss: 0.3964 - accuracy: 0.8765 - val_loss: 2.7322 - val_accuracy: 0.5547\n",
            "Epoch 23/50\n",
            "8/8 [==============================] - 23s 3s/step - loss: 0.3405 - accuracy: 0.8776 - val_loss: 3.7980 - val_accuracy: 0.5156\n",
            "Epoch 24/50\n",
            "8/8 [==============================] - 23s 3s/step - loss: 0.2566 - accuracy: 0.9032 - val_loss: 4.9748 - val_accuracy: 0.5547\n",
            "Epoch 25/50\n",
            "8/8 [==============================] - 24s 3s/step - loss: 0.1636 - accuracy: 0.9333 - val_loss: 5.7777 - val_accuracy: 0.5469\n",
            "Epoch 26/50\n",
            "8/8 [==============================] - 25s 3s/step - loss: 0.2726 - accuracy: 0.8888 - val_loss: 3.5668 - val_accuracy: 0.5586\n",
            "Epoch 27/50\n",
            "8/8 [==============================] - 25s 3s/step - loss: 0.3283 - accuracy: 0.8779 - val_loss: 5.3238 - val_accuracy: 0.5430\n",
            "Epoch 28/50\n",
            "8/8 [==============================] - 23s 3s/step - loss: 0.4136 - accuracy: 0.8665 - val_loss: 2.2027 - val_accuracy: 0.5508\n",
            "Epoch 29/50\n",
            "8/8 [==============================] - 23s 3s/step - loss: 0.2489 - accuracy: 0.8943 - val_loss: 4.2730 - val_accuracy: 0.5273\n",
            "Epoch 30/50\n",
            "8/8 [==============================] - 23s 3s/step - loss: 0.1696 - accuracy: 0.9321 - val_loss: 7.4437 - val_accuracy: 0.5273\n",
            "Epoch 31/50\n",
            "8/8 [==============================] - 26s 3s/step - loss: 0.2121 - accuracy: 0.9121 - val_loss: 4.0280 - val_accuracy: 0.5586\n",
            "Epoch 32/50\n",
            "8/8 [==============================] - 25s 3s/step - loss: 0.6487 - accuracy: 0.8420 - val_loss: 2.4071 - val_accuracy: 0.6094\n",
            "Epoch 33/50\n",
            "8/8 [==============================] - 23s 3s/step - loss: 0.1572 - accuracy: 0.9388 - val_loss: 5.4241 - val_accuracy: 0.5625\n",
            "Epoch 34/50\n",
            "8/8 [==============================] - 25s 3s/step - loss: 0.1727 - accuracy: 0.9277 - val_loss: 3.0674 - val_accuracy: 0.5938\n",
            "Epoch 35/50\n",
            "8/8 [==============================] - 23s 3s/step - loss: 0.2019 - accuracy: 0.9132 - val_loss: 4.1642 - val_accuracy: 0.5547\n",
            "Epoch 36/50\n",
            "8/8 [==============================] - 23s 3s/step - loss: 0.1611 - accuracy: 0.9399 - val_loss: 4.1050 - val_accuracy: 0.5820\n",
            "Epoch 37/50\n",
            "8/8 [==============================] - 23s 3s/step - loss: 0.3131 - accuracy: 0.8932 - val_loss: 9.0383 - val_accuracy: 0.5352\n",
            "Epoch 38/50\n",
            "8/8 [==============================] - 23s 3s/step - loss: 0.1690 - accuracy: 0.9455 - val_loss: 11.8003 - val_accuracy: 0.5156\n",
            "Epoch 39/50\n",
            "8/8 [==============================] - 24s 3s/step - loss: 0.2562 - accuracy: 0.8999 - val_loss: 3.0779 - val_accuracy: 0.6016\n",
            "Epoch 40/50\n",
            "8/8 [==============================] - 23s 3s/step - loss: 0.0851 - accuracy: 0.9755 - val_loss: 3.2560 - val_accuracy: 0.6445\n",
            "Epoch 41/50\n",
            "8/8 [==============================] - 23s 3s/step - loss: 0.1090 - accuracy: 0.9655 - val_loss: 8.8892 - val_accuracy: 0.5391\n",
            "Epoch 42/50\n",
            "8/8 [==============================] - 23s 3s/step - loss: 0.1410 - accuracy: 0.9444 - val_loss: 2.5479 - val_accuracy: 0.6602\n",
            "Epoch 43/50\n",
            "8/8 [==============================] - 23s 3s/step - loss: 0.0735 - accuracy: 0.9755 - val_loss: 1.7681 - val_accuracy: 0.7305\n",
            "Epoch 44/50\n",
            "8/8 [==============================] - 23s 3s/step - loss: 0.5246 - accuracy: 0.8799 - val_loss: 0.4923 - val_accuracy: 0.8359\n",
            "Epoch 45/50\n",
            "8/8 [==============================] - 23s 3s/step - loss: 0.1305 - accuracy: 0.9611 - val_loss: 3.8527 - val_accuracy: 0.6055\n",
            "Epoch 46/50\n",
            "8/8 [==============================] - 26s 4s/step - loss: 0.1458 - accuracy: 0.9366 - val_loss: 3.2730 - val_accuracy: 0.6055\n",
            "Epoch 47/50\n",
            "8/8 [==============================] - 23s 3s/step - loss: 0.1199 - accuracy: 0.9555 - val_loss: 3.1587 - val_accuracy: 0.6172\n",
            "Epoch 48/50\n",
            "8/8 [==============================] - 23s 3s/step - loss: 0.0908 - accuracy: 0.9677 - val_loss: 2.4105 - val_accuracy: 0.7148\n",
            "Epoch 49/50\n",
            "8/8 [==============================] - 23s 3s/step - loss: 0.1158 - accuracy: 0.9600 - val_loss: 4.8388 - val_accuracy: 0.5977\n",
            "Epoch 50/50\n",
            "8/8 [==============================] - 23s 3s/step - loss: 0.0443 - accuracy: 0.9811 - val_loss: 2.1077 - val_accuracy: 0.7344\n"
          ]
        }
      ]
    },
    {
      "cell_type": "code",
      "source": [
        "import numpy as np\n",
        "from google.colab import files\n",
        "from tensorflow.keras.utils import load_img , img_to_array\n",
        "\n",
        "#used for uploading the file we want to predict\n",
        "uploading_file = files.upload()\n",
        "\n",
        "for fn in uploading_file:\n",
        "  path = 'gdrive/MyDrive/' + fn\n",
        "  image = load_img(path , target_size=(300,300))\n",
        "  x = img_to_array(image)\n",
        "  x = x/225\n",
        "  x = np.expand_dims(x , axis=0)\n",
        "\n",
        "  images = np.vstack([x])\n",
        "  pred_res = model.predict(images , batch_size=10)\n",
        "  print(pred_res[0])\n",
        "  if pred_res[0]>0.5:\n",
        "    print(fn + \" is a human\")\n",
        "  else:\n",
        "    print(fn + \" is a horse\")"
      ],
      "metadata": {
        "colab": {
          "base_uri": "https://localhost:8080/",
          "height": 219
        },
        "id": "kY0qI1dsIEli",
        "outputId": "ac7e07a2-0155-4aaf-abb1-ca3956f5038a"
      },
      "execution_count": null,
      "outputs": [
        {
          "output_type": "display_data",
          "data": {
            "text/plain": [
              "<IPython.core.display.HTML object>"
            ],
            "text/html": [
              "\n",
              "     <input type=\"file\" id=\"files-0bd0d815-ce24-4bc1-bc9b-c856177a0c6a\" name=\"files[]\" multiple disabled\n",
              "        style=\"border:none\" />\n",
              "     <output id=\"result-0bd0d815-ce24-4bc1-bc9b-c856177a0c6a\">\n",
              "      Upload widget is only available when the cell has been executed in the\n",
              "      current browser session. Please rerun this cell to enable.\n",
              "      </output>\n",
              "      <script>// Copyright 2017 Google LLC\n",
              "//\n",
              "// Licensed under the Apache License, Version 2.0 (the \"License\");\n",
              "// you may not use this file except in compliance with the License.\n",
              "// You may obtain a copy of the License at\n",
              "//\n",
              "//      http://www.apache.org/licenses/LICENSE-2.0\n",
              "//\n",
              "// Unless required by applicable law or agreed to in writing, software\n",
              "// distributed under the License is distributed on an \"AS IS\" BASIS,\n",
              "// WITHOUT WARRANTIES OR CONDITIONS OF ANY KIND, either express or implied.\n",
              "// See the License for the specific language governing permissions and\n",
              "// limitations under the License.\n",
              "\n",
              "/**\n",
              " * @fileoverview Helpers for google.colab Python module.\n",
              " */\n",
              "(function(scope) {\n",
              "function span(text, styleAttributes = {}) {\n",
              "  const element = document.createElement('span');\n",
              "  element.textContent = text;\n",
              "  for (const key of Object.keys(styleAttributes)) {\n",
              "    element.style[key] = styleAttributes[key];\n",
              "  }\n",
              "  return element;\n",
              "}\n",
              "\n",
              "// Max number of bytes which will be uploaded at a time.\n",
              "const MAX_PAYLOAD_SIZE = 100 * 1024;\n",
              "\n",
              "function _uploadFiles(inputId, outputId) {\n",
              "  const steps = uploadFilesStep(inputId, outputId);\n",
              "  const outputElement = document.getElementById(outputId);\n",
              "  // Cache steps on the outputElement to make it available for the next call\n",
              "  // to uploadFilesContinue from Python.\n",
              "  outputElement.steps = steps;\n",
              "\n",
              "  return _uploadFilesContinue(outputId);\n",
              "}\n",
              "\n",
              "// This is roughly an async generator (not supported in the browser yet),\n",
              "// where there are multiple asynchronous steps and the Python side is going\n",
              "// to poll for completion of each step.\n",
              "// This uses a Promise to block the python side on completion of each step,\n",
              "// then passes the result of the previous step as the input to the next step.\n",
              "function _uploadFilesContinue(outputId) {\n",
              "  const outputElement = document.getElementById(outputId);\n",
              "  const steps = outputElement.steps;\n",
              "\n",
              "  const next = steps.next(outputElement.lastPromiseValue);\n",
              "  return Promise.resolve(next.value.promise).then((value) => {\n",
              "    // Cache the last promise value to make it available to the next\n",
              "    // step of the generator.\n",
              "    outputElement.lastPromiseValue = value;\n",
              "    return next.value.response;\n",
              "  });\n",
              "}\n",
              "\n",
              "/**\n",
              " * Generator function which is called between each async step of the upload\n",
              " * process.\n",
              " * @param {string} inputId Element ID of the input file picker element.\n",
              " * @param {string} outputId Element ID of the output display.\n",
              " * @return {!Iterable<!Object>} Iterable of next steps.\n",
              " */\n",
              "function* uploadFilesStep(inputId, outputId) {\n",
              "  const inputElement = document.getElementById(inputId);\n",
              "  inputElement.disabled = false;\n",
              "\n",
              "  const outputElement = document.getElementById(outputId);\n",
              "  outputElement.innerHTML = '';\n",
              "\n",
              "  const pickedPromise = new Promise((resolve) => {\n",
              "    inputElement.addEventListener('change', (e) => {\n",
              "      resolve(e.target.files);\n",
              "    });\n",
              "  });\n",
              "\n",
              "  const cancel = document.createElement('button');\n",
              "  inputElement.parentElement.appendChild(cancel);\n",
              "  cancel.textContent = 'Cancel upload';\n",
              "  const cancelPromise = new Promise((resolve) => {\n",
              "    cancel.onclick = () => {\n",
              "      resolve(null);\n",
              "    };\n",
              "  });\n",
              "\n",
              "  // Wait for the user to pick the files.\n",
              "  const files = yield {\n",
              "    promise: Promise.race([pickedPromise, cancelPromise]),\n",
              "    response: {\n",
              "      action: 'starting',\n",
              "    }\n",
              "  };\n",
              "\n",
              "  cancel.remove();\n",
              "\n",
              "  // Disable the input element since further picks are not allowed.\n",
              "  inputElement.disabled = true;\n",
              "\n",
              "  if (!files) {\n",
              "    return {\n",
              "      response: {\n",
              "        action: 'complete',\n",
              "      }\n",
              "    };\n",
              "  }\n",
              "\n",
              "  for (const file of files) {\n",
              "    const li = document.createElement('li');\n",
              "    li.append(span(file.name, {fontWeight: 'bold'}));\n",
              "    li.append(span(\n",
              "        `(${file.type || 'n/a'}) - ${file.size} bytes, ` +\n",
              "        `last modified: ${\n",
              "            file.lastModifiedDate ? file.lastModifiedDate.toLocaleDateString() :\n",
              "                                    'n/a'} - `));\n",
              "    const percent = span('0% done');\n",
              "    li.appendChild(percent);\n",
              "\n",
              "    outputElement.appendChild(li);\n",
              "\n",
              "    const fileDataPromise = new Promise((resolve) => {\n",
              "      const reader = new FileReader();\n",
              "      reader.onload = (e) => {\n",
              "        resolve(e.target.result);\n",
              "      };\n",
              "      reader.readAsArrayBuffer(file);\n",
              "    });\n",
              "    // Wait for the data to be ready.\n",
              "    let fileData = yield {\n",
              "      promise: fileDataPromise,\n",
              "      response: {\n",
              "        action: 'continue',\n",
              "      }\n",
              "    };\n",
              "\n",
              "    // Use a chunked sending to avoid message size limits. See b/62115660.\n",
              "    let position = 0;\n",
              "    do {\n",
              "      const length = Math.min(fileData.byteLength - position, MAX_PAYLOAD_SIZE);\n",
              "      const chunk = new Uint8Array(fileData, position, length);\n",
              "      position += length;\n",
              "\n",
              "      const base64 = btoa(String.fromCharCode.apply(null, chunk));\n",
              "      yield {\n",
              "        response: {\n",
              "          action: 'append',\n",
              "          file: file.name,\n",
              "          data: base64,\n",
              "        },\n",
              "      };\n",
              "\n",
              "      let percentDone = fileData.byteLength === 0 ?\n",
              "          100 :\n",
              "          Math.round((position / fileData.byteLength) * 100);\n",
              "      percent.textContent = `${percentDone}% done`;\n",
              "\n",
              "    } while (position < fileData.byteLength);\n",
              "  }\n",
              "\n",
              "  // All done.\n",
              "  yield {\n",
              "    response: {\n",
              "      action: 'complete',\n",
              "    }\n",
              "  };\n",
              "}\n",
              "\n",
              "scope.google = scope.google || {};\n",
              "scope.google.colab = scope.google.colab || {};\n",
              "scope.google.colab._files = {\n",
              "  _uploadFiles,\n",
              "  _uploadFilesContinue,\n",
              "};\n",
              "})(self);\n",
              "</script> "
            ]
          },
          "metadata": {}
        },
        {
          "output_type": "stream",
          "name": "stdout",
          "text": [
            "Saving istockphoto-1319763895-612x612.jpg to istockphoto-1319763895-612x612.jpg\n",
            "Saving pexels-helena-lopes-1996332.jpg to pexels-helena-lopes-1996332.jpg\n",
            "1/1 [==============================] - 0s 228ms/step\n",
            "[1.]\n",
            "istockphoto-1319763895-612x612.jpg is a human\n",
            "1/1 [==============================] - 0s 24ms/step\n",
            "[0.01732159]\n",
            "pexels-helena-lopes-1996332.jpg is a horse\n"
          ]
        }
      ]
    },
    {
      "cell_type": "code",
      "source": [
        "acc = model_fiting.history[\"accuracy\"]\n",
        "validation_acc = model_fiting.history[\"val_accuracy\"]\n",
        "print(acc)\n",
        "print(validation_acc)"
      ],
      "metadata": {
        "colab": {
          "base_uri": "https://localhost:8080/"
        },
        "id": "g7lgy0JVIEbi",
        "outputId": "a004cc8a-bed8-4c3a-cbb1-5dd10650c148"
      },
      "execution_count": null,
      "outputs": [
        {
          "output_type": "stream",
          "name": "stdout",
          "text": [
            "[0.513904333114624, 0.6462736129760742, 0.6184649467468262, 0.6729699373245239, 0.7001953125, 0.7263626456260681, 0.7196885347366333, 0.6896551847457886, 0.7597330212593079, 0.767519474029541, 0.7563959956169128, 0.8131256699562073, 0.810546875, 0.7775306105613708, 0.8220244646072388, 0.8031145930290222, 0.8565072417259216, 0.880859375, 0.8665183782577515, 0.7942157983779907, 0.882091224193573, 0.8765294551849365, 0.8776417970657349, 0.9032257795333862, 0.9332591891288757, 0.888765275478363, 0.8779296875, 0.8665183782577515, 0.8943270444869995, 0.9321468472480774, 0.912109375, 0.8420467376708984, 0.9388208985328674, 0.927734375, 0.9132369160652161, 0.9399332404136658, 0.8932147026062012, 0.9454950094223022, 0.8998887538909912, 0.975528359413147, 0.9655172228813171, 0.9443826675415039, 0.975528359413147, 0.8798665404319763, 0.9610678553581238, 0.9365962147712708, 0.9555061459541321, 0.9677419066429138, 0.9599555134773254, 0.9810901284217834]\n",
            "[0.5, 0.5, 0.5, 0.5, 0.51171875, 0.5, 0.55859375, 0.53125, 0.5390625, 0.8125, 0.515625, 0.5546875, 0.51171875, 0.56640625, 0.6015625, 0.50390625, 0.640625, 0.5078125, 0.78515625, 0.55078125, 0.5078125, 0.5546875, 0.515625, 0.5546875, 0.546875, 0.55859375, 0.54296875, 0.55078125, 0.52734375, 0.52734375, 0.55859375, 0.609375, 0.5625, 0.59375, 0.5546875, 0.58203125, 0.53515625, 0.515625, 0.6015625, 0.64453125, 0.5390625, 0.66015625, 0.73046875, 0.8359375, 0.60546875, 0.60546875, 0.6171875, 0.71484375, 0.59765625, 0.734375]\n"
          ]
        }
      ]
    },
    {
      "cell_type": "code",
      "source": [
        "import matplotlib.pyplot as plt\n",
        "epochs=range(len(acc))\n",
        "plt.plot(epochs ,acc )\n",
        "\n",
        "plt.show()"
      ],
      "metadata": {
        "colab": {
          "base_uri": "https://localhost:8080/",
          "height": 267
        },
        "id": "O0DGIj2LIPFo",
        "outputId": "17f67823-b22b-4d05-8108-6c985ea2635c"
      },
      "execution_count": null,
      "outputs": [
        {
          "output_type": "display_data",
          "data": {
            "text/plain": [
              "<Figure size 432x288 with 1 Axes>"
            ],
            "image/png": "[encoded data removed]"
          },
          "metadata": {
            "needs_background": "light"
          }
        }
      ]
    },
    {
      "cell_type": "markdown",
      "source": [
        "From agumentation we can se that our model  is not much overfiting as it is gradually moving to highest accuracy. Here we are getting huge variable result in validation because the validation set images are not properly taken in this data set. When validation set are good we can see quite good amount of change in model training after augumentation is applied.\n",
        "\n"
      ],
      "metadata": {
        "id": "G2ExniE_26Hk"
      }
    },
    {
      "cell_type": "code",
      "source": [],
      "metadata": {
        "id": "Ae-eJNa920wc"
      },
      "execution_count": null,
      "outputs": []
    },
    {
      "cell_type": "code",
      "source": [],
      "metadata": {
        "id": "rI8Xt9aWtN1I"
      },
      "execution_count": null,
      "outputs": []
    },
    {
      "cell_type": "code",
      "source": [],
      "metadata": {
        "id": "xWrOi_vWtP0i"
      },
      "execution_count": null,
      "outputs": []
    }
  ]
}